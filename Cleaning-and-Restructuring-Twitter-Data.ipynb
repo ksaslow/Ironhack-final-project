{
 "cells": [
  {
   "cell_type": "code",
   "execution_count": 1,
   "metadata": {},
   "outputs": [],
   "source": [
    "import json\n",
    "import tweepy\n",
    "import pandas as pd\n",
    "import numpy as np\n",
    "import nltk"
   ]
  },
  {
   "cell_type": "markdown",
   "metadata": {},
   "source": [
    "### Import dataframe of tweets:"
   ]
  },
  {
   "cell_type": "code",
   "execution_count": 44,
   "metadata": {},
   "outputs": [],
   "source": [
    "data_large = pd.read_csv('tweets_from_tweepy_large.csv')"
   ]
  },
  {
   "cell_type": "code",
   "execution_count": 45,
   "metadata": {},
   "outputs": [
    {
     "data": {
      "text/html": [
       "<div>\n",
       "<style scoped>\n",
       "    .dataframe tbody tr th:only-of-type {\n",
       "        vertical-align: middle;\n",
       "    }\n",
       "\n",
       "    .dataframe tbody tr th {\n",
       "        vertical-align: top;\n",
       "    }\n",
       "\n",
       "    .dataframe thead th {\n",
       "        text-align: right;\n",
       "    }\n",
       "</style>\n",
       "<table border=\"1\" class=\"dataframe\">\n",
       "  <thead>\n",
       "    <tr style=\"text-align: right;\">\n",
       "      <th></th>\n",
       "      <th>Unnamed: 0</th>\n",
       "      <th>0</th>\n",
       "      <th>Handle</th>\n",
       "      <th>ID</th>\n",
       "      <th>CreatedAt</th>\n",
       "      <th>Location</th>\n",
       "    </tr>\n",
       "  </thead>\n",
       "  <tbody>\n",
       "    <tr>\n",
       "      <th>0</th>\n",
       "      <td>0</td>\n",
       "      <td>RT @z_edian: Unser @snv_berlin Expert:innenwor...</td>\n",
       "      <td>christinacrupp</td>\n",
       "      <td>1359905846659059713</td>\n",
       "      <td>2021-02-11 16:43:14</td>\n",
       "      <td>NaN</td>\n",
       "    </tr>\n",
       "    <tr>\n",
       "      <th>1</th>\n",
       "      <td>1</td>\n",
       "      <td>RT @rachel_groves: Daily goals: Wake up early....</td>\n",
       "      <td>joscchh</td>\n",
       "      <td>1359905846659059713</td>\n",
       "      <td>2021-02-11 16:43:14</td>\n",
       "      <td>NaN</td>\n",
       "    </tr>\n",
       "    <tr>\n",
       "      <th>2</th>\n",
       "      <td>2</td>\n",
       "      <td>RT @michael_adler_: Fing gut an! Bonn braucht ...</td>\n",
       "      <td>joscchh</td>\n",
       "      <td>1359101568390414337</td>\n",
       "      <td>2021-02-09 11:27:19</td>\n",
       "      <td>NaN</td>\n",
       "    </tr>\n",
       "    <tr>\n",
       "      <th>3</th>\n",
       "      <td>3</td>\n",
       "      <td>RT @EurAsiaBridgeEU: good topic - well done.</td>\n",
       "      <td>joscchh</td>\n",
       "      <td>1359019191358156802</td>\n",
       "      <td>2021-02-09 05:59:59</td>\n",
       "      <td>NaN</td>\n",
       "    </tr>\n",
       "    <tr>\n",
       "      <th>4</th>\n",
       "      <td>4</td>\n",
       "      <td>Gestern haben @Lichtemomente, @askans, @michae...</td>\n",
       "      <td>joscchh</td>\n",
       "      <td>1359015354828210176</td>\n",
       "      <td>2021-02-09 05:44:44</td>\n",
       "      <td>NaN</td>\n",
       "    </tr>\n",
       "  </tbody>\n",
       "</table>\n",
       "</div>"
      ],
      "text/plain": [
       "   Unnamed: 0                                                  0  \\\n",
       "0           0  RT @z_edian: Unser @snv_berlin Expert:innenwor...   \n",
       "1           1  RT @rachel_groves: Daily goals: Wake up early....   \n",
       "2           2  RT @michael_adler_: Fing gut an! Bonn braucht ...   \n",
       "3           3       RT @EurAsiaBridgeEU: good topic - well done.   \n",
       "4           4  Gestern haben @Lichtemomente, @askans, @michae...   \n",
       "\n",
       "           Handle                   ID            CreatedAt  Location  \n",
       "0  christinacrupp  1359905846659059713  2021-02-11 16:43:14       NaN  \n",
       "1         joscchh  1359905846659059713  2021-02-11 16:43:14       NaN  \n",
       "2         joscchh  1359101568390414337  2021-02-09 11:27:19       NaN  \n",
       "3         joscchh  1359019191358156802  2021-02-09 05:59:59       NaN  \n",
       "4         joscchh  1359015354828210176  2021-02-09 05:44:44       NaN  "
      ]
     },
     "execution_count": 45,
     "metadata": {},
     "output_type": "execute_result"
    }
   ],
   "source": [
    "data_large.head()"
   ]
  },
  {
   "cell_type": "code",
   "execution_count": 46,
   "metadata": {},
   "outputs": [
    {
     "data": {
      "text/plain": [
       "(10953, 6)"
      ]
     },
     "execution_count": 46,
     "metadata": {},
     "output_type": "execute_result"
    }
   ],
   "source": [
    "data_large.shape\n",
    "\n",
    "# 10953 tweets extracted from 554 Twitter Followers"
   ]
  },
  {
   "cell_type": "code",
   "execution_count": 47,
   "metadata": {},
   "outputs": [
    {
     "data": {
      "text/plain": [
       "10953"
      ]
     },
     "execution_count": 47,
     "metadata": {},
     "output_type": "execute_result"
    }
   ],
   "source": [
    "len(data_large['Handle'])"
   ]
  },
  {
   "cell_type": "code",
   "execution_count": 48,
   "metadata": {},
   "outputs": [],
   "source": [
    "data_large.drop('Unnamed: 0', axis=1, inplace=True)"
   ]
  },
  {
   "cell_type": "code",
   "execution_count": 49,
   "metadata": {},
   "outputs": [
    {
     "data": {
      "text/html": [
       "<div>\n",
       "<style scoped>\n",
       "    .dataframe tbody tr th:only-of-type {\n",
       "        vertical-align: middle;\n",
       "    }\n",
       "\n",
       "    .dataframe tbody tr th {\n",
       "        vertical-align: top;\n",
       "    }\n",
       "\n",
       "    .dataframe thead th {\n",
       "        text-align: right;\n",
       "    }\n",
       "</style>\n",
       "<table border=\"1\" class=\"dataframe\">\n",
       "  <thead>\n",
       "    <tr style=\"text-align: right;\">\n",
       "      <th></th>\n",
       "      <th>Unnamed: 0</th>\n",
       "      <th>Follower</th>\n",
       "      <th>Handle</th>\n",
       "      <th>Location</th>\n",
       "      <th>UserDescription</th>\n",
       "    </tr>\n",
       "  </thead>\n",
       "  <tbody>\n",
       "    <tr>\n",
       "      <th>0</th>\n",
       "      <td>0</td>\n",
       "      <td>Christina Rupp</td>\n",
       "      <td>christinacrupp</td>\n",
       "      <td>Bonn, Deutschland</td>\n",
       "      <td>Project Assistant International Cybersecurity ...</td>\n",
       "    </tr>\n",
       "    <tr>\n",
       "      <th>1</th>\n",
       "      <td>1</td>\n",
       "      <td>Johanna Schäfer</td>\n",
       "      <td>joscchh</td>\n",
       "      <td>Bonn, Deutschland</td>\n",
       "      <td>CEO @BonnLAB, urban developer &amp; #SocialMedia e...</td>\n",
       "    </tr>\n",
       "    <tr>\n",
       "      <th>2</th>\n",
       "      <td>2</td>\n",
       "      <td>John Miller</td>\n",
       "      <td>JohnMillerTX</td>\n",
       "      <td>Fort Worth, TX</td>\n",
       "      <td>#Analytics leader dealing in #machinelearning,...</td>\n",
       "    </tr>\n",
       "    <tr>\n",
       "      <th>3</th>\n",
       "      <td>3</td>\n",
       "      <td>Rosanna Fanni</td>\n",
       "      <td>rosannafanni</td>\n",
       "      <td>NaN</td>\n",
       "      <td>monitoring the European public-political sphere</td>\n",
       "    </tr>\n",
       "    <tr>\n",
       "      <th>4</th>\n",
       "      <td>4</td>\n",
       "      <td>Lottie Lane</td>\n",
       "      <td>lottielane_</td>\n",
       "      <td>Groningen, Nederland</td>\n",
       "      <td>Assistant Prof. and Postdoc at @univgroningen\\...</td>\n",
       "    </tr>\n",
       "  </tbody>\n",
       "</table>\n",
       "</div>"
      ],
      "text/plain": [
       "   Unnamed: 0         Follower          Handle              Location  \\\n",
       "0           0   Christina Rupp  christinacrupp     Bonn, Deutschland   \n",
       "1           1  Johanna Schäfer         joscchh     Bonn, Deutschland   \n",
       "2           2      John Miller    JohnMillerTX        Fort Worth, TX   \n",
       "3           3    Rosanna Fanni    rosannafanni                   NaN   \n",
       "4           4      Lottie Lane     lottielane_  Groningen, Nederland   \n",
       "\n",
       "                                     UserDescription  \n",
       "0  Project Assistant International Cybersecurity ...  \n",
       "1  CEO @BonnLAB, urban developer & #SocialMedia e...  \n",
       "2  #Analytics leader dealing in #machinelearning,...  \n",
       "3    monitoring the European public-political sphere  \n",
       "4  Assistant Prof. and Postdoc at @univgroningen\\...  "
      ]
     },
     "execution_count": 49,
     "metadata": {},
     "output_type": "execute_result"
    }
   ],
   "source": [
    "# Import dataframe with the Friends Information (including name, handle, location, description, etc)\n",
    "followers_df = pd.read_csv('twitter_followers_info_df.csv')\n",
    "followers_df.head()"
   ]
  },
  {
   "cell_type": "code",
   "execution_count": 50,
   "metadata": {},
   "outputs": [
    {
     "data": {
      "text/plain": [
       "(587, 5)"
      ]
     },
     "execution_count": 50,
     "metadata": {},
     "output_type": "execute_result"
    }
   ],
   "source": [
    "followers_df.shape"
   ]
  },
  {
   "cell_type": "code",
   "execution_count": 51,
   "metadata": {},
   "outputs": [],
   "source": [
    "followers_df.drop('Unnamed: 0', axis=1, inplace=True)"
   ]
  },
  {
   "cell_type": "markdown",
   "metadata": {},
   "source": [
    "### Merge the two dataframes to have Name, Handle, Tweet, and Location in one dataframe.\n",
    "Merge on `'Handle'` "
   ]
  },
  {
   "cell_type": "code",
   "execution_count": 52,
   "metadata": {},
   "outputs": [],
   "source": [
    "df1 = data_large\n",
    "df2 = followers_df\n",
    "\n",
    "df = pd.merge(df1, df2, how='left', on='Handle')"
   ]
  },
  {
   "cell_type": "code",
   "execution_count": 53,
   "metadata": {},
   "outputs": [
    {
     "data": {
      "text/html": [
       "<div>\n",
       "<style scoped>\n",
       "    .dataframe tbody tr th:only-of-type {\n",
       "        vertical-align: middle;\n",
       "    }\n",
       "\n",
       "    .dataframe tbody tr th {\n",
       "        vertical-align: top;\n",
       "    }\n",
       "\n",
       "    .dataframe thead th {\n",
       "        text-align: right;\n",
       "    }\n",
       "</style>\n",
       "<table border=\"1\" class=\"dataframe\">\n",
       "  <thead>\n",
       "    <tr style=\"text-align: right;\">\n",
       "      <th></th>\n",
       "      <th>0</th>\n",
       "      <th>Handle</th>\n",
       "      <th>ID</th>\n",
       "      <th>CreatedAt</th>\n",
       "      <th>Location_x</th>\n",
       "      <th>Follower</th>\n",
       "      <th>Location_y</th>\n",
       "      <th>UserDescription</th>\n",
       "    </tr>\n",
       "  </thead>\n",
       "  <tbody>\n",
       "    <tr>\n",
       "      <th>0</th>\n",
       "      <td>RT @z_edian: Unser @snv_berlin Expert:innenwor...</td>\n",
       "      <td>christinacrupp</td>\n",
       "      <td>1359905846659059713</td>\n",
       "      <td>2021-02-11 16:43:14</td>\n",
       "      <td>NaN</td>\n",
       "      <td>Christina Rupp</td>\n",
       "      <td>Bonn, Deutschland</td>\n",
       "      <td>Project Assistant International Cybersecurity ...</td>\n",
       "    </tr>\n",
       "    <tr>\n",
       "      <th>1</th>\n",
       "      <td>RT @rachel_groves: Daily goals: Wake up early....</td>\n",
       "      <td>joscchh</td>\n",
       "      <td>1359905846659059713</td>\n",
       "      <td>2021-02-11 16:43:14</td>\n",
       "      <td>NaN</td>\n",
       "      <td>Johanna Schäfer</td>\n",
       "      <td>Bonn, Deutschland</td>\n",
       "      <td>CEO @BonnLAB, urban developer &amp; #SocialMedia e...</td>\n",
       "    </tr>\n",
       "    <tr>\n",
       "      <th>2</th>\n",
       "      <td>RT @michael_adler_: Fing gut an! Bonn braucht ...</td>\n",
       "      <td>joscchh</td>\n",
       "      <td>1359101568390414337</td>\n",
       "      <td>2021-02-09 11:27:19</td>\n",
       "      <td>NaN</td>\n",
       "      <td>Johanna Schäfer</td>\n",
       "      <td>Bonn, Deutschland</td>\n",
       "      <td>CEO @BonnLAB, urban developer &amp; #SocialMedia e...</td>\n",
       "    </tr>\n",
       "    <tr>\n",
       "      <th>3</th>\n",
       "      <td>RT @EurAsiaBridgeEU: good topic - well done.</td>\n",
       "      <td>joscchh</td>\n",
       "      <td>1359019191358156802</td>\n",
       "      <td>2021-02-09 05:59:59</td>\n",
       "      <td>NaN</td>\n",
       "      <td>Johanna Schäfer</td>\n",
       "      <td>Bonn, Deutschland</td>\n",
       "      <td>CEO @BonnLAB, urban developer &amp; #SocialMedia e...</td>\n",
       "    </tr>\n",
       "    <tr>\n",
       "      <th>4</th>\n",
       "      <td>Gestern haben @Lichtemomente, @askans, @michae...</td>\n",
       "      <td>joscchh</td>\n",
       "      <td>1359015354828210176</td>\n",
       "      <td>2021-02-09 05:44:44</td>\n",
       "      <td>NaN</td>\n",
       "      <td>Johanna Schäfer</td>\n",
       "      <td>Bonn, Deutschland</td>\n",
       "      <td>CEO @BonnLAB, urban developer &amp; #SocialMedia e...</td>\n",
       "    </tr>\n",
       "  </tbody>\n",
       "</table>\n",
       "</div>"
      ],
      "text/plain": [
       "                                                   0          Handle  \\\n",
       "0  RT @z_edian: Unser @snv_berlin Expert:innenwor...  christinacrupp   \n",
       "1  RT @rachel_groves: Daily goals: Wake up early....         joscchh   \n",
       "2  RT @michael_adler_: Fing gut an! Bonn braucht ...         joscchh   \n",
       "3       RT @EurAsiaBridgeEU: good topic - well done.         joscchh   \n",
       "4  Gestern haben @Lichtemomente, @askans, @michae...         joscchh   \n",
       "\n",
       "                    ID            CreatedAt  Location_x         Follower  \\\n",
       "0  1359905846659059713  2021-02-11 16:43:14         NaN   Christina Rupp   \n",
       "1  1359905846659059713  2021-02-11 16:43:14         NaN  Johanna Schäfer   \n",
       "2  1359101568390414337  2021-02-09 11:27:19         NaN  Johanna Schäfer   \n",
       "3  1359019191358156802  2021-02-09 05:59:59         NaN  Johanna Schäfer   \n",
       "4  1359015354828210176  2021-02-09 05:44:44         NaN  Johanna Schäfer   \n",
       "\n",
       "          Location_y                                    UserDescription  \n",
       "0  Bonn, Deutschland  Project Assistant International Cybersecurity ...  \n",
       "1  Bonn, Deutschland  CEO @BonnLAB, urban developer & #SocialMedia e...  \n",
       "2  Bonn, Deutschland  CEO @BonnLAB, urban developer & #SocialMedia e...  \n",
       "3  Bonn, Deutschland  CEO @BonnLAB, urban developer & #SocialMedia e...  \n",
       "4  Bonn, Deutschland  CEO @BonnLAB, urban developer & #SocialMedia e...  "
      ]
     },
     "execution_count": 53,
     "metadata": {},
     "output_type": "execute_result"
    }
   ],
   "source": [
    "df.shape\n",
    "df.head()"
   ]
  },
  {
   "cell_type": "code",
   "execution_count": 54,
   "metadata": {},
   "outputs": [],
   "source": [
    "df.rename(columns={'0':'TweetText', 'Location_x':'Geocode', 'Location_y':'Location'}, inplace=True)"
   ]
  },
  {
   "cell_type": "code",
   "execution_count": 55,
   "metadata": {},
   "outputs": [
    {
     "data": {
      "text/html": [
       "<div>\n",
       "<style scoped>\n",
       "    .dataframe tbody tr th:only-of-type {\n",
       "        vertical-align: middle;\n",
       "    }\n",
       "\n",
       "    .dataframe tbody tr th {\n",
       "        vertical-align: top;\n",
       "    }\n",
       "\n",
       "    .dataframe thead th {\n",
       "        text-align: right;\n",
       "    }\n",
       "</style>\n",
       "<table border=\"1\" class=\"dataframe\">\n",
       "  <thead>\n",
       "    <tr style=\"text-align: right;\">\n",
       "      <th></th>\n",
       "      <th>TweetText</th>\n",
       "      <th>Handle</th>\n",
       "      <th>ID</th>\n",
       "      <th>CreatedAt</th>\n",
       "      <th>Geocode</th>\n",
       "      <th>Follower</th>\n",
       "      <th>Location</th>\n",
       "      <th>UserDescription</th>\n",
       "    </tr>\n",
       "  </thead>\n",
       "  <tbody>\n",
       "    <tr>\n",
       "      <th>0</th>\n",
       "      <td>RT @z_edian: Unser @snv_berlin Expert:innenwor...</td>\n",
       "      <td>christinacrupp</td>\n",
       "      <td>1359905846659059713</td>\n",
       "      <td>2021-02-11 16:43:14</td>\n",
       "      <td>NaN</td>\n",
       "      <td>Christina Rupp</td>\n",
       "      <td>Bonn, Deutschland</td>\n",
       "      <td>Project Assistant International Cybersecurity ...</td>\n",
       "    </tr>\n",
       "    <tr>\n",
       "      <th>1</th>\n",
       "      <td>RT @rachel_groves: Daily goals: Wake up early....</td>\n",
       "      <td>joscchh</td>\n",
       "      <td>1359905846659059713</td>\n",
       "      <td>2021-02-11 16:43:14</td>\n",
       "      <td>NaN</td>\n",
       "      <td>Johanna Schäfer</td>\n",
       "      <td>Bonn, Deutschland</td>\n",
       "      <td>CEO @BonnLAB, urban developer &amp; #SocialMedia e...</td>\n",
       "    </tr>\n",
       "    <tr>\n",
       "      <th>2</th>\n",
       "      <td>RT @michael_adler_: Fing gut an! Bonn braucht ...</td>\n",
       "      <td>joscchh</td>\n",
       "      <td>1359101568390414337</td>\n",
       "      <td>2021-02-09 11:27:19</td>\n",
       "      <td>NaN</td>\n",
       "      <td>Johanna Schäfer</td>\n",
       "      <td>Bonn, Deutschland</td>\n",
       "      <td>CEO @BonnLAB, urban developer &amp; #SocialMedia e...</td>\n",
       "    </tr>\n",
       "    <tr>\n",
       "      <th>3</th>\n",
       "      <td>RT @EurAsiaBridgeEU: good topic - well done.</td>\n",
       "      <td>joscchh</td>\n",
       "      <td>1359019191358156802</td>\n",
       "      <td>2021-02-09 05:59:59</td>\n",
       "      <td>NaN</td>\n",
       "      <td>Johanna Schäfer</td>\n",
       "      <td>Bonn, Deutschland</td>\n",
       "      <td>CEO @BonnLAB, urban developer &amp; #SocialMedia e...</td>\n",
       "    </tr>\n",
       "    <tr>\n",
       "      <th>4</th>\n",
       "      <td>Gestern haben @Lichtemomente, @askans, @michae...</td>\n",
       "      <td>joscchh</td>\n",
       "      <td>1359015354828210176</td>\n",
       "      <td>2021-02-09 05:44:44</td>\n",
       "      <td>NaN</td>\n",
       "      <td>Johanna Schäfer</td>\n",
       "      <td>Bonn, Deutschland</td>\n",
       "      <td>CEO @BonnLAB, urban developer &amp; #SocialMedia e...</td>\n",
       "    </tr>\n",
       "  </tbody>\n",
       "</table>\n",
       "</div>"
      ],
      "text/plain": [
       "                                           TweetText          Handle  \\\n",
       "0  RT @z_edian: Unser @snv_berlin Expert:innenwor...  christinacrupp   \n",
       "1  RT @rachel_groves: Daily goals: Wake up early....         joscchh   \n",
       "2  RT @michael_adler_: Fing gut an! Bonn braucht ...         joscchh   \n",
       "3       RT @EurAsiaBridgeEU: good topic - well done.         joscchh   \n",
       "4  Gestern haben @Lichtemomente, @askans, @michae...         joscchh   \n",
       "\n",
       "                    ID            CreatedAt  Geocode         Follower  \\\n",
       "0  1359905846659059713  2021-02-11 16:43:14      NaN   Christina Rupp   \n",
       "1  1359905846659059713  2021-02-11 16:43:14      NaN  Johanna Schäfer   \n",
       "2  1359101568390414337  2021-02-09 11:27:19      NaN  Johanna Schäfer   \n",
       "3  1359019191358156802  2021-02-09 05:59:59      NaN  Johanna Schäfer   \n",
       "4  1359015354828210176  2021-02-09 05:44:44      NaN  Johanna Schäfer   \n",
       "\n",
       "            Location                                    UserDescription  \n",
       "0  Bonn, Deutschland  Project Assistant International Cybersecurity ...  \n",
       "1  Bonn, Deutschland  CEO @BonnLAB, urban developer & #SocialMedia e...  \n",
       "2  Bonn, Deutschland  CEO @BonnLAB, urban developer & #SocialMedia e...  \n",
       "3  Bonn, Deutschland  CEO @BonnLAB, urban developer & #SocialMedia e...  \n",
       "4  Bonn, Deutschland  CEO @BonnLAB, urban developer & #SocialMedia e...  "
      ]
     },
     "execution_count": 55,
     "metadata": {},
     "output_type": "execute_result"
    }
   ],
   "source": [
    "df.head()"
   ]
  },
  {
   "cell_type": "code",
   "execution_count": 56,
   "metadata": {},
   "outputs": [
    {
     "data": {
      "text/plain": [
       "(10953, 8)"
      ]
     },
     "execution_count": 56,
     "metadata": {},
     "output_type": "execute_result"
    }
   ],
   "source": [
    "df.shape"
   ]
  },
  {
   "cell_type": "code",
   "execution_count": 57,
   "metadata": {},
   "outputs": [
    {
     "data": {
      "text/plain": [
       "TweetText           object\n",
       "Handle              object\n",
       "ID                   int64\n",
       "CreatedAt           object\n",
       "Geocode            float64\n",
       "Follower            object\n",
       "Location            object\n",
       "UserDescription     object\n",
       "dtype: object"
      ]
     },
     "execution_count": 57,
     "metadata": {},
     "output_type": "execute_result"
    }
   ],
   "source": [
    "df.dtypes\n",
    "\n",
    "# change CreatedAt column to datetime"
   ]
  },
  {
   "cell_type": "markdown",
   "metadata": {},
   "source": [
    "### Cleaning the Location data. \n",
    "Make sure all cities/states are coded as country:"
   ]
  },
  {
   "cell_type": "code",
   "execution_count": 18,
   "metadata": {},
   "outputs": [],
   "source": [
    "locations = df['Location'].unique()"
   ]
  },
  {
   "cell_type": "code",
   "execution_count": 19,
   "metadata": {},
   "outputs": [
    {
     "data": {
      "text/plain": [
       "207"
      ]
     },
     "execution_count": 19,
     "metadata": {},
     "output_type": "execute_result"
    }
   ],
   "source": [
    "len(locations)"
   ]
  },
  {
   "cell_type": "code",
   "execution_count": 30,
   "metadata": {},
   "outputs": [],
   "source": [
    "# Export locations df as csv, code (0: drop, 1: USA, 2: Germany) in excel, import coded locations as csv and merge with tweets df."
   ]
  },
  {
   "cell_type": "code",
   "execution_count": 22,
   "metadata": {},
   "outputs": [],
   "source": [
    "excel = pd.DataFrame(locations)"
   ]
  },
  {
   "cell_type": "code",
   "execution_count": 23,
   "metadata": {},
   "outputs": [],
   "source": [
    "excel.to_csv('locations_to_code.csv')"
   ]
  },
  {
   "cell_type": "code",
   "execution_count": 62,
   "metadata": {},
   "outputs": [],
   "source": [
    "### Recode the locations in excel and import the new csv\n",
    "\n",
    "locations_coded = pd.read_csv('locations_coded.csv')"
   ]
  },
  {
   "cell_type": "code",
   "execution_count": 63,
   "metadata": {},
   "outputs": [],
   "source": [
    "locations_coded.drop('Unnamed: 0', axis=1, inplace=True)"
   ]
  },
  {
   "cell_type": "code",
   "execution_count": 64,
   "metadata": {},
   "outputs": [],
   "source": [
    "locations_coded.rename(columns={'0':'Location', '1':'Location_code'}, inplace=True)"
   ]
  },
  {
   "cell_type": "code",
   "execution_count": 65,
   "metadata": {},
   "outputs": [
    {
     "data": {
      "text/html": [
       "<div>\n",
       "<style scoped>\n",
       "    .dataframe tbody tr th:only-of-type {\n",
       "        vertical-align: middle;\n",
       "    }\n",
       "\n",
       "    .dataframe tbody tr th {\n",
       "        vertical-align: top;\n",
       "    }\n",
       "\n",
       "    .dataframe thead th {\n",
       "        text-align: right;\n",
       "    }\n",
       "</style>\n",
       "<table border=\"1\" class=\"dataframe\">\n",
       "  <thead>\n",
       "    <tr style=\"text-align: right;\">\n",
       "      <th></th>\n",
       "      <th>Location</th>\n",
       "      <th>Location_code</th>\n",
       "    </tr>\n",
       "  </thead>\n",
       "  <tbody>\n",
       "    <tr>\n",
       "      <th>0</th>\n",
       "      <td>Bonn, Deutschland</td>\n",
       "      <td>2</td>\n",
       "    </tr>\n",
       "    <tr>\n",
       "      <th>1</th>\n",
       "      <td>Fort Worth, TX</td>\n",
       "      <td>1</td>\n",
       "    </tr>\n",
       "    <tr>\n",
       "      <th>2</th>\n",
       "      <td>NaN</td>\n",
       "      <td>0</td>\n",
       "    </tr>\n",
       "    <tr>\n",
       "      <th>3</th>\n",
       "      <td>Groningen, Nederland</td>\n",
       "      <td>0</td>\n",
       "    </tr>\n",
       "    <tr>\n",
       "      <th>4</th>\n",
       "      <td>London</td>\n",
       "      <td>0</td>\n",
       "    </tr>\n",
       "  </tbody>\n",
       "</table>\n",
       "</div>"
      ],
      "text/plain": [
       "               Location  Location_code\n",
       "0     Bonn, Deutschland              2\n",
       "1        Fort Worth, TX              1\n",
       "2                   NaN              0\n",
       "3  Groningen, Nederland              0\n",
       "4                London              0"
      ]
     },
     "execution_count": 65,
     "metadata": {},
     "output_type": "execute_result"
    }
   ],
   "source": [
    "locations_coded.head()"
   ]
  },
  {
   "cell_type": "code",
   "execution_count": 73,
   "metadata": {},
   "outputs": [],
   "source": [
    "# merge tweets df and location codes:\n",
    "\n",
    "df = df.merge(locations_coded, on='Location', how='left')"
   ]
  },
  {
   "cell_type": "code",
   "execution_count": 74,
   "metadata": {},
   "outputs": [
    {
     "data": {
      "text/html": [
       "<div>\n",
       "<style scoped>\n",
       "    .dataframe tbody tr th:only-of-type {\n",
       "        vertical-align: middle;\n",
       "    }\n",
       "\n",
       "    .dataframe tbody tr th {\n",
       "        vertical-align: top;\n",
       "    }\n",
       "\n",
       "    .dataframe thead th {\n",
       "        text-align: right;\n",
       "    }\n",
       "</style>\n",
       "<table border=\"1\" class=\"dataframe\">\n",
       "  <thead>\n",
       "    <tr style=\"text-align: right;\">\n",
       "      <th></th>\n",
       "      <th>TweetText</th>\n",
       "      <th>Handle</th>\n",
       "      <th>ID</th>\n",
       "      <th>CreatedAt</th>\n",
       "      <th>Geocode</th>\n",
       "      <th>Follower</th>\n",
       "      <th>Location</th>\n",
       "      <th>UserDescription</th>\n",
       "      <th>Location_code</th>\n",
       "    </tr>\n",
       "  </thead>\n",
       "  <tbody>\n",
       "    <tr>\n",
       "      <th>0</th>\n",
       "      <td>RT @z_edian: Unser @snv_berlin Expert:innenwor...</td>\n",
       "      <td>christinacrupp</td>\n",
       "      <td>1359905846659059713</td>\n",
       "      <td>2021-02-11 16:43:14</td>\n",
       "      <td>NaN</td>\n",
       "      <td>Christina Rupp</td>\n",
       "      <td>Bonn, Deutschland</td>\n",
       "      <td>Project Assistant International Cybersecurity ...</td>\n",
       "      <td>2.0</td>\n",
       "    </tr>\n",
       "    <tr>\n",
       "      <th>1</th>\n",
       "      <td>RT @rachel_groves: Daily goals: Wake up early....</td>\n",
       "      <td>joscchh</td>\n",
       "      <td>1359905846659059713</td>\n",
       "      <td>2021-02-11 16:43:14</td>\n",
       "      <td>NaN</td>\n",
       "      <td>Johanna Schäfer</td>\n",
       "      <td>Bonn, Deutschland</td>\n",
       "      <td>CEO @BonnLAB, urban developer &amp; #SocialMedia e...</td>\n",
       "      <td>2.0</td>\n",
       "    </tr>\n",
       "    <tr>\n",
       "      <th>2</th>\n",
       "      <td>RT @michael_adler_: Fing gut an! Bonn braucht ...</td>\n",
       "      <td>joscchh</td>\n",
       "      <td>1359101568390414337</td>\n",
       "      <td>2021-02-09 11:27:19</td>\n",
       "      <td>NaN</td>\n",
       "      <td>Johanna Schäfer</td>\n",
       "      <td>Bonn, Deutschland</td>\n",
       "      <td>CEO @BonnLAB, urban developer &amp; #SocialMedia e...</td>\n",
       "      <td>2.0</td>\n",
       "    </tr>\n",
       "    <tr>\n",
       "      <th>3</th>\n",
       "      <td>RT @EurAsiaBridgeEU: good topic - well done.</td>\n",
       "      <td>joscchh</td>\n",
       "      <td>1359019191358156802</td>\n",
       "      <td>2021-02-09 05:59:59</td>\n",
       "      <td>NaN</td>\n",
       "      <td>Johanna Schäfer</td>\n",
       "      <td>Bonn, Deutschland</td>\n",
       "      <td>CEO @BonnLAB, urban developer &amp; #SocialMedia e...</td>\n",
       "      <td>2.0</td>\n",
       "    </tr>\n",
       "    <tr>\n",
       "      <th>4</th>\n",
       "      <td>Gestern haben @Lichtemomente, @askans, @michae...</td>\n",
       "      <td>joscchh</td>\n",
       "      <td>1359015354828210176</td>\n",
       "      <td>2021-02-09 05:44:44</td>\n",
       "      <td>NaN</td>\n",
       "      <td>Johanna Schäfer</td>\n",
       "      <td>Bonn, Deutschland</td>\n",
       "      <td>CEO @BonnLAB, urban developer &amp; #SocialMedia e...</td>\n",
       "      <td>2.0</td>\n",
       "    </tr>\n",
       "  </tbody>\n",
       "</table>\n",
       "</div>"
      ],
      "text/plain": [
       "                                           TweetText          Handle  \\\n",
       "0  RT @z_edian: Unser @snv_berlin Expert:innenwor...  christinacrupp   \n",
       "1  RT @rachel_groves: Daily goals: Wake up early....         joscchh   \n",
       "2  RT @michael_adler_: Fing gut an! Bonn braucht ...         joscchh   \n",
       "3       RT @EurAsiaBridgeEU: good topic - well done.         joscchh   \n",
       "4  Gestern haben @Lichtemomente, @askans, @michae...         joscchh   \n",
       "\n",
       "                    ID            CreatedAt  Geocode         Follower  \\\n",
       "0  1359905846659059713  2021-02-11 16:43:14      NaN   Christina Rupp   \n",
       "1  1359905846659059713  2021-02-11 16:43:14      NaN  Johanna Schäfer   \n",
       "2  1359101568390414337  2021-02-09 11:27:19      NaN  Johanna Schäfer   \n",
       "3  1359019191358156802  2021-02-09 05:59:59      NaN  Johanna Schäfer   \n",
       "4  1359015354828210176  2021-02-09 05:44:44      NaN  Johanna Schäfer   \n",
       "\n",
       "            Location                                    UserDescription  \\\n",
       "0  Bonn, Deutschland  Project Assistant International Cybersecurity ...   \n",
       "1  Bonn, Deutschland  CEO @BonnLAB, urban developer & #SocialMedia e...   \n",
       "2  Bonn, Deutschland  CEO @BonnLAB, urban developer & #SocialMedia e...   \n",
       "3  Bonn, Deutschland  CEO @BonnLAB, urban developer & #SocialMedia e...   \n",
       "4  Bonn, Deutschland  CEO @BonnLAB, urban developer & #SocialMedia e...   \n",
       "\n",
       "   Location_code  \n",
       "0            2.0  \n",
       "1            2.0  \n",
       "2            2.0  \n",
       "3            2.0  \n",
       "4            2.0  "
      ]
     },
     "execution_count": 74,
     "metadata": {},
     "output_type": "execute_result"
    }
   ],
   "source": [
    "df.head()"
   ]
  },
  {
   "cell_type": "code",
   "execution_count": 75,
   "metadata": {},
   "outputs": [],
   "source": [
    "# drop ['Location_code']==0\n",
    "\n",
    "df = df[df['Location_code']!=0.0]"
   ]
  },
  {
   "cell_type": "code",
   "execution_count": 76,
   "metadata": {},
   "outputs": [
    {
     "data": {
      "text/plain": [
       "(7123, 9)"
      ]
     },
     "execution_count": 76,
     "metadata": {},
     "output_type": "execute_result"
    }
   ],
   "source": [
    "df.shape # see how many columns you are left with after dropping locations not America/Germany"
   ]
  },
  {
   "cell_type": "code",
   "execution_count": 77,
   "metadata": {},
   "outputs": [
    {
     "data": {
      "text/plain": [
       "2.0    5840\n",
       "1.0    1087\n",
       "Name: Location_code, dtype: int64"
      ]
     },
     "execution_count": 77,
     "metadata": {},
     "output_type": "execute_result"
    }
   ],
   "source": [
    "df['Location_code'].value_counts()\n",
    "# 5840 followers from Germany, 1087 from America. \n",
    "# Add the small csv to the analysis as well!"
   ]
  },
  {
   "cell_type": "markdown",
   "metadata": {},
   "source": [
    "### Because you only have 1087 tweets from the US, add the small tweets csv to the df and include in analysis as well to get more tweets from American network."
   ]
  },
  {
   "cell_type": "code",
   "execution_count": 78,
   "metadata": {},
   "outputs": [
    {
     "data": {
      "text/plain": [
       "(3892, 6)"
      ]
     },
     "execution_count": 78,
     "metadata": {},
     "output_type": "execute_result"
    }
   ],
   "source": [
    "data_small = pd.read_csv('tweets_from_tweepy_small.csv')\n",
    "data_small.shape"
   ]
  },
  {
   "cell_type": "code",
   "execution_count": 80,
   "metadata": {},
   "outputs": [],
   "source": [
    "data_small.drop('Unnamed: 0', axis=1, inplace=True)"
   ]
  },
  {
   "cell_type": "code",
   "execution_count": 83,
   "metadata": {},
   "outputs": [],
   "source": [
    "# Import dataframe with the Friends Information (including name, handle, location, description, etc)\n",
    "friends_df = pd.read_csv('twitter_friends_info_df.csv')"
   ]
  },
  {
   "cell_type": "code",
   "execution_count": 84,
   "metadata": {},
   "outputs": [],
   "source": [
    "friends_df.drop('Unnamed: 0', axis=1, inplace=True)"
   ]
  },
  {
   "cell_type": "code",
   "execution_count": 85,
   "metadata": {},
   "outputs": [],
   "source": [
    "# Merge small df and friends:\n",
    "\n",
    "df1 = data_small\n",
    "df2 = friends_df\n",
    "\n",
    "df_small = pd.merge(df1, df2, how='left', on='Handle')"
   ]
  },
  {
   "cell_type": "code",
   "execution_count": 87,
   "metadata": {},
   "outputs": [
    {
     "data": {
      "text/html": [
       "<div>\n",
       "<style scoped>\n",
       "    .dataframe tbody tr th:only-of-type {\n",
       "        vertical-align: middle;\n",
       "    }\n",
       "\n",
       "    .dataframe tbody tr th {\n",
       "        vertical-align: top;\n",
       "    }\n",
       "\n",
       "    .dataframe thead th {\n",
       "        text-align: right;\n",
       "    }\n",
       "</style>\n",
       "<table border=\"1\" class=\"dataframe\">\n",
       "  <thead>\n",
       "    <tr style=\"text-align: right;\">\n",
       "      <th></th>\n",
       "      <th>0</th>\n",
       "      <th>Handle</th>\n",
       "      <th>ID</th>\n",
       "      <th>CreatedAt</th>\n",
       "      <th>Location_x</th>\n",
       "      <th>Friend</th>\n",
       "      <th>Location_y</th>\n",
       "      <th>UserDescription</th>\n",
       "    </tr>\n",
       "  </thead>\n",
       "  <tbody>\n",
       "    <tr>\n",
       "      <th>0</th>\n",
       "      <td>Really excited for this event tonight. Always ...</td>\n",
       "      <td>divafeminist</td>\n",
       "      <td>1357386255714115587</td>\n",
       "      <td>2021-02-04 17:51:17</td>\n",
       "      <td>NaN</td>\n",
       "      <td>Treva B</td>\n",
       "      <td>All Ovah the World</td>\n",
       "      <td>Prof @ OSU/feminist/dancer/friend/daughter/aun...</td>\n",
       "    </tr>\n",
       "    <tr>\n",
       "      <th>1</th>\n",
       "      <td>@prisonculture YES! Please- we don’t need it. ...</td>\n",
       "      <td>divafeminist</td>\n",
       "      <td>1357069269822033923</td>\n",
       "      <td>2021-02-03 20:51:41</td>\n",
       "      <td>NaN</td>\n",
       "      <td>Treva B</td>\n",
       "      <td>All Ovah the World</td>\n",
       "      <td>Prof @ OSU/feminist/dancer/friend/daughter/aun...</td>\n",
       "    </tr>\n",
       "    <tr>\n",
       "      <th>2</th>\n",
       "      <td>@sweetbtchesbrew Such a force. How different i...</td>\n",
       "      <td>divafeminist</td>\n",
       "      <td>1356411441990004738</td>\n",
       "      <td>2021-02-02 01:17:43</td>\n",
       "      <td>NaN</td>\n",
       "      <td>Treva B</td>\n",
       "      <td>All Ovah the World</td>\n",
       "      <td>Prof @ OSU/feminist/dancer/friend/daughter/aun...</td>\n",
       "    </tr>\n",
       "    <tr>\n",
       "      <th>3</th>\n",
       "      <td>Rest In Peace and Power, #KarenLewis. What an ...</td>\n",
       "      <td>divafeminist</td>\n",
       "      <td>1355242388508332036</td>\n",
       "      <td>2021-01-29 19:52:19</td>\n",
       "      <td>NaN</td>\n",
       "      <td>Treva B</td>\n",
       "      <td>All Ovah the World</td>\n",
       "      <td>Prof @ OSU/feminist/dancer/friend/daughter/aun...</td>\n",
       "    </tr>\n",
       "    <tr>\n",
       "      <th>4</th>\n",
       "      <td>At the core of US criminal punishment system i...</td>\n",
       "      <td>divafeminist</td>\n",
       "      <td>1355006374313390083</td>\n",
       "      <td>2021-01-29 04:14:29</td>\n",
       "      <td>NaN</td>\n",
       "      <td>Treva B</td>\n",
       "      <td>All Ovah the World</td>\n",
       "      <td>Prof @ OSU/feminist/dancer/friend/daughter/aun...</td>\n",
       "    </tr>\n",
       "  </tbody>\n",
       "</table>\n",
       "</div>"
      ],
      "text/plain": [
       "                                                   0        Handle  \\\n",
       "0  Really excited for this event tonight. Always ...  divafeminist   \n",
       "1  @prisonculture YES! Please- we don’t need it. ...  divafeminist   \n",
       "2  @sweetbtchesbrew Such a force. How different i...  divafeminist   \n",
       "3  Rest In Peace and Power, #KarenLewis. What an ...  divafeminist   \n",
       "4  At the core of US criminal punishment system i...  divafeminist   \n",
       "\n",
       "                    ID            CreatedAt  Location_x   Friend  \\\n",
       "0  1357386255714115587  2021-02-04 17:51:17         NaN  Treva B   \n",
       "1  1357069269822033923  2021-02-03 20:51:41         NaN  Treva B   \n",
       "2  1356411441990004738  2021-02-02 01:17:43         NaN  Treva B   \n",
       "3  1355242388508332036  2021-01-29 19:52:19         NaN  Treva B   \n",
       "4  1355006374313390083  2021-01-29 04:14:29         NaN  Treva B   \n",
       "\n",
       "           Location_y                                    UserDescription  \n",
       "0  All Ovah the World  Prof @ OSU/feminist/dancer/friend/daughter/aun...  \n",
       "1  All Ovah the World  Prof @ OSU/feminist/dancer/friend/daughter/aun...  \n",
       "2  All Ovah the World  Prof @ OSU/feminist/dancer/friend/daughter/aun...  \n",
       "3  All Ovah the World  Prof @ OSU/feminist/dancer/friend/daughter/aun...  \n",
       "4  All Ovah the World  Prof @ OSU/feminist/dancer/friend/daughter/aun...  "
      ]
     },
     "execution_count": 87,
     "metadata": {},
     "output_type": "execute_result"
    }
   ],
   "source": [
    "df_small.shape\n",
    "df_small.head()"
   ]
  },
  {
   "cell_type": "code",
   "execution_count": 88,
   "metadata": {},
   "outputs": [],
   "source": [
    "df_small.rename(columns={'0':'TweetText', 'Location_x':'Geocode', 'Location_y':'Location'}, inplace=True)"
   ]
  },
  {
   "cell_type": "code",
   "execution_count": 90,
   "metadata": {},
   "outputs": [],
   "source": [
    "locations_small = df_small['Location'].unique()"
   ]
  },
  {
   "cell_type": "code",
   "execution_count": 93,
   "metadata": {},
   "outputs": [],
   "source": [
    "locations_small = pd.DataFrame(locations_small)\n",
    "locations_small.to_csv('locations_sm_to_code.csv')"
   ]
  },
  {
   "cell_type": "code",
   "execution_count": 94,
   "metadata": {},
   "outputs": [],
   "source": [
    "# Export as csv, re-code in excel, import as new csv, merge:"
   ]
  },
  {
   "cell_type": "code",
   "execution_count": 95,
   "metadata": {},
   "outputs": [
    {
     "data": {
      "text/html": [
       "<div>\n",
       "<style scoped>\n",
       "    .dataframe tbody tr th:only-of-type {\n",
       "        vertical-align: middle;\n",
       "    }\n",
       "\n",
       "    .dataframe tbody tr th {\n",
       "        vertical-align: top;\n",
       "    }\n",
       "\n",
       "    .dataframe thead th {\n",
       "        text-align: right;\n",
       "    }\n",
       "</style>\n",
       "<table border=\"1\" class=\"dataframe\">\n",
       "  <thead>\n",
       "    <tr style=\"text-align: right;\">\n",
       "      <th></th>\n",
       "      <th>Unnamed: 0</th>\n",
       "      <th>0</th>\n",
       "      <th>Unnamed: 2</th>\n",
       "    </tr>\n",
       "  </thead>\n",
       "  <tbody>\n",
       "    <tr>\n",
       "      <th>0</th>\n",
       "      <td>0</td>\n",
       "      <td>All Ovah the World</td>\n",
       "      <td>0</td>\n",
       "    </tr>\n",
       "    <tr>\n",
       "      <th>1</th>\n",
       "      <td>1</td>\n",
       "      <td>Berlin</td>\n",
       "      <td>2</td>\n",
       "    </tr>\n",
       "    <tr>\n",
       "      <th>2</th>\n",
       "      <td>2</td>\n",
       "      <td>Bonn, Deutschland</td>\n",
       "      <td>2</td>\n",
       "    </tr>\n",
       "    <tr>\n",
       "      <th>3</th>\n",
       "      <td>3</td>\n",
       "      <td>Los Angeles, CA</td>\n",
       "      <td>1</td>\n",
       "    </tr>\n",
       "    <tr>\n",
       "      <th>4</th>\n",
       "      <td>4</td>\n",
       "      <td>Fort Worth, TX</td>\n",
       "      <td>1</td>\n",
       "    </tr>\n",
       "  </tbody>\n",
       "</table>\n",
       "</div>"
      ],
      "text/plain": [
       "   Unnamed: 0                   0  Unnamed: 2\n",
       "0           0  All Ovah the World           0\n",
       "1           1              Berlin           2\n",
       "2           2   Bonn, Deutschland           2\n",
       "3           3     Los Angeles, CA           1\n",
       "4           4      Fort Worth, TX           1"
      ]
     },
     "execution_count": 95,
     "metadata": {},
     "output_type": "execute_result"
    }
   ],
   "source": [
    "locations_sm_coded = pd.read_csv('locations_sm_coded.csv')\n",
    "locations_sm_coded.head()"
   ]
  },
  {
   "cell_type": "code",
   "execution_count": 96,
   "metadata": {},
   "outputs": [],
   "source": [
    "locations_sm_coded.drop('Unnamed: 0', axis=1, inplace=True)"
   ]
  },
  {
   "cell_type": "code",
   "execution_count": 100,
   "metadata": {},
   "outputs": [],
   "source": [
    "locations_sm_coded.rename(columns={'Unnamed: 2': 'Location_code'}, inplace=True)"
   ]
  },
  {
   "cell_type": "code",
   "execution_count": 101,
   "metadata": {},
   "outputs": [
    {
     "data": {
      "text/html": [
       "<div>\n",
       "<style scoped>\n",
       "    .dataframe tbody tr th:only-of-type {\n",
       "        vertical-align: middle;\n",
       "    }\n",
       "\n",
       "    .dataframe tbody tr th {\n",
       "        vertical-align: top;\n",
       "    }\n",
       "\n",
       "    .dataframe thead th {\n",
       "        text-align: right;\n",
       "    }\n",
       "</style>\n",
       "<table border=\"1\" class=\"dataframe\">\n",
       "  <thead>\n",
       "    <tr style=\"text-align: right;\">\n",
       "      <th></th>\n",
       "      <th>Location</th>\n",
       "      <th>Location_code</th>\n",
       "    </tr>\n",
       "  </thead>\n",
       "  <tbody>\n",
       "    <tr>\n",
       "      <th>0</th>\n",
       "      <td>All Ovah the World</td>\n",
       "      <td>0</td>\n",
       "    </tr>\n",
       "    <tr>\n",
       "      <th>1</th>\n",
       "      <td>Berlin</td>\n",
       "      <td>2</td>\n",
       "    </tr>\n",
       "    <tr>\n",
       "      <th>2</th>\n",
       "      <td>Bonn, Deutschland</td>\n",
       "      <td>2</td>\n",
       "    </tr>\n",
       "    <tr>\n",
       "      <th>3</th>\n",
       "      <td>Los Angeles, CA</td>\n",
       "      <td>1</td>\n",
       "    </tr>\n",
       "    <tr>\n",
       "      <th>4</th>\n",
       "      <td>Fort Worth, TX</td>\n",
       "      <td>1</td>\n",
       "    </tr>\n",
       "  </tbody>\n",
       "</table>\n",
       "</div>"
      ],
      "text/plain": [
       "             Location  Location_code\n",
       "0  All Ovah the World              0\n",
       "1              Berlin              2\n",
       "2   Bonn, Deutschland              2\n",
       "3     Los Angeles, CA              1\n",
       "4      Fort Worth, TX              1"
      ]
     },
     "execution_count": 101,
     "metadata": {},
     "output_type": "execute_result"
    }
   ],
   "source": [
    "locations_sm_coded.head()"
   ]
  },
  {
   "cell_type": "code",
   "execution_count": 102,
   "metadata": {},
   "outputs": [],
   "source": [
    "df_small = df_small.merge(locations_sm_coded, on='Location', how='left')"
   ]
  },
  {
   "cell_type": "code",
   "execution_count": 103,
   "metadata": {},
   "outputs": [
    {
     "data": {
      "text/html": [
       "<div>\n",
       "<style scoped>\n",
       "    .dataframe tbody tr th:only-of-type {\n",
       "        vertical-align: middle;\n",
       "    }\n",
       "\n",
       "    .dataframe tbody tr th {\n",
       "        vertical-align: top;\n",
       "    }\n",
       "\n",
       "    .dataframe thead th {\n",
       "        text-align: right;\n",
       "    }\n",
       "</style>\n",
       "<table border=\"1\" class=\"dataframe\">\n",
       "  <thead>\n",
       "    <tr style=\"text-align: right;\">\n",
       "      <th></th>\n",
       "      <th>TweetText</th>\n",
       "      <th>Handle</th>\n",
       "      <th>ID</th>\n",
       "      <th>CreatedAt</th>\n",
       "      <th>Geocode</th>\n",
       "      <th>Friend</th>\n",
       "      <th>Location</th>\n",
       "      <th>UserDescription</th>\n",
       "      <th>Location_code</th>\n",
       "    </tr>\n",
       "  </thead>\n",
       "  <tbody>\n",
       "    <tr>\n",
       "      <th>0</th>\n",
       "      <td>Really excited for this event tonight. Always ...</td>\n",
       "      <td>divafeminist</td>\n",
       "      <td>1357386255714115587</td>\n",
       "      <td>2021-02-04 17:51:17</td>\n",
       "      <td>NaN</td>\n",
       "      <td>Treva B</td>\n",
       "      <td>All Ovah the World</td>\n",
       "      <td>Prof @ OSU/feminist/dancer/friend/daughter/aun...</td>\n",
       "      <td>0.0</td>\n",
       "    </tr>\n",
       "    <tr>\n",
       "      <th>1</th>\n",
       "      <td>@prisonculture YES! Please- we don’t need it. ...</td>\n",
       "      <td>divafeminist</td>\n",
       "      <td>1357069269822033923</td>\n",
       "      <td>2021-02-03 20:51:41</td>\n",
       "      <td>NaN</td>\n",
       "      <td>Treva B</td>\n",
       "      <td>All Ovah the World</td>\n",
       "      <td>Prof @ OSU/feminist/dancer/friend/daughter/aun...</td>\n",
       "      <td>0.0</td>\n",
       "    </tr>\n",
       "    <tr>\n",
       "      <th>2</th>\n",
       "      <td>@sweetbtchesbrew Such a force. How different i...</td>\n",
       "      <td>divafeminist</td>\n",
       "      <td>1356411441990004738</td>\n",
       "      <td>2021-02-02 01:17:43</td>\n",
       "      <td>NaN</td>\n",
       "      <td>Treva B</td>\n",
       "      <td>All Ovah the World</td>\n",
       "      <td>Prof @ OSU/feminist/dancer/friend/daughter/aun...</td>\n",
       "      <td>0.0</td>\n",
       "    </tr>\n",
       "    <tr>\n",
       "      <th>3</th>\n",
       "      <td>Rest In Peace and Power, #KarenLewis. What an ...</td>\n",
       "      <td>divafeminist</td>\n",
       "      <td>1355242388508332036</td>\n",
       "      <td>2021-01-29 19:52:19</td>\n",
       "      <td>NaN</td>\n",
       "      <td>Treva B</td>\n",
       "      <td>All Ovah the World</td>\n",
       "      <td>Prof @ OSU/feminist/dancer/friend/daughter/aun...</td>\n",
       "      <td>0.0</td>\n",
       "    </tr>\n",
       "    <tr>\n",
       "      <th>4</th>\n",
       "      <td>At the core of US criminal punishment system i...</td>\n",
       "      <td>divafeminist</td>\n",
       "      <td>1355006374313390083</td>\n",
       "      <td>2021-01-29 04:14:29</td>\n",
       "      <td>NaN</td>\n",
       "      <td>Treva B</td>\n",
       "      <td>All Ovah the World</td>\n",
       "      <td>Prof @ OSU/feminist/dancer/friend/daughter/aun...</td>\n",
       "      <td>0.0</td>\n",
       "    </tr>\n",
       "  </tbody>\n",
       "</table>\n",
       "</div>"
      ],
      "text/plain": [
       "                                           TweetText        Handle  \\\n",
       "0  Really excited for this event tonight. Always ...  divafeminist   \n",
       "1  @prisonculture YES! Please- we don’t need it. ...  divafeminist   \n",
       "2  @sweetbtchesbrew Such a force. How different i...  divafeminist   \n",
       "3  Rest In Peace and Power, #KarenLewis. What an ...  divafeminist   \n",
       "4  At the core of US criminal punishment system i...  divafeminist   \n",
       "\n",
       "                    ID            CreatedAt  Geocode   Friend  \\\n",
       "0  1357386255714115587  2021-02-04 17:51:17      NaN  Treva B   \n",
       "1  1357069269822033923  2021-02-03 20:51:41      NaN  Treva B   \n",
       "2  1356411441990004738  2021-02-02 01:17:43      NaN  Treva B   \n",
       "3  1355242388508332036  2021-01-29 19:52:19      NaN  Treva B   \n",
       "4  1355006374313390083  2021-01-29 04:14:29      NaN  Treva B   \n",
       "\n",
       "             Location                                    UserDescription  \\\n",
       "0  All Ovah the World  Prof @ OSU/feminist/dancer/friend/daughter/aun...   \n",
       "1  All Ovah the World  Prof @ OSU/feminist/dancer/friend/daughter/aun...   \n",
       "2  All Ovah the World  Prof @ OSU/feminist/dancer/friend/daughter/aun...   \n",
       "3  All Ovah the World  Prof @ OSU/feminist/dancer/friend/daughter/aun...   \n",
       "4  All Ovah the World  Prof @ OSU/feminist/dancer/friend/daughter/aun...   \n",
       "\n",
       "   Location_code  \n",
       "0            0.0  \n",
       "1            0.0  \n",
       "2            0.0  \n",
       "3            0.0  \n",
       "4            0.0  "
      ]
     },
     "execution_count": 103,
     "metadata": {},
     "output_type": "execute_result"
    }
   ],
   "source": [
    "df_small.head()"
   ]
  },
  {
   "cell_type": "code",
   "execution_count": 104,
   "metadata": {},
   "outputs": [],
   "source": [
    "# Subset for where location_code != 0\n",
    "df_small = df_small[df_small['Location_code']!=0.0]"
   ]
  },
  {
   "cell_type": "code",
   "execution_count": 105,
   "metadata": {},
   "outputs": [
    {
     "data": {
      "text/plain": [
       "(2707, 9)"
      ]
     },
     "execution_count": 105,
     "metadata": {},
     "output_type": "execute_result"
    }
   ],
   "source": [
    "df_small.shape"
   ]
  },
  {
   "cell_type": "code",
   "execution_count": 106,
   "metadata": {},
   "outputs": [
    {
     "data": {
      "text/plain": [
       "2.0    1567\n",
       "1.0    1040\n",
       "Name: Location_code, dtype: int64"
      ]
     },
     "execution_count": 106,
     "metadata": {},
     "output_type": "execute_result"
    }
   ],
   "source": [
    "df_small['Location_code'].value_counts()\n",
    "# 1567 German tweets\n",
    "# 1040 American tweets"
   ]
  },
  {
   "cell_type": "markdown",
   "metadata": {},
   "source": [
    "### Concat df and df_small:\n",
    "Then make sure to drop duplicate rows!"
   ]
  },
  {
   "cell_type": "code",
   "execution_count": 107,
   "metadata": {},
   "outputs": [
    {
     "name": "stdout",
     "output_type": "stream",
     "text": [
      "Shape of large df:  (7123, 9)\n",
      "Shape of small df:  (2707, 9)\n"
     ]
    }
   ],
   "source": [
    "print(\"Shape of large df: \",df.shape)\n",
    "print(\"Shape of small df: \", df_small.shape)"
   ]
  },
  {
   "cell_type": "code",
   "execution_count": 108,
   "metadata": {},
   "outputs": [],
   "source": [
    "tweets = pd.concat([df, df_small], ignore_index=True)"
   ]
  },
  {
   "cell_type": "code",
   "execution_count": 110,
   "metadata": {},
   "outputs": [
    {
     "data": {
      "text/plain": [
       "(9830, 10)"
      ]
     },
     "execution_count": 110,
     "metadata": {},
     "output_type": "execute_result"
    }
   ],
   "source": [
    "tweets.shape"
   ]
  },
  {
   "cell_type": "code",
   "execution_count": 112,
   "metadata": {},
   "outputs": [],
   "source": [
    "# Make sure there aren't duplicated rows (for Handles in both friends and followers dataframes for example.)"
   ]
  },
  {
   "cell_type": "code",
   "execution_count": 113,
   "metadata": {},
   "outputs": [],
   "source": [
    "tweets.drop_duplicates(keep='first', inplace=True)"
   ]
  },
  {
   "cell_type": "code",
   "execution_count": 114,
   "metadata": {},
   "outputs": [
    {
     "data": {
      "text/plain": [
       "(8425, 10)"
      ]
     },
     "execution_count": 114,
     "metadata": {},
     "output_type": "execute_result"
    }
   ],
   "source": [
    "tweets.shape\n",
    "# got rid of ~1000 duplicates"
   ]
  },
  {
   "cell_type": "code",
   "execution_count": 116,
   "metadata": {},
   "outputs": [
    {
     "data": {
      "text/plain": [
       "2.0    6002\n",
       "1.0    2127\n",
       "Name: Location_code, dtype: int64"
      ]
     },
     "execution_count": 116,
     "metadata": {},
     "output_type": "execute_result"
    }
   ],
   "source": [
    "tweets['Location_code'].value_counts()\n",
    "\n",
    "# Running your analysis on 6000 tweets from Germany and only 2000 from the US. "
   ]
  },
  {
   "cell_type": "markdown",
   "metadata": {},
   "source": [
    "### Now that you have all tweets in one df, clean, fix value types, and safe to csv:"
   ]
  },
  {
   "cell_type": "code",
   "execution_count": 118,
   "metadata": {},
   "outputs": [
    {
     "data": {
      "text/plain": [
       "TweetText           object\n",
       "Handle              object\n",
       "ID                   int64\n",
       "CreatedAt           object\n",
       "Geocode            float64\n",
       "Follower            object\n",
       "Location            object\n",
       "UserDescription     object\n",
       "Location_code      float64\n",
       "Friend              object\n",
       "dtype: object"
      ]
     },
     "execution_count": 118,
     "metadata": {},
     "output_type": "execute_result"
    }
   ],
   "source": [
    "tweets.dtypes"
   ]
  },
  {
   "cell_type": "code",
   "execution_count": 119,
   "metadata": {},
   "outputs": [],
   "source": [
    "tweets['Country'] = np.where((tweets['Location_code']==2.0), \"Germany\", \"USA\") "
   ]
  },
  {
   "cell_type": "code",
   "execution_count": 121,
   "metadata": {},
   "outputs": [
    {
     "data": {
      "text/plain": [
       "Germany    6002\n",
       "USA        2423\n",
       "Name: Country, dtype: int64"
      ]
     },
     "execution_count": 121,
     "metadata": {},
     "output_type": "execute_result"
    }
   ],
   "source": [
    "tweets['Country'].value_counts() \n",
    "# How are these values different than those above?? \n",
    "# Don't drop ['Location_code'] just yet. "
   ]
  },
  {
   "cell_type": "code",
   "execution_count": null,
   "metadata": {},
   "outputs": [],
   "source": [
    "# Before dropping Location/UserDescription column, see if there are a lot of Americans that I could manually add to the analysis to get more tweets from the US context!\n"
   ]
  },
  {
   "cell_type": "code",
   "execution_count": 122,
   "metadata": {},
   "outputs": [],
   "source": [
    "# save as csv just in case: \n",
    "tweets.to_csv('tweets_to_preprocess_NLP.csv')"
   ]
  },
  {
   "cell_type": "code",
   "execution_count": null,
   "metadata": {},
   "outputs": [],
   "source": []
  }
 ],
 "metadata": {
  "kernelspec": {
   "display_name": "Python 3",
   "language": "python",
   "name": "python3"
  },
  "language_info": {
   "codemirror_mode": {
    "name": "ipython",
    "version": 3
   },
   "file_extension": ".py",
   "mimetype": "text/x-python",
   "name": "python",
   "nbconvert_exporter": "python",
   "pygments_lexer": "ipython3",
   "version": "3.8.3"
  }
 },
 "nbformat": 4,
 "nbformat_minor": 4
}
