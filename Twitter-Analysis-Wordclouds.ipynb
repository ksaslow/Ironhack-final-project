{
 "cells": [
  {
   "cell_type": "markdown",
   "metadata": {},
   "source": [
    "# Continue analysis on Twitter Network: Wordclouds, or Adjective analysis (SpaCy)?"
   ]
  },
  {
   "cell_type": "code",
   "execution_count": 13,
   "metadata": {},
   "outputs": [],
   "source": [
    "from wordcloud import WordCloud, STOPWORDS\n",
    "import matplotlib.pyplot as plt\n",
    "import pandas as pd"
   ]
  },
  {
   "cell_type": "markdown",
   "metadata": {},
   "source": [
    "### Import tweets from NLP analysis:"
   ]
  },
  {
   "cell_type": "code",
   "execution_count": 6,
   "metadata": {},
   "outputs": [],
   "source": [
    "tweets_analysis = pd.read_csv('tweets_analysis.csv')\n",
    "tweets_analysis.head()\n",
    "tweets_analysis.drop('Unnamed: 0', axis=1, inplace=True)"
   ]
  },
  {
   "cell_type": "markdown",
   "metadata": {},
   "source": [
    "#### Can I make a word cloud from my saved tweets, or do I have to use the Twitter API again and search by words and geocode?"
   ]
  },
  {
   "cell_type": "code",
   "execution_count": null,
   "metadata": {},
   "outputs": [],
   "source": [
    "wordcloud = wordcloud.WordCloud(max_font_size = 150, max_words = 100, backgroun_color='white').generate(str())"
   ]
  },
  {
   "cell_type": "code",
   "execution_count": null,
   "metadata": {},
   "outputs": [],
   "source": [
    "# https://towardsdatascience.com/create-your-own-word-cloud-705798556574"
   ]
  },
  {
   "cell_type": "markdown",
   "metadata": {},
   "source": [
    "### Consider doing analysis to compare the most common adjectives (SpaCy).\n",
    "--> my hypothesis is that the German network will use more negative adjectives.\n",
    "\n",
    "Helpful links:\n",
    "* https://medium.com/illumination/scraping-news-and-creating-a-word-cloud-in-python-10ea312c49ba\n",
    "* https://www.geeksforgeeks.org/generating-word-cloud-python/"
   ]
  },
  {
   "cell_type": "code",
   "execution_count": 11,
   "metadata": {},
   "outputs": [
    {
     "data": {
      "text/plain": [
       "57"
      ]
     },
     "execution_count": 11,
     "metadata": {},
     "output_type": "execute_result"
    }
   ],
   "source": [
    "# Also, figure out how many tweets are from German network in English, compared to American network:\n",
    "\n",
    "len(tweets_analysis[(tweets_analysis['Location']=='Germany') & (tweets_analysis['Language']=='en')])\n",
    "# not enough for analysis. That means youll need to analyze the adjectives in English and German separately."
   ]
  },
  {
   "cell_type": "code",
   "execution_count": 12,
   "metadata": {},
   "outputs": [],
   "source": [
    "# import both de/en dataframes for wordclouds:\n",
    "tweets_en = pd.read_csv('tweets_en.csv')\n",
    "tweet_de = pd.read_csv('tweets_de.csv')"
   ]
  },
  {
   "cell_type": "code",
   "execution_count": 14,
   "metadata": {},
   "outputs": [
    {
     "data": {
      "text/html": [
       "<div>\n",
       "<style scoped>\n",
       "    .dataframe tbody tr th:only-of-type {\n",
       "        vertical-align: middle;\n",
       "    }\n",
       "\n",
       "    .dataframe tbody tr th {\n",
       "        vertical-align: top;\n",
       "    }\n",
       "\n",
       "    .dataframe thead th {\n",
       "        text-align: right;\n",
       "    }\n",
       "</style>\n",
       "<table border=\"1\" class=\"dataframe\">\n",
       "  <thead>\n",
       "    <tr style=\"text-align: right;\">\n",
       "      <th></th>\n",
       "      <th>Unnamed: 0</th>\n",
       "      <th>TweetText</th>\n",
       "      <th>Handle</th>\n",
       "      <th>Location</th>\n",
       "      <th>Country</th>\n",
       "      <th>Language</th>\n",
       "      <th>text_processed</th>\n",
       "      <th>Polarity</th>\n",
       "      <th>Subjectivity</th>\n",
       "      <th>Sentiment</th>\n",
       "    </tr>\n",
       "  </thead>\n",
       "  <tbody>\n",
       "    <tr>\n",
       "      <th>0</th>\n",
       "      <td>1</td>\n",
       "      <td>RT @rachel_groves: Daily goals: Wake up early....</td>\n",
       "      <td>joscchh</td>\n",
       "      <td>Bonn, Deutschland</td>\n",
       "      <td>Germany</td>\n",
       "      <td>en</td>\n",
       "      <td>['daili', 'goal', 'wake', 'earli', 'drink', 'c...</td>\n",
       "      <td>0.194048</td>\n",
       "      <td>0.427381</td>\n",
       "      <td>positive</td>\n",
       "    </tr>\n",
       "    <tr>\n",
       "      <th>1</th>\n",
       "      <td>3</td>\n",
       "      <td>RT @EurAsiaBridgeEU: good topic - well done.</td>\n",
       "      <td>joscchh</td>\n",
       "      <td>Bonn, Deutschland</td>\n",
       "      <td>Germany</td>\n",
       "      <td>en</td>\n",
       "      <td>['good', 'topic', 'well', 'done']</td>\n",
       "      <td>0.700000</td>\n",
       "      <td>0.600000</td>\n",
       "      <td>positive</td>\n",
       "    </tr>\n",
       "    <tr>\n",
       "      <th>2</th>\n",
       "      <td>8</td>\n",
       "      <td>@jpbrice Life is always precious - every singl...</td>\n",
       "      <td>joscchh</td>\n",
       "      <td>Bonn, Deutschland</td>\n",
       "      <td>Germany</td>\n",
       "      <td>en</td>\n",
       "      <td>['jpbrice', 'life', 'alway', 'precious', 'ever...</td>\n",
       "      <td>0.272381</td>\n",
       "      <td>0.609524</td>\n",
       "      <td>positive</td>\n",
       "    </tr>\n",
       "    <tr>\n",
       "      <th>3</th>\n",
       "      <td>11</td>\n",
       "      <td>@PeterShepherd8 @MYorke27 @ZEReadyOregon Great...</td>\n",
       "      <td>joscchh</td>\n",
       "      <td>Bonn, Deutschland</td>\n",
       "      <td>Germany</td>\n",
       "      <td>en</td>\n",
       "      <td>['petershepherd', 'myork', 'zereadyoregon', 'g...</td>\n",
       "      <td>0.200000</td>\n",
       "      <td>0.385417</td>\n",
       "      <td>positive</td>\n",
       "    </tr>\n",
       "    <tr>\n",
       "      <th>4</th>\n",
       "      <td>12</td>\n",
       "      <td>RT @jpbrice: “You never know how strong you ar...</td>\n",
       "      <td>joscchh</td>\n",
       "      <td>Bonn, Deutschland</td>\n",
       "      <td>Germany</td>\n",
       "      <td>en</td>\n",
       "      <td>['never', 'know', 'strong', 'strong', 'onli', ...</td>\n",
       "      <td>0.288889</td>\n",
       "      <td>0.822222</td>\n",
       "      <td>positive</td>\n",
       "    </tr>\n",
       "  </tbody>\n",
       "</table>\n",
       "</div>"
      ],
      "text/plain": [
       "   Unnamed: 0                                          TweetText   Handle  \\\n",
       "0           1  RT @rachel_groves: Daily goals: Wake up early....  joscchh   \n",
       "1           3       RT @EurAsiaBridgeEU: good topic - well done.  joscchh   \n",
       "2           8  @jpbrice Life is always precious - every singl...  joscchh   \n",
       "3          11  @PeterShepherd8 @MYorke27 @ZEReadyOregon Great...  joscchh   \n",
       "4          12  RT @jpbrice: “You never know how strong you ar...  joscchh   \n",
       "\n",
       "            Location  Country Language  \\\n",
       "0  Bonn, Deutschland  Germany       en   \n",
       "1  Bonn, Deutschland  Germany       en   \n",
       "2  Bonn, Deutschland  Germany       en   \n",
       "3  Bonn, Deutschland  Germany       en   \n",
       "4  Bonn, Deutschland  Germany       en   \n",
       "\n",
       "                                      text_processed  Polarity  Subjectivity  \\\n",
       "0  ['daili', 'goal', 'wake', 'earli', 'drink', 'c...  0.194048      0.427381   \n",
       "1                  ['good', 'topic', 'well', 'done']  0.700000      0.600000   \n",
       "2  ['jpbrice', 'life', 'alway', 'precious', 'ever...  0.272381      0.609524   \n",
       "3  ['petershepherd', 'myork', 'zereadyoregon', 'g...  0.200000      0.385417   \n",
       "4  ['never', 'know', 'strong', 'strong', 'onli', ...  0.288889      0.822222   \n",
       "\n",
       "  Sentiment  \n",
       "0  positive  \n",
       "1  positive  \n",
       "2  positive  \n",
       "3  positive  \n",
       "4  positive  "
      ]
     },
     "execution_count": 14,
     "metadata": {},
     "output_type": "execute_result"
    }
   ],
   "source": [
    "tweets_en.head()"
   ]
  },
  {
   "cell_type": "code",
   "execution_count": null,
   "metadata": {},
   "outputs": [],
   "source": []
  }
 ],
 "metadata": {
  "kernelspec": {
   "display_name": "Python 3",
   "language": "python",
   "name": "python3"
  },
  "language_info": {
   "codemirror_mode": {
    "name": "ipython",
    "version": 3
   },
   "file_extension": ".py",
   "mimetype": "text/x-python",
   "name": "python",
   "nbconvert_exporter": "python",
   "pygments_lexer": "ipython3",
   "version": "3.8.3"
  }
 },
 "nbformat": 4,
 "nbformat_minor": 4
}
