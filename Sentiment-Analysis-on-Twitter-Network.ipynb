{
 "cells": [
  {
   "cell_type": "markdown",
   "metadata": {},
   "source": [
    "# Is my German or American Twitter Network \"Happier\"?\n",
    "#### Using sentiment analysis, compare the tweets of German and American Twitter Networks to see which group is more positive (or \"happier\")."
   ]
  },
  {
   "cell_type": "code",
   "execution_count": 104,
   "metadata": {},
   "outputs": [],
   "source": [
    "import pandas as pd\n",
    "import nltk\n",
    "# nltk.download('punkt')\n",
    "# nltk.download('wordnet')\n",
    "# nltk.download('stopwords')\n",
    "# nltk.download('vader_lexicon') \n",
    "from nltk.sentiment.vader import SentimentIntensityAnalyzer\n",
    "\n",
    "import re\n",
    "import string\n",
    "import warnings\n",
    "warnings.filterwarnings(\"ignore\")\n",
    "from textblob import TextBlob\n",
    "from textblob_de import TextBlobDE\n",
    "import matplotlib.pyplot as plt\n",
    "import seaborn as sns\n",
    "# sns.set_palette('Set3')\n",
    "# sns.set_style(\"whitegrid\")"
   ]
  },
  {
   "cell_type": "code",
   "execution_count": 2,
   "metadata": {},
   "outputs": [],
   "source": [
    "# import df with tweets from previous notebook:\n",
    "tweets = pd.read_csv('tweets_to_preprocess_NLP.csv')"
   ]
  },
  {
   "cell_type": "code",
   "execution_count": 3,
   "metadata": {},
   "outputs": [],
   "source": [
    "tweets.drop('Unnamed: 0', axis=1, inplace=True)"
   ]
  },
  {
   "cell_type": "code",
   "execution_count": 4,
   "metadata": {},
   "outputs": [],
   "source": [
    "tweets.drop('Geocode', axis=1, inplace=True)"
   ]
  },
  {
   "cell_type": "code",
   "execution_count": 5,
   "metadata": {},
   "outputs": [
    {
     "data": {
      "text/html": [
       "<div>\n",
       "<style scoped>\n",
       "    .dataframe tbody tr th:only-of-type {\n",
       "        vertical-align: middle;\n",
       "    }\n",
       "\n",
       "    .dataframe tbody tr th {\n",
       "        vertical-align: top;\n",
       "    }\n",
       "\n",
       "    .dataframe thead th {\n",
       "        text-align: right;\n",
       "    }\n",
       "</style>\n",
       "<table border=\"1\" class=\"dataframe\">\n",
       "  <thead>\n",
       "    <tr style=\"text-align: right;\">\n",
       "      <th></th>\n",
       "      <th>TweetText</th>\n",
       "      <th>Handle</th>\n",
       "      <th>ID</th>\n",
       "      <th>CreatedAt</th>\n",
       "      <th>Follower</th>\n",
       "      <th>Location</th>\n",
       "      <th>UserDescription</th>\n",
       "      <th>Location_code</th>\n",
       "      <th>Friend</th>\n",
       "      <th>Country</th>\n",
       "    </tr>\n",
       "  </thead>\n",
       "  <tbody>\n",
       "    <tr>\n",
       "      <th>0</th>\n",
       "      <td>RT @z_edian: Unser @snv_berlin Expert:innenwor...</td>\n",
       "      <td>christinacrupp</td>\n",
       "      <td>1359905846659059713</td>\n",
       "      <td>2021-02-11 16:43:14</td>\n",
       "      <td>Christina Rupp</td>\n",
       "      <td>Bonn, Deutschland</td>\n",
       "      <td>Project Assistant International Cybersecurity ...</td>\n",
       "      <td>2.0</td>\n",
       "      <td>NaN</td>\n",
       "      <td>Germany</td>\n",
       "    </tr>\n",
       "    <tr>\n",
       "      <th>1</th>\n",
       "      <td>RT @rachel_groves: Daily goals: Wake up early....</td>\n",
       "      <td>joscchh</td>\n",
       "      <td>1359905846659059713</td>\n",
       "      <td>2021-02-11 16:43:14</td>\n",
       "      <td>Johanna Schäfer</td>\n",
       "      <td>Bonn, Deutschland</td>\n",
       "      <td>CEO @BonnLAB, urban developer &amp; #SocialMedia e...</td>\n",
       "      <td>2.0</td>\n",
       "      <td>NaN</td>\n",
       "      <td>Germany</td>\n",
       "    </tr>\n",
       "    <tr>\n",
       "      <th>2</th>\n",
       "      <td>RT @michael_adler_: Fing gut an! Bonn braucht ...</td>\n",
       "      <td>joscchh</td>\n",
       "      <td>1359101568390414337</td>\n",
       "      <td>2021-02-09 11:27:19</td>\n",
       "      <td>Johanna Schäfer</td>\n",
       "      <td>Bonn, Deutschland</td>\n",
       "      <td>CEO @BonnLAB, urban developer &amp; #SocialMedia e...</td>\n",
       "      <td>2.0</td>\n",
       "      <td>NaN</td>\n",
       "      <td>Germany</td>\n",
       "    </tr>\n",
       "    <tr>\n",
       "      <th>3</th>\n",
       "      <td>RT @EurAsiaBridgeEU: good topic - well done.</td>\n",
       "      <td>joscchh</td>\n",
       "      <td>1359019191358156802</td>\n",
       "      <td>2021-02-09 05:59:59</td>\n",
       "      <td>Johanna Schäfer</td>\n",
       "      <td>Bonn, Deutschland</td>\n",
       "      <td>CEO @BonnLAB, urban developer &amp; #SocialMedia e...</td>\n",
       "      <td>2.0</td>\n",
       "      <td>NaN</td>\n",
       "      <td>Germany</td>\n",
       "    </tr>\n",
       "    <tr>\n",
       "      <th>4</th>\n",
       "      <td>Gestern haben @Lichtemomente, @askans, @michae...</td>\n",
       "      <td>joscchh</td>\n",
       "      <td>1359015354828210176</td>\n",
       "      <td>2021-02-09 05:44:44</td>\n",
       "      <td>Johanna Schäfer</td>\n",
       "      <td>Bonn, Deutschland</td>\n",
       "      <td>CEO @BonnLAB, urban developer &amp; #SocialMedia e...</td>\n",
       "      <td>2.0</td>\n",
       "      <td>NaN</td>\n",
       "      <td>Germany</td>\n",
       "    </tr>\n",
       "  </tbody>\n",
       "</table>\n",
       "</div>"
      ],
      "text/plain": [
       "                                           TweetText          Handle  \\\n",
       "0  RT @z_edian: Unser @snv_berlin Expert:innenwor...  christinacrupp   \n",
       "1  RT @rachel_groves: Daily goals: Wake up early....         joscchh   \n",
       "2  RT @michael_adler_: Fing gut an! Bonn braucht ...         joscchh   \n",
       "3       RT @EurAsiaBridgeEU: good topic - well done.         joscchh   \n",
       "4  Gestern haben @Lichtemomente, @askans, @michae...         joscchh   \n",
       "\n",
       "                    ID            CreatedAt         Follower  \\\n",
       "0  1359905846659059713  2021-02-11 16:43:14   Christina Rupp   \n",
       "1  1359905846659059713  2021-02-11 16:43:14  Johanna Schäfer   \n",
       "2  1359101568390414337  2021-02-09 11:27:19  Johanna Schäfer   \n",
       "3  1359019191358156802  2021-02-09 05:59:59  Johanna Schäfer   \n",
       "4  1359015354828210176  2021-02-09 05:44:44  Johanna Schäfer   \n",
       "\n",
       "            Location                                    UserDescription  \\\n",
       "0  Bonn, Deutschland  Project Assistant International Cybersecurity ...   \n",
       "1  Bonn, Deutschland  CEO @BonnLAB, urban developer & #SocialMedia e...   \n",
       "2  Bonn, Deutschland  CEO @BonnLAB, urban developer & #SocialMedia e...   \n",
       "3  Bonn, Deutschland  CEO @BonnLAB, urban developer & #SocialMedia e...   \n",
       "4  Bonn, Deutschland  CEO @BonnLAB, urban developer & #SocialMedia e...   \n",
       "\n",
       "   Location_code Friend  Country  \n",
       "0            2.0    NaN  Germany  \n",
       "1            2.0    NaN  Germany  \n",
       "2            2.0    NaN  Germany  \n",
       "3            2.0    NaN  Germany  \n",
       "4            2.0    NaN  Germany  "
      ]
     },
     "execution_count": 5,
     "metadata": {},
     "output_type": "execute_result"
    }
   ],
   "source": [
    "tweets.head()"
   ]
  },
  {
   "cell_type": "markdown",
   "metadata": {},
   "source": [
    "### Before pre-processing the data for NLP, separate tweet by language:"
   ]
  },
  {
   "cell_type": "code",
   "execution_count": 6,
   "metadata": {},
   "outputs": [],
   "source": [
    "from langdetect import detect"
   ]
  },
  {
   "cell_type": "code",
   "execution_count": 7,
   "metadata": {},
   "outputs": [
    {
     "data": {
      "text/plain": [
       "'de'"
      ]
     },
     "execution_count": 7,
     "metadata": {},
     "output_type": "execute_result"
    }
   ],
   "source": [
    "detect(tweets['TweetText'][0])\n",
    "# it detects the first tweet as being German"
   ]
  },
  {
   "cell_type": "code",
   "execution_count": 8,
   "metadata": {},
   "outputs": [
    {
     "data": {
      "text/plain": [
       "'en'"
      ]
     },
     "execution_count": 8,
     "metadata": {},
     "output_type": "execute_result"
    }
   ],
   "source": [
    "detect(tweets['TweetText'][1])\n",
    "# and it detects the second tweet as being English. "
   ]
  },
  {
   "cell_type": "code",
   "execution_count": 9,
   "metadata": {},
   "outputs": [],
   "source": [
    "for index, row in tweets['TweetText'].iteritems():\n",
    "    try:\n",
    "        lang = detect(row)\n",
    "        \n",
    "    except:\n",
    "        lang = 0\n",
    "        \n",
    "    tweets.loc[index, 'Language'] = lang"
   ]
  },
  {
   "cell_type": "code",
   "execution_count": 10,
   "metadata": {},
   "outputs": [
    {
     "data": {
      "text/plain": [
       "en    4785\n",
       "de    3073\n",
       "0       78\n",
       "es      67\n",
       "it      44\n",
       "nl      43\n",
       "fr      35\n",
       "no      32\n",
       "id      31\n",
       "da      26\n",
       "af      21\n",
       "et      19\n",
       "fi      17\n",
       "ro      17\n",
       "cy      17\n",
       "tl      15\n",
       "ca      12\n",
       "pl      12\n",
       "so      12\n",
       "sv      11\n",
       "pt       7\n",
       "tr       6\n",
       "ja       6\n",
       "sw       5\n",
       "sl       5\n",
       "sq       5\n",
       "hu       4\n",
       "sk       4\n",
       "lt       4\n",
       "lv       3\n",
       "hr       3\n",
       "vi       2\n",
       "ru       2\n",
       "cs       1\n",
       "th       1\n",
       "Name: Language, dtype: int64"
      ]
     },
     "execution_count": 10,
     "metadata": {},
     "output_type": "execute_result"
    }
   ],
   "source": [
    "tweets['Language'].value_counts()"
   ]
  },
  {
   "cell_type": "code",
   "execution_count": 11,
   "metadata": {},
   "outputs": [],
   "source": [
    "tweets.drop(['Friend', 'Location_code'], axis=1, inplace=True)"
   ]
  },
  {
   "cell_type": "code",
   "execution_count": 12,
   "metadata": {},
   "outputs": [
    {
     "data": {
      "text/html": [
       "<div>\n",
       "<style scoped>\n",
       "    .dataframe tbody tr th:only-of-type {\n",
       "        vertical-align: middle;\n",
       "    }\n",
       "\n",
       "    .dataframe tbody tr th {\n",
       "        vertical-align: top;\n",
       "    }\n",
       "\n",
       "    .dataframe thead th {\n",
       "        text-align: right;\n",
       "    }\n",
       "</style>\n",
       "<table border=\"1\" class=\"dataframe\">\n",
       "  <thead>\n",
       "    <tr style=\"text-align: right;\">\n",
       "      <th></th>\n",
       "      <th>TweetText</th>\n",
       "      <th>Handle</th>\n",
       "      <th>ID</th>\n",
       "      <th>CreatedAt</th>\n",
       "      <th>Follower</th>\n",
       "      <th>Location</th>\n",
       "      <th>UserDescription</th>\n",
       "      <th>Country</th>\n",
       "      <th>Language</th>\n",
       "    </tr>\n",
       "  </thead>\n",
       "  <tbody>\n",
       "    <tr>\n",
       "      <th>0</th>\n",
       "      <td>RT @z_edian: Unser @snv_berlin Expert:innenwor...</td>\n",
       "      <td>christinacrupp</td>\n",
       "      <td>1359905846659059713</td>\n",
       "      <td>2021-02-11 16:43:14</td>\n",
       "      <td>Christina Rupp</td>\n",
       "      <td>Bonn, Deutschland</td>\n",
       "      <td>Project Assistant International Cybersecurity ...</td>\n",
       "      <td>Germany</td>\n",
       "      <td>de</td>\n",
       "    </tr>\n",
       "    <tr>\n",
       "      <th>1</th>\n",
       "      <td>RT @rachel_groves: Daily goals: Wake up early....</td>\n",
       "      <td>joscchh</td>\n",
       "      <td>1359905846659059713</td>\n",
       "      <td>2021-02-11 16:43:14</td>\n",
       "      <td>Johanna Schäfer</td>\n",
       "      <td>Bonn, Deutschland</td>\n",
       "      <td>CEO @BonnLAB, urban developer &amp; #SocialMedia e...</td>\n",
       "      <td>Germany</td>\n",
       "      <td>en</td>\n",
       "    </tr>\n",
       "    <tr>\n",
       "      <th>2</th>\n",
       "      <td>RT @michael_adler_: Fing gut an! Bonn braucht ...</td>\n",
       "      <td>joscchh</td>\n",
       "      <td>1359101568390414337</td>\n",
       "      <td>2021-02-09 11:27:19</td>\n",
       "      <td>Johanna Schäfer</td>\n",
       "      <td>Bonn, Deutschland</td>\n",
       "      <td>CEO @BonnLAB, urban developer &amp; #SocialMedia e...</td>\n",
       "      <td>Germany</td>\n",
       "      <td>de</td>\n",
       "    </tr>\n",
       "    <tr>\n",
       "      <th>3</th>\n",
       "      <td>RT @EurAsiaBridgeEU: good topic - well done.</td>\n",
       "      <td>joscchh</td>\n",
       "      <td>1359019191358156802</td>\n",
       "      <td>2021-02-09 05:59:59</td>\n",
       "      <td>Johanna Schäfer</td>\n",
       "      <td>Bonn, Deutschland</td>\n",
       "      <td>CEO @BonnLAB, urban developer &amp; #SocialMedia e...</td>\n",
       "      <td>Germany</td>\n",
       "      <td>en</td>\n",
       "    </tr>\n",
       "    <tr>\n",
       "      <th>4</th>\n",
       "      <td>Gestern haben @Lichtemomente, @askans, @michae...</td>\n",
       "      <td>joscchh</td>\n",
       "      <td>1359015354828210176</td>\n",
       "      <td>2021-02-09 05:44:44</td>\n",
       "      <td>Johanna Schäfer</td>\n",
       "      <td>Bonn, Deutschland</td>\n",
       "      <td>CEO @BonnLAB, urban developer &amp; #SocialMedia e...</td>\n",
       "      <td>Germany</td>\n",
       "      <td>de</td>\n",
       "    </tr>\n",
       "  </tbody>\n",
       "</table>\n",
       "</div>"
      ],
      "text/plain": [
       "                                           TweetText          Handle  \\\n",
       "0  RT @z_edian: Unser @snv_berlin Expert:innenwor...  christinacrupp   \n",
       "1  RT @rachel_groves: Daily goals: Wake up early....         joscchh   \n",
       "2  RT @michael_adler_: Fing gut an! Bonn braucht ...         joscchh   \n",
       "3       RT @EurAsiaBridgeEU: good topic - well done.         joscchh   \n",
       "4  Gestern haben @Lichtemomente, @askans, @michae...         joscchh   \n",
       "\n",
       "                    ID            CreatedAt         Follower  \\\n",
       "0  1359905846659059713  2021-02-11 16:43:14   Christina Rupp   \n",
       "1  1359905846659059713  2021-02-11 16:43:14  Johanna Schäfer   \n",
       "2  1359101568390414337  2021-02-09 11:27:19  Johanna Schäfer   \n",
       "3  1359019191358156802  2021-02-09 05:59:59  Johanna Schäfer   \n",
       "4  1359015354828210176  2021-02-09 05:44:44  Johanna Schäfer   \n",
       "\n",
       "            Location                                    UserDescription  \\\n",
       "0  Bonn, Deutschland  Project Assistant International Cybersecurity ...   \n",
       "1  Bonn, Deutschland  CEO @BonnLAB, urban developer & #SocialMedia e...   \n",
       "2  Bonn, Deutschland  CEO @BonnLAB, urban developer & #SocialMedia e...   \n",
       "3  Bonn, Deutschland  CEO @BonnLAB, urban developer & #SocialMedia e...   \n",
       "4  Bonn, Deutschland  CEO @BonnLAB, urban developer & #SocialMedia e...   \n",
       "\n",
       "   Country Language  \n",
       "0  Germany       de  \n",
       "1  Germany       en  \n",
       "2  Germany       de  \n",
       "3  Germany       en  \n",
       "4  Germany       de  "
      ]
     },
     "execution_count": 12,
     "metadata": {},
     "output_type": "execute_result"
    }
   ],
   "source": [
    "tweets.head()"
   ]
  },
  {
   "cell_type": "markdown",
   "metadata": {},
   "source": [
    "### Basic Text Cleanup:"
   ]
  },
  {
   "cell_type": "markdown",
   "metadata": {},
   "source": [
    "Remove RT, Punctuation, etc."
   ]
  },
  {
   "cell_type": "code",
   "execution_count": 13,
   "metadata": {},
   "outputs": [],
   "source": [
    "# add new column in df to clean up the texts\n",
    "tweets['text'] = tweets['TweetText']"
   ]
  },
  {
   "cell_type": "code",
   "execution_count": 14,
   "metadata": {},
   "outputs": [
    {
     "data": {
      "text/plain": [
       "0       RT @z_edian: Unser @snv_berlin Expert:innenwor...\n",
       "1       RT @rachel_groves: Daily goals: Wake up early....\n",
       "2       RT @michael_adler_: Fing gut an! Bonn braucht ...\n",
       "3            RT @EurAsiaBridgeEU: good topic - well done.\n",
       "4       Gestern haben @Lichtemomente, @askans, @michae...\n",
       "                              ...                        \n",
       "8420    RT @jana_hensel: Friedrich Merz hat eine Frau ...\n",
       "8421    Ich hätte nie gedacht, dass ich das mal sage. ...\n",
       "8422    RT @Mareicares: Dass da echt eine Frau ihren J...\n",
       "8423    RT @Nilzenburger: Sich so einen perfiden Begri...\n",
       "8424    Hat gerade ein Foto gepostet @ Berlin, Germany...\n",
       "Name: text, Length: 8425, dtype: object"
      ]
     },
     "execution_count": 14,
     "metadata": {},
     "output_type": "execute_result"
    }
   ],
   "source": [
    "tweets['text']"
   ]
  },
  {
   "cell_type": "code",
   "execution_count": 15,
   "metadata": {},
   "outputs": [],
   "source": [
    "list_tweets = list(tweets['text'])"
   ]
  },
  {
   "cell_type": "code",
   "execution_count": 16,
   "metadata": {},
   "outputs": [],
   "source": [
    "test= tweets.iloc[0][0]"
   ]
  },
  {
   "cell_type": "code",
   "execution_count": 17,
   "metadata": {},
   "outputs": [
    {
     "data": {
      "text/plain": [
       "'RT @z_edian: Unser @snv_berlin Expert:innenworkshop zur \"staatlichen Beantwortung von böswilligen Cyberaktivitäten\" geht langsam zuende.\\n\\nD…'"
      ]
     },
     "execution_count": 17,
     "metadata": {},
     "output_type": "execute_result"
    }
   ],
   "source": [
    "test"
   ]
  },
  {
   "cell_type": "code",
   "execution_count": 18,
   "metadata": {},
   "outputs": [],
   "source": [
    "remove_rt = lambda x: re.sub('RT @\\w+: ', \"\", x)"
   ]
  },
  {
   "cell_type": "code",
   "execution_count": 19,
   "metadata": {},
   "outputs": [],
   "source": [
    "lab = lambda x: re.sub('[^äöüÄÖÜA-Za-z ]+','', x)"
   ]
  },
  {
   "cell_type": "code",
   "execution_count": 20,
   "metadata": {},
   "outputs": [
    {
     "data": {
      "text/plain": [
       "'Unser @snv_berlin Expert:innenworkshop zur \"staatlichen Beantwortung von böswilligen Cyberaktivitäten\" geht langsam zuende.\\n\\nD…'"
      ]
     },
     "execution_count": 20,
     "metadata": {},
     "output_type": "execute_result"
    }
   ],
   "source": [
    "test1 = remove_rt(test)\n",
    "test1"
   ]
  },
  {
   "cell_type": "code",
   "execution_count": 21,
   "metadata": {},
   "outputs": [],
   "source": [
    "test2 = lab(test1)"
   ]
  },
  {
   "cell_type": "code",
   "execution_count": 22,
   "metadata": {},
   "outputs": [
    {
     "data": {
      "text/plain": [
       "'unser snvberlin expertinnenworkshop zur staatlichen beantwortung von böswilligen cyberaktivitäten geht langsam zuended'"
      ]
     },
     "execution_count": 22,
     "metadata": {},
     "output_type": "execute_result"
    }
   ],
   "source": [
    "test2.lower()"
   ]
  },
  {
   "cell_type": "code",
   "execution_count": 23,
   "metadata": {},
   "outputs": [],
   "source": [
    "# Make this into a function:\n",
    "\n",
    "def clean_up(x):\n",
    "    \"\"\" Clean up the text before NLP. \n",
    "    Remove Punctuation, remove retweet and @.\n",
    "    Keep German characters as vowels.\"\"\"\n",
    "    \n",
    "    remove_rt = lambda x: re.sub('RT @\\w+: ', \"\", x)\n",
    "    lab = lambda x: re.sub('[^äöüÄÖÜA-Za-z ]+','', x)\n",
    "    tw_1 = remove_rt(x)\n",
    "    tw_2 = lab(tw_1)\n",
    "    tw_3 =  tw_2.lower()\n",
    "    \n",
    "    return tw_3\n",
    "    "
   ]
  },
  {
   "cell_type": "code",
   "execution_count": 24,
   "metadata": {},
   "outputs": [
    {
     "data": {
      "text/plain": [
       "'unser snvberlin expertinnenworkshop zur staatlichen beantwortung von böswilligen cyberaktivitäten geht langsam zuended'"
      ]
     },
     "execution_count": 24,
     "metadata": {},
     "output_type": "execute_result"
    }
   ],
   "source": [
    "# Test the function with 1 tweet before applying to the column\n",
    "clean_up('RT @z_edian: Unser @snv_berlin Expert:innenworkshop zur \"staatlichen Beantwortung von böswilligen Cyberaktivitäten\" geht langsam zuende.\\n\\nD…')"
   ]
  },
  {
   "cell_type": "code",
   "execution_count": 25,
   "metadata": {},
   "outputs": [],
   "source": [
    "tweets['text'] = tweets['text'].apply(clean_up)"
   ]
  },
  {
   "cell_type": "code",
   "execution_count": 26,
   "metadata": {},
   "outputs": [
    {
     "data": {
      "text/html": [
       "<div>\n",
       "<style scoped>\n",
       "    .dataframe tbody tr th:only-of-type {\n",
       "        vertical-align: middle;\n",
       "    }\n",
       "\n",
       "    .dataframe tbody tr th {\n",
       "        vertical-align: top;\n",
       "    }\n",
       "\n",
       "    .dataframe thead th {\n",
       "        text-align: right;\n",
       "    }\n",
       "</style>\n",
       "<table border=\"1\" class=\"dataframe\">\n",
       "  <thead>\n",
       "    <tr style=\"text-align: right;\">\n",
       "      <th></th>\n",
       "      <th>TweetText</th>\n",
       "      <th>Handle</th>\n",
       "      <th>ID</th>\n",
       "      <th>CreatedAt</th>\n",
       "      <th>Follower</th>\n",
       "      <th>Location</th>\n",
       "      <th>UserDescription</th>\n",
       "      <th>Country</th>\n",
       "      <th>Language</th>\n",
       "      <th>text</th>\n",
       "    </tr>\n",
       "  </thead>\n",
       "  <tbody>\n",
       "    <tr>\n",
       "      <th>0</th>\n",
       "      <td>RT @z_edian: Unser @snv_berlin Expert:innenwor...</td>\n",
       "      <td>christinacrupp</td>\n",
       "      <td>1359905846659059713</td>\n",
       "      <td>2021-02-11 16:43:14</td>\n",
       "      <td>Christina Rupp</td>\n",
       "      <td>Bonn, Deutschland</td>\n",
       "      <td>Project Assistant International Cybersecurity ...</td>\n",
       "      <td>Germany</td>\n",
       "      <td>de</td>\n",
       "      <td>unser snvberlin expertinnenworkshop zur staatl...</td>\n",
       "    </tr>\n",
       "    <tr>\n",
       "      <th>1</th>\n",
       "      <td>RT @rachel_groves: Daily goals: Wake up early....</td>\n",
       "      <td>joscchh</td>\n",
       "      <td>1359905846659059713</td>\n",
       "      <td>2021-02-11 16:43:14</td>\n",
       "      <td>Johanna Schäfer</td>\n",
       "      <td>Bonn, Deutschland</td>\n",
       "      <td>CEO @BonnLAB, urban developer &amp; #SocialMedia e...</td>\n",
       "      <td>Germany</td>\n",
       "      <td>en</td>\n",
       "      <td>daily goals wake up early drink coffee work ha...</td>\n",
       "    </tr>\n",
       "    <tr>\n",
       "      <th>2</th>\n",
       "      <td>RT @michael_adler_: Fing gut an! Bonn braucht ...</td>\n",
       "      <td>joscchh</td>\n",
       "      <td>1359101568390414337</td>\n",
       "      <td>2021-02-09 11:27:19</td>\n",
       "      <td>Johanna Schäfer</td>\n",
       "      <td>Bonn, Deutschland</td>\n",
       "      <td>CEO @BonnLAB, urban developer &amp; #SocialMedia e...</td>\n",
       "      <td>Germany</td>\n",
       "      <td>de</td>\n",
       "      <td>fing gut an bonn braucht einen mindshift von d...</td>\n",
       "    </tr>\n",
       "    <tr>\n",
       "      <th>3</th>\n",
       "      <td>RT @EurAsiaBridgeEU: good topic - well done.</td>\n",
       "      <td>joscchh</td>\n",
       "      <td>1359019191358156802</td>\n",
       "      <td>2021-02-09 05:59:59</td>\n",
       "      <td>Johanna Schäfer</td>\n",
       "      <td>Bonn, Deutschland</td>\n",
       "      <td>CEO @BonnLAB, urban developer &amp; #SocialMedia e...</td>\n",
       "      <td>Germany</td>\n",
       "      <td>en</td>\n",
       "      <td>good topic  well done</td>\n",
       "    </tr>\n",
       "    <tr>\n",
       "      <th>4</th>\n",
       "      <td>Gestern haben @Lichtemomente, @askans, @michae...</td>\n",
       "      <td>joscchh</td>\n",
       "      <td>1359015354828210176</td>\n",
       "      <td>2021-02-09 05:44:44</td>\n",
       "      <td>Johanna Schäfer</td>\n",
       "      <td>Bonn, Deutschland</td>\n",
       "      <td>CEO @BonnLAB, urban developer &amp; #SocialMedia e...</td>\n",
       "      <td>Germany</td>\n",
       "      <td>de</td>\n",
       "      <td>gestern haben lichtemomente askans michaeladle...</td>\n",
       "    </tr>\n",
       "  </tbody>\n",
       "</table>\n",
       "</div>"
      ],
      "text/plain": [
       "                                           TweetText          Handle  \\\n",
       "0  RT @z_edian: Unser @snv_berlin Expert:innenwor...  christinacrupp   \n",
       "1  RT @rachel_groves: Daily goals: Wake up early....         joscchh   \n",
       "2  RT @michael_adler_: Fing gut an! Bonn braucht ...         joscchh   \n",
       "3       RT @EurAsiaBridgeEU: good topic - well done.         joscchh   \n",
       "4  Gestern haben @Lichtemomente, @askans, @michae...         joscchh   \n",
       "\n",
       "                    ID            CreatedAt         Follower  \\\n",
       "0  1359905846659059713  2021-02-11 16:43:14   Christina Rupp   \n",
       "1  1359905846659059713  2021-02-11 16:43:14  Johanna Schäfer   \n",
       "2  1359101568390414337  2021-02-09 11:27:19  Johanna Schäfer   \n",
       "3  1359019191358156802  2021-02-09 05:59:59  Johanna Schäfer   \n",
       "4  1359015354828210176  2021-02-09 05:44:44  Johanna Schäfer   \n",
       "\n",
       "            Location                                    UserDescription  \\\n",
       "0  Bonn, Deutschland  Project Assistant International Cybersecurity ...   \n",
       "1  Bonn, Deutschland  CEO @BonnLAB, urban developer & #SocialMedia e...   \n",
       "2  Bonn, Deutschland  CEO @BonnLAB, urban developer & #SocialMedia e...   \n",
       "3  Bonn, Deutschland  CEO @BonnLAB, urban developer & #SocialMedia e...   \n",
       "4  Bonn, Deutschland  CEO @BonnLAB, urban developer & #SocialMedia e...   \n",
       "\n",
       "   Country Language                                               text  \n",
       "0  Germany       de  unser snvberlin expertinnenworkshop zur staatl...  \n",
       "1  Germany       en  daily goals wake up early drink coffee work ha...  \n",
       "2  Germany       de  fing gut an bonn braucht einen mindshift von d...  \n",
       "3  Germany       en                              good topic  well done  \n",
       "4  Germany       de  gestern haben lichtemomente askans michaeladle...  "
      ]
     },
     "execution_count": 26,
     "metadata": {},
     "output_type": "execute_result"
    }
   ],
   "source": [
    "tweets.head()"
   ]
  },
  {
   "cell_type": "markdown",
   "metadata": {},
   "source": [
    "### Tokenization:"
   ]
  },
  {
   "cell_type": "code",
   "execution_count": 27,
   "metadata": {},
   "outputs": [],
   "source": [
    "def tokenize(x):\n",
    "    \"\"\"Tokenize the tweets.\"\"\"\n",
    "    \n",
    "    from nltk.tokenize import word_tokenize\n",
    "    tokenized_x = word_tokenize(x)\n",
    "    return tokenized_x"
   ]
  },
  {
   "cell_type": "code",
   "execution_count": 28,
   "metadata": {},
   "outputs": [
    {
     "data": {
      "text/plain": [
       "['unser',\n",
       " 'snvberlin',\n",
       " 'expertinnenworkshop',\n",
       " 'zur',\n",
       " 'staatlichen',\n",
       " 'beantwortung',\n",
       " 'von',\n",
       " 'böswilligen',\n",
       " 'cyberaktivitäten',\n",
       " 'geht',\n",
       " 'langsam',\n",
       " 'zuended']"
      ]
     },
     "execution_count": 28,
     "metadata": {},
     "output_type": "execute_result"
    }
   ],
   "source": [
    "tokenize(tweets['text'][0])"
   ]
  },
  {
   "cell_type": "code",
   "execution_count": 29,
   "metadata": {},
   "outputs": [],
   "source": [
    "tweets['tokenized_tw'] = tweets['text'].apply(tokenize)"
   ]
  },
  {
   "cell_type": "code",
   "execution_count": 30,
   "metadata": {},
   "outputs": [
    {
     "data": {
      "text/html": [
       "<div>\n",
       "<style scoped>\n",
       "    .dataframe tbody tr th:only-of-type {\n",
       "        vertical-align: middle;\n",
       "    }\n",
       "\n",
       "    .dataframe tbody tr th {\n",
       "        vertical-align: top;\n",
       "    }\n",
       "\n",
       "    .dataframe thead th {\n",
       "        text-align: right;\n",
       "    }\n",
       "</style>\n",
       "<table border=\"1\" class=\"dataframe\">\n",
       "  <thead>\n",
       "    <tr style=\"text-align: right;\">\n",
       "      <th></th>\n",
       "      <th>TweetText</th>\n",
       "      <th>Handle</th>\n",
       "      <th>ID</th>\n",
       "      <th>CreatedAt</th>\n",
       "      <th>Follower</th>\n",
       "      <th>Location</th>\n",
       "      <th>UserDescription</th>\n",
       "      <th>Country</th>\n",
       "      <th>Language</th>\n",
       "      <th>text</th>\n",
       "      <th>tokenized_tw</th>\n",
       "    </tr>\n",
       "  </thead>\n",
       "  <tbody>\n",
       "    <tr>\n",
       "      <th>0</th>\n",
       "      <td>RT @z_edian: Unser @snv_berlin Expert:innenwor...</td>\n",
       "      <td>christinacrupp</td>\n",
       "      <td>1359905846659059713</td>\n",
       "      <td>2021-02-11 16:43:14</td>\n",
       "      <td>Christina Rupp</td>\n",
       "      <td>Bonn, Deutschland</td>\n",
       "      <td>Project Assistant International Cybersecurity ...</td>\n",
       "      <td>Germany</td>\n",
       "      <td>de</td>\n",
       "      <td>unser snvberlin expertinnenworkshop zur staatl...</td>\n",
       "      <td>[unser, snvberlin, expertinnenworkshop, zur, s...</td>\n",
       "    </tr>\n",
       "    <tr>\n",
       "      <th>1</th>\n",
       "      <td>RT @rachel_groves: Daily goals: Wake up early....</td>\n",
       "      <td>joscchh</td>\n",
       "      <td>1359905846659059713</td>\n",
       "      <td>2021-02-11 16:43:14</td>\n",
       "      <td>Johanna Schäfer</td>\n",
       "      <td>Bonn, Deutschland</td>\n",
       "      <td>CEO @BonnLAB, urban developer &amp; #SocialMedia e...</td>\n",
       "      <td>Germany</td>\n",
       "      <td>en</td>\n",
       "      <td>daily goals wake up early drink coffee work ha...</td>\n",
       "      <td>[daily, goals, wake, up, early, drink, coffee,...</td>\n",
       "    </tr>\n",
       "    <tr>\n",
       "      <th>2</th>\n",
       "      <td>RT @michael_adler_: Fing gut an! Bonn braucht ...</td>\n",
       "      <td>joscchh</td>\n",
       "      <td>1359101568390414337</td>\n",
       "      <td>2021-02-09 11:27:19</td>\n",
       "      <td>Johanna Schäfer</td>\n",
       "      <td>Bonn, Deutschland</td>\n",
       "      <td>CEO @BonnLAB, urban developer &amp; #SocialMedia e...</td>\n",
       "      <td>Germany</td>\n",
       "      <td>de</td>\n",
       "      <td>fing gut an bonn braucht einen mindshift von d...</td>\n",
       "      <td>[fing, gut, an, bonn, braucht, einen, mindshif...</td>\n",
       "    </tr>\n",
       "    <tr>\n",
       "      <th>3</th>\n",
       "      <td>RT @EurAsiaBridgeEU: good topic - well done.</td>\n",
       "      <td>joscchh</td>\n",
       "      <td>1359019191358156802</td>\n",
       "      <td>2021-02-09 05:59:59</td>\n",
       "      <td>Johanna Schäfer</td>\n",
       "      <td>Bonn, Deutschland</td>\n",
       "      <td>CEO @BonnLAB, urban developer &amp; #SocialMedia e...</td>\n",
       "      <td>Germany</td>\n",
       "      <td>en</td>\n",
       "      <td>good topic  well done</td>\n",
       "      <td>[good, topic, well, done]</td>\n",
       "    </tr>\n",
       "    <tr>\n",
       "      <th>4</th>\n",
       "      <td>Gestern haben @Lichtemomente, @askans, @michae...</td>\n",
       "      <td>joscchh</td>\n",
       "      <td>1359015354828210176</td>\n",
       "      <td>2021-02-09 05:44:44</td>\n",
       "      <td>Johanna Schäfer</td>\n",
       "      <td>Bonn, Deutschland</td>\n",
       "      <td>CEO @BonnLAB, urban developer &amp; #SocialMedia e...</td>\n",
       "      <td>Germany</td>\n",
       "      <td>de</td>\n",
       "      <td>gestern haben lichtemomente askans michaeladle...</td>\n",
       "      <td>[gestern, haben, lichtemomente, askans, michae...</td>\n",
       "    </tr>\n",
       "  </tbody>\n",
       "</table>\n",
       "</div>"
      ],
      "text/plain": [
       "                                           TweetText          Handle  \\\n",
       "0  RT @z_edian: Unser @snv_berlin Expert:innenwor...  christinacrupp   \n",
       "1  RT @rachel_groves: Daily goals: Wake up early....         joscchh   \n",
       "2  RT @michael_adler_: Fing gut an! Bonn braucht ...         joscchh   \n",
       "3       RT @EurAsiaBridgeEU: good topic - well done.         joscchh   \n",
       "4  Gestern haben @Lichtemomente, @askans, @michae...         joscchh   \n",
       "\n",
       "                    ID            CreatedAt         Follower  \\\n",
       "0  1359905846659059713  2021-02-11 16:43:14   Christina Rupp   \n",
       "1  1359905846659059713  2021-02-11 16:43:14  Johanna Schäfer   \n",
       "2  1359101568390414337  2021-02-09 11:27:19  Johanna Schäfer   \n",
       "3  1359019191358156802  2021-02-09 05:59:59  Johanna Schäfer   \n",
       "4  1359015354828210176  2021-02-09 05:44:44  Johanna Schäfer   \n",
       "\n",
       "            Location                                    UserDescription  \\\n",
       "0  Bonn, Deutschland  Project Assistant International Cybersecurity ...   \n",
       "1  Bonn, Deutschland  CEO @BonnLAB, urban developer & #SocialMedia e...   \n",
       "2  Bonn, Deutschland  CEO @BonnLAB, urban developer & #SocialMedia e...   \n",
       "3  Bonn, Deutschland  CEO @BonnLAB, urban developer & #SocialMedia e...   \n",
       "4  Bonn, Deutschland  CEO @BonnLAB, urban developer & #SocialMedia e...   \n",
       "\n",
       "   Country Language                                               text  \\\n",
       "0  Germany       de  unser snvberlin expertinnenworkshop zur staatl...   \n",
       "1  Germany       en  daily goals wake up early drink coffee work ha...   \n",
       "2  Germany       de  fing gut an bonn braucht einen mindshift von d...   \n",
       "3  Germany       en                              good topic  well done   \n",
       "4  Germany       de  gestern haben lichtemomente askans michaeladle...   \n",
       "\n",
       "                                        tokenized_tw  \n",
       "0  [unser, snvberlin, expertinnenworkshop, zur, s...  \n",
       "1  [daily, goals, wake, up, early, drink, coffee,...  \n",
       "2  [fing, gut, an, bonn, braucht, einen, mindshif...  \n",
       "3                          [good, topic, well, done]  \n",
       "4  [gestern, haben, lichtemomente, askans, michae...  "
      ]
     },
     "execution_count": 30,
     "metadata": {},
     "output_type": "execute_result"
    }
   ],
   "source": [
    "tweets.head()"
   ]
  },
  {
   "cell_type": "markdown",
   "metadata": {},
   "source": [
    "### Subset in German and English dataframes for the stemming/lemmatizing/vectorizing/analysis:"
   ]
  },
  {
   "cell_type": "code",
   "execution_count": 31,
   "metadata": {},
   "outputs": [
    {
     "data": {
      "text/plain": [
       "(4785, 11)"
      ]
     },
     "execution_count": 31,
     "metadata": {},
     "output_type": "execute_result"
    }
   ],
   "source": [
    "tweets_en = tweets[tweets['Language']=='en']\n",
    "tweets_en.shape"
   ]
  },
  {
   "cell_type": "code",
   "execution_count": 32,
   "metadata": {},
   "outputs": [
    {
     "data": {
      "text/plain": [
       "(3073, 11)"
      ]
     },
     "execution_count": 32,
     "metadata": {},
     "output_type": "execute_result"
    }
   ],
   "source": [
    "tweets_de = tweets[tweets['Language']=='de']\n",
    "tweets_de.shape"
   ]
  },
  {
   "cell_type": "code",
   "execution_count": 33,
   "metadata": {},
   "outputs": [],
   "source": [
    "# So there are now a couple hundred tweets dropped from my analysis since the language was either not detected, or not detected as en/de."
   ]
  },
  {
   "cell_type": "markdown",
   "metadata": {},
   "source": [
    "### Stemming and Lemmatization:"
   ]
  },
  {
   "cell_type": "code",
   "execution_count": 34,
   "metadata": {},
   "outputs": [],
   "source": [
    "def stem_lemmatize_en(l):\n",
    "    \"\"\"This function performs both stemming and lemmatization on our english tweets.\"\"\"\n",
    "    \n",
    "    \n",
    "    from nltk.stem import WordNetLemmatizer\n",
    "    lemmatizer = WordNetLemmatizer()\n",
    "    l = [lemmatizer.lemmatize(item) for item in l]\n",
    "    from nltk.stem import SnowballStemmer\n",
    "    stemmer = SnowballStemmer(\"english\")\n",
    "    l = [stemmer.stem(item) for item in l]\n",
    "    \n",
    "    return l "
   ]
  },
  {
   "cell_type": "code",
   "execution_count": 35,
   "metadata": {},
   "outputs": [],
   "source": [
    "tweets_en['stem_lemm_tw'] = tweets_en['tokenized_tw'].apply(stem_lemmatize_en)"
   ]
  },
  {
   "cell_type": "code",
   "execution_count": 36,
   "metadata": {},
   "outputs": [
    {
     "data": {
      "text/html": [
       "<div>\n",
       "<style scoped>\n",
       "    .dataframe tbody tr th:only-of-type {\n",
       "        vertical-align: middle;\n",
       "    }\n",
       "\n",
       "    .dataframe tbody tr th {\n",
       "        vertical-align: top;\n",
       "    }\n",
       "\n",
       "    .dataframe thead th {\n",
       "        text-align: right;\n",
       "    }\n",
       "</style>\n",
       "<table border=\"1\" class=\"dataframe\">\n",
       "  <thead>\n",
       "    <tr style=\"text-align: right;\">\n",
       "      <th></th>\n",
       "      <th>TweetText</th>\n",
       "      <th>Handle</th>\n",
       "      <th>ID</th>\n",
       "      <th>CreatedAt</th>\n",
       "      <th>Follower</th>\n",
       "      <th>Location</th>\n",
       "      <th>UserDescription</th>\n",
       "      <th>Country</th>\n",
       "      <th>Language</th>\n",
       "      <th>text</th>\n",
       "      <th>tokenized_tw</th>\n",
       "      <th>stem_lemm_tw</th>\n",
       "    </tr>\n",
       "  </thead>\n",
       "  <tbody>\n",
       "    <tr>\n",
       "      <th>1</th>\n",
       "      <td>RT @rachel_groves: Daily goals: Wake up early....</td>\n",
       "      <td>joscchh</td>\n",
       "      <td>1359905846659059713</td>\n",
       "      <td>2021-02-11 16:43:14</td>\n",
       "      <td>Johanna Schäfer</td>\n",
       "      <td>Bonn, Deutschland</td>\n",
       "      <td>CEO @BonnLAB, urban developer &amp; #SocialMedia e...</td>\n",
       "      <td>Germany</td>\n",
       "      <td>en</td>\n",
       "      <td>daily goals wake up early drink coffee work ha...</td>\n",
       "      <td>[daily, goals, wake, up, early, drink, coffee,...</td>\n",
       "      <td>[daili, goal, wake, up, earli, drink, coffe, w...</td>\n",
       "    </tr>\n",
       "    <tr>\n",
       "      <th>3</th>\n",
       "      <td>RT @EurAsiaBridgeEU: good topic - well done.</td>\n",
       "      <td>joscchh</td>\n",
       "      <td>1359019191358156802</td>\n",
       "      <td>2021-02-09 05:59:59</td>\n",
       "      <td>Johanna Schäfer</td>\n",
       "      <td>Bonn, Deutschland</td>\n",
       "      <td>CEO @BonnLAB, urban developer &amp; #SocialMedia e...</td>\n",
       "      <td>Germany</td>\n",
       "      <td>en</td>\n",
       "      <td>good topic  well done</td>\n",
       "      <td>[good, topic, well, done]</td>\n",
       "      <td>[good, topic, well, done]</td>\n",
       "    </tr>\n",
       "    <tr>\n",
       "      <th>8</th>\n",
       "      <td>@jpbrice Life is always precious - every singl...</td>\n",
       "      <td>joscchh</td>\n",
       "      <td>1358756115320885248</td>\n",
       "      <td>2021-02-08 12:34:37</td>\n",
       "      <td>Johanna Schäfer</td>\n",
       "      <td>Bonn, Deutschland</td>\n",
       "      <td>CEO @BonnLAB, urban developer &amp; #SocialMedia e...</td>\n",
       "      <td>Germany</td>\n",
       "      <td>en</td>\n",
       "      <td>jpbrice life is always precious  every single ...</td>\n",
       "      <td>[jpbrice, life, is, always, precious, every, s...</td>\n",
       "      <td>[jpbrice, life, is, alway, precious, everi, si...</td>\n",
       "    </tr>\n",
       "    <tr>\n",
       "      <th>11</th>\n",
       "      <td>@PeterShepherd8 @MYorke27 @ZEReadyOregon Great...</td>\n",
       "      <td>joscchh</td>\n",
       "      <td>1356880098310422528</td>\n",
       "      <td>2021-02-03 08:19:59</td>\n",
       "      <td>Johanna Schäfer</td>\n",
       "      <td>Bonn, Deutschland</td>\n",
       "      <td>CEO @BonnLAB, urban developer &amp; #SocialMedia e...</td>\n",
       "      <td>Germany</td>\n",
       "      <td>en</td>\n",
       "      <td>petershepherd myorke zereadyoregon great  we h...</td>\n",
       "      <td>[petershepherd, myorke, zereadyoregon, great, ...</td>\n",
       "      <td>[petershepherd, myork, zereadyoregon, great, w...</td>\n",
       "    </tr>\n",
       "    <tr>\n",
       "      <th>12</th>\n",
       "      <td>RT @jpbrice: “You never know how strong you ar...</td>\n",
       "      <td>joscchh</td>\n",
       "      <td>1355578851544412168</td>\n",
       "      <td>2021-01-30 18:09:18</td>\n",
       "      <td>Johanna Schäfer</td>\n",
       "      <td>Bonn, Deutschland</td>\n",
       "      <td>CEO @BonnLAB, urban developer &amp; #SocialMedia e...</td>\n",
       "      <td>Germany</td>\n",
       "      <td>en</td>\n",
       "      <td>you never know how strong you are until being ...</td>\n",
       "      <td>[you, never, know, how, strong, you, are, unti...</td>\n",
       "      <td>[you, never, know, how, strong, you, are, unti...</td>\n",
       "    </tr>\n",
       "  </tbody>\n",
       "</table>\n",
       "</div>"
      ],
      "text/plain": [
       "                                            TweetText   Handle  \\\n",
       "1   RT @rachel_groves: Daily goals: Wake up early....  joscchh   \n",
       "3        RT @EurAsiaBridgeEU: good topic - well done.  joscchh   \n",
       "8   @jpbrice Life is always precious - every singl...  joscchh   \n",
       "11  @PeterShepherd8 @MYorke27 @ZEReadyOregon Great...  joscchh   \n",
       "12  RT @jpbrice: “You never know how strong you ar...  joscchh   \n",
       "\n",
       "                     ID            CreatedAt         Follower  \\\n",
       "1   1359905846659059713  2021-02-11 16:43:14  Johanna Schäfer   \n",
       "3   1359019191358156802  2021-02-09 05:59:59  Johanna Schäfer   \n",
       "8   1358756115320885248  2021-02-08 12:34:37  Johanna Schäfer   \n",
       "11  1356880098310422528  2021-02-03 08:19:59  Johanna Schäfer   \n",
       "12  1355578851544412168  2021-01-30 18:09:18  Johanna Schäfer   \n",
       "\n",
       "             Location                                    UserDescription  \\\n",
       "1   Bonn, Deutschland  CEO @BonnLAB, urban developer & #SocialMedia e...   \n",
       "3   Bonn, Deutschland  CEO @BonnLAB, urban developer & #SocialMedia e...   \n",
       "8   Bonn, Deutschland  CEO @BonnLAB, urban developer & #SocialMedia e...   \n",
       "11  Bonn, Deutschland  CEO @BonnLAB, urban developer & #SocialMedia e...   \n",
       "12  Bonn, Deutschland  CEO @BonnLAB, urban developer & #SocialMedia e...   \n",
       "\n",
       "    Country Language                                               text  \\\n",
       "1   Germany       en  daily goals wake up early drink coffee work ha...   \n",
       "3   Germany       en                              good topic  well done   \n",
       "8   Germany       en  jpbrice life is always precious  every single ...   \n",
       "11  Germany       en  petershepherd myorke zereadyoregon great  we h...   \n",
       "12  Germany       en  you never know how strong you are until being ...   \n",
       "\n",
       "                                         tokenized_tw  \\\n",
       "1   [daily, goals, wake, up, early, drink, coffee,...   \n",
       "3                           [good, topic, well, done]   \n",
       "8   [jpbrice, life, is, always, precious, every, s...   \n",
       "11  [petershepherd, myorke, zereadyoregon, great, ...   \n",
       "12  [you, never, know, how, strong, you, are, unti...   \n",
       "\n",
       "                                         stem_lemm_tw  \n",
       "1   [daili, goal, wake, up, earli, drink, coffe, w...  \n",
       "3                           [good, topic, well, done]  \n",
       "8   [jpbrice, life, is, alway, precious, everi, si...  \n",
       "11  [petershepherd, myork, zereadyoregon, great, w...  \n",
       "12  [you, never, know, how, strong, you, are, unti...  "
      ]
     },
     "execution_count": 36,
     "metadata": {},
     "output_type": "execute_result"
    }
   ],
   "source": [
    "tweets_en.head()\n",
    "# Does it actually look like the texts have changed enough from stemming and lemmatization?? "
   ]
  },
  {
   "cell_type": "code",
   "execution_count": 37,
   "metadata": {},
   "outputs": [],
   "source": [
    "def stem_lemmatize_de(l):\n",
    "    \"\"\"This function performs both stemming and lemmatization on our german tweets.\"\"\"\n",
    "    \n",
    "    \n",
    "    from nltk.stem import WordNetLemmatizer\n",
    "    lemmatizer = WordNetLemmatizer()\n",
    "    l = [lemmatizer.lemmatize(item) for item in l]\n",
    "    from nltk.stem import SnowballStemmer\n",
    "    stemmer = SnowballStemmer(\"german\")\n",
    "    l = [stemmer.stem(item) for item in l]\n",
    "    \n",
    "    return l "
   ]
  },
  {
   "cell_type": "code",
   "execution_count": 38,
   "metadata": {},
   "outputs": [
    {
     "data": {
      "text/html": [
       "<div>\n",
       "<style scoped>\n",
       "    .dataframe tbody tr th:only-of-type {\n",
       "        vertical-align: middle;\n",
       "    }\n",
       "\n",
       "    .dataframe tbody tr th {\n",
       "        vertical-align: top;\n",
       "    }\n",
       "\n",
       "    .dataframe thead th {\n",
       "        text-align: right;\n",
       "    }\n",
       "</style>\n",
       "<table border=\"1\" class=\"dataframe\">\n",
       "  <thead>\n",
       "    <tr style=\"text-align: right;\">\n",
       "      <th></th>\n",
       "      <th>TweetText</th>\n",
       "      <th>Handle</th>\n",
       "      <th>ID</th>\n",
       "      <th>CreatedAt</th>\n",
       "      <th>Follower</th>\n",
       "      <th>Location</th>\n",
       "      <th>UserDescription</th>\n",
       "      <th>Country</th>\n",
       "      <th>Language</th>\n",
       "      <th>text</th>\n",
       "      <th>tokenized_tw</th>\n",
       "      <th>stem_lemm_tw</th>\n",
       "    </tr>\n",
       "  </thead>\n",
       "  <tbody>\n",
       "    <tr>\n",
       "      <th>0</th>\n",
       "      <td>RT @z_edian: Unser @snv_berlin Expert:innenwor...</td>\n",
       "      <td>christinacrupp</td>\n",
       "      <td>1359905846659059713</td>\n",
       "      <td>2021-02-11 16:43:14</td>\n",
       "      <td>Christina Rupp</td>\n",
       "      <td>Bonn, Deutschland</td>\n",
       "      <td>Project Assistant International Cybersecurity ...</td>\n",
       "      <td>Germany</td>\n",
       "      <td>de</td>\n",
       "      <td>unser snvberlin expertinnenworkshop zur staatl...</td>\n",
       "      <td>[unser, snvberlin, expertinnenworkshop, zur, s...</td>\n",
       "      <td>[uns, snvberlin, expertinnenworkshop, zur, sta...</td>\n",
       "    </tr>\n",
       "    <tr>\n",
       "      <th>2</th>\n",
       "      <td>RT @michael_adler_: Fing gut an! Bonn braucht ...</td>\n",
       "      <td>joscchh</td>\n",
       "      <td>1359101568390414337</td>\n",
       "      <td>2021-02-09 11:27:19</td>\n",
       "      <td>Johanna Schäfer</td>\n",
       "      <td>Bonn, Deutschland</td>\n",
       "      <td>CEO @BonnLAB, urban developer &amp; #SocialMedia e...</td>\n",
       "      <td>Germany</td>\n",
       "      <td>de</td>\n",
       "      <td>fing gut an bonn braucht einen mindshift von d...</td>\n",
       "      <td>[fing, gut, an, bonn, braucht, einen, mindshif...</td>\n",
       "      <td>[fing, gut, an, bonn, braucht, ein, mindshift,...</td>\n",
       "    </tr>\n",
       "    <tr>\n",
       "      <th>4</th>\n",
       "      <td>Gestern haben @Lichtemomente, @askans, @michae...</td>\n",
       "      <td>joscchh</td>\n",
       "      <td>1359015354828210176</td>\n",
       "      <td>2021-02-09 05:44:44</td>\n",
       "      <td>Johanna Schäfer</td>\n",
       "      <td>Bonn, Deutschland</td>\n",
       "      <td>CEO @BonnLAB, urban developer &amp; #SocialMedia e...</td>\n",
       "      <td>Germany</td>\n",
       "      <td>de</td>\n",
       "      <td>gestern haben lichtemomente askans michaeladle...</td>\n",
       "      <td>[gestern, haben, lichtemomente, askans, michae...</td>\n",
       "      <td>[gest, hab, lichtemoment, askan, michaeladl, b...</td>\n",
       "    </tr>\n",
       "    <tr>\n",
       "      <th>5</th>\n",
       "      <td>@VolkerGoebbels Macht Sinn 😏</td>\n",
       "      <td>joscchh</td>\n",
       "      <td>1358806042960932869</td>\n",
       "      <td>2021-02-08 15:53:00</td>\n",
       "      <td>Johanna Schäfer</td>\n",
       "      <td>Bonn, Deutschland</td>\n",
       "      <td>CEO @BonnLAB, urban developer &amp; #SocialMedia e...</td>\n",
       "      <td>Germany</td>\n",
       "      <td>de</td>\n",
       "      <td>volkergoebbels macht sinn</td>\n",
       "      <td>[volkergoebbels, macht, sinn]</td>\n",
       "      <td>[volkergoebbel, macht, sinn]</td>\n",
       "    </tr>\n",
       "    <tr>\n",
       "      <th>6</th>\n",
       "      <td>@jbrunotte Was waren denn deine Beweggründe da...</td>\n",
       "      <td>joscchh</td>\n",
       "      <td>1358758503419162624</td>\n",
       "      <td>2021-02-08 12:44:06</td>\n",
       "      <td>Johanna Schäfer</td>\n",
       "      <td>Bonn, Deutschland</td>\n",
       "      <td>CEO @BonnLAB, urban developer &amp; #SocialMedia e...</td>\n",
       "      <td>Germany</td>\n",
       "      <td>de</td>\n",
       "      <td>jbrunotte was waren denn deine beweggründe daf...</td>\n",
       "      <td>[jbrunotte, was, waren, denn, deine, beweggrün...</td>\n",
       "      <td>[jbrunott, wa, war, denn, dein, beweggrund, da...</td>\n",
       "    </tr>\n",
       "  </tbody>\n",
       "</table>\n",
       "</div>"
      ],
      "text/plain": [
       "                                           TweetText          Handle  \\\n",
       "0  RT @z_edian: Unser @snv_berlin Expert:innenwor...  christinacrupp   \n",
       "2  RT @michael_adler_: Fing gut an! Bonn braucht ...         joscchh   \n",
       "4  Gestern haben @Lichtemomente, @askans, @michae...         joscchh   \n",
       "5                       @VolkerGoebbels Macht Sinn 😏         joscchh   \n",
       "6  @jbrunotte Was waren denn deine Beweggründe da...         joscchh   \n",
       "\n",
       "                    ID            CreatedAt         Follower  \\\n",
       "0  1359905846659059713  2021-02-11 16:43:14   Christina Rupp   \n",
       "2  1359101568390414337  2021-02-09 11:27:19  Johanna Schäfer   \n",
       "4  1359015354828210176  2021-02-09 05:44:44  Johanna Schäfer   \n",
       "5  1358806042960932869  2021-02-08 15:53:00  Johanna Schäfer   \n",
       "6  1358758503419162624  2021-02-08 12:44:06  Johanna Schäfer   \n",
       "\n",
       "            Location                                    UserDescription  \\\n",
       "0  Bonn, Deutschland  Project Assistant International Cybersecurity ...   \n",
       "2  Bonn, Deutschland  CEO @BonnLAB, urban developer & #SocialMedia e...   \n",
       "4  Bonn, Deutschland  CEO @BonnLAB, urban developer & #SocialMedia e...   \n",
       "5  Bonn, Deutschland  CEO @BonnLAB, urban developer & #SocialMedia e...   \n",
       "6  Bonn, Deutschland  CEO @BonnLAB, urban developer & #SocialMedia e...   \n",
       "\n",
       "   Country Language                                               text  \\\n",
       "0  Germany       de  unser snvberlin expertinnenworkshop zur staatl...   \n",
       "2  Germany       de  fing gut an bonn braucht einen mindshift von d...   \n",
       "4  Germany       de  gestern haben lichtemomente askans michaeladle...   \n",
       "5  Germany       de                         volkergoebbels macht sinn    \n",
       "6  Germany       de  jbrunotte was waren denn deine beweggründe daf...   \n",
       "\n",
       "                                        tokenized_tw  \\\n",
       "0  [unser, snvberlin, expertinnenworkshop, zur, s...   \n",
       "2  [fing, gut, an, bonn, braucht, einen, mindshif...   \n",
       "4  [gestern, haben, lichtemomente, askans, michae...   \n",
       "5                      [volkergoebbels, macht, sinn]   \n",
       "6  [jbrunotte, was, waren, denn, deine, beweggrün...   \n",
       "\n",
       "                                        stem_lemm_tw  \n",
       "0  [uns, snvberlin, expertinnenworkshop, zur, sta...  \n",
       "2  [fing, gut, an, bonn, braucht, ein, mindshift,...  \n",
       "4  [gest, hab, lichtemoment, askan, michaeladl, b...  \n",
       "5                       [volkergoebbel, macht, sinn]  \n",
       "6  [jbrunott, wa, war, denn, dein, beweggrund, da...  "
      ]
     },
     "execution_count": 38,
     "metadata": {},
     "output_type": "execute_result"
    }
   ],
   "source": [
    "tweets_de['stem_lemm_tw'] = tweets_de['tokenized_tw'].apply(stem_lemmatize_de)\n",
    "tweets_de.head()"
   ]
  },
  {
   "cell_type": "markdown",
   "metadata": {},
   "source": [
    "### Stopwords Removal:"
   ]
  },
  {
   "cell_type": "code",
   "execution_count": 39,
   "metadata": {},
   "outputs": [],
   "source": [
    "def remove_stopwords_en(l):\n",
    "    \"\"\"Remove english stopwords from a list of tweets.\"\"\"\n",
    "    \n",
    "    from nltk.corpus import stopwords\n",
    "    stopwords_list = stopwords.words(\"english\")\n",
    "    l = [item for item in l if not item in stopwords_list]\n",
    "    \n",
    "    return l"
   ]
  },
  {
   "cell_type": "code",
   "execution_count": 40,
   "metadata": {},
   "outputs": [
    {
     "data": {
      "text/html": [
       "<div>\n",
       "<style scoped>\n",
       "    .dataframe tbody tr th:only-of-type {\n",
       "        vertical-align: middle;\n",
       "    }\n",
       "\n",
       "    .dataframe tbody tr th {\n",
       "        vertical-align: top;\n",
       "    }\n",
       "\n",
       "    .dataframe thead th {\n",
       "        text-align: right;\n",
       "    }\n",
       "</style>\n",
       "<table border=\"1\" class=\"dataframe\">\n",
       "  <thead>\n",
       "    <tr style=\"text-align: right;\">\n",
       "      <th></th>\n",
       "      <th>TweetText</th>\n",
       "      <th>Handle</th>\n",
       "      <th>ID</th>\n",
       "      <th>CreatedAt</th>\n",
       "      <th>Follower</th>\n",
       "      <th>Location</th>\n",
       "      <th>UserDescription</th>\n",
       "      <th>Country</th>\n",
       "      <th>Language</th>\n",
       "      <th>text</th>\n",
       "      <th>tokenized_tw</th>\n",
       "      <th>stem_lemm_tw</th>\n",
       "      <th>remove_stopwords_tw</th>\n",
       "    </tr>\n",
       "  </thead>\n",
       "  <tbody>\n",
       "    <tr>\n",
       "      <th>1</th>\n",
       "      <td>RT @rachel_groves: Daily goals: Wake up early....</td>\n",
       "      <td>joscchh</td>\n",
       "      <td>1359905846659059713</td>\n",
       "      <td>2021-02-11 16:43:14</td>\n",
       "      <td>Johanna Schäfer</td>\n",
       "      <td>Bonn, Deutschland</td>\n",
       "      <td>CEO @BonnLAB, urban developer &amp; #SocialMedia e...</td>\n",
       "      <td>Germany</td>\n",
       "      <td>en</td>\n",
       "      <td>daily goals wake up early drink coffee work ha...</td>\n",
       "      <td>[daily, goals, wake, up, early, drink, coffee,...</td>\n",
       "      <td>[daili, goal, wake, up, earli, drink, coffe, w...</td>\n",
       "      <td>[daili, goal, wake, earli, drink, coffe, work,...</td>\n",
       "    </tr>\n",
       "    <tr>\n",
       "      <th>3</th>\n",
       "      <td>RT @EurAsiaBridgeEU: good topic - well done.</td>\n",
       "      <td>joscchh</td>\n",
       "      <td>1359019191358156802</td>\n",
       "      <td>2021-02-09 05:59:59</td>\n",
       "      <td>Johanna Schäfer</td>\n",
       "      <td>Bonn, Deutschland</td>\n",
       "      <td>CEO @BonnLAB, urban developer &amp; #SocialMedia e...</td>\n",
       "      <td>Germany</td>\n",
       "      <td>en</td>\n",
       "      <td>good topic  well done</td>\n",
       "      <td>[good, topic, well, done]</td>\n",
       "      <td>[good, topic, well, done]</td>\n",
       "      <td>[good, topic, well, done]</td>\n",
       "    </tr>\n",
       "    <tr>\n",
       "      <th>8</th>\n",
       "      <td>@jpbrice Life is always precious - every singl...</td>\n",
       "      <td>joscchh</td>\n",
       "      <td>1358756115320885248</td>\n",
       "      <td>2021-02-08 12:34:37</td>\n",
       "      <td>Johanna Schäfer</td>\n",
       "      <td>Bonn, Deutschland</td>\n",
       "      <td>CEO @BonnLAB, urban developer &amp; #SocialMedia e...</td>\n",
       "      <td>Germany</td>\n",
       "      <td>en</td>\n",
       "      <td>jpbrice life is always precious  every single ...</td>\n",
       "      <td>[jpbrice, life, is, always, precious, every, s...</td>\n",
       "      <td>[jpbrice, life, is, alway, precious, everi, si...</td>\n",
       "      <td>[jpbrice, life, alway, precious, everi, singl,...</td>\n",
       "    </tr>\n",
       "    <tr>\n",
       "      <th>11</th>\n",
       "      <td>@PeterShepherd8 @MYorke27 @ZEReadyOregon Great...</td>\n",
       "      <td>joscchh</td>\n",
       "      <td>1356880098310422528</td>\n",
       "      <td>2021-02-03 08:19:59</td>\n",
       "      <td>Johanna Schäfer</td>\n",
       "      <td>Bonn, Deutschland</td>\n",
       "      <td>CEO @BonnLAB, urban developer &amp; #SocialMedia e...</td>\n",
       "      <td>Germany</td>\n",
       "      <td>en</td>\n",
       "      <td>petershepherd myorke zereadyoregon great  we h...</td>\n",
       "      <td>[petershepherd, myorke, zereadyoregon, great, ...</td>\n",
       "      <td>[petershepherd, myork, zereadyoregon, great, w...</td>\n",
       "      <td>[petershepherd, myork, zereadyoregon, great, l...</td>\n",
       "    </tr>\n",
       "    <tr>\n",
       "      <th>12</th>\n",
       "      <td>RT @jpbrice: “You never know how strong you ar...</td>\n",
       "      <td>joscchh</td>\n",
       "      <td>1355578851544412168</td>\n",
       "      <td>2021-01-30 18:09:18</td>\n",
       "      <td>Johanna Schäfer</td>\n",
       "      <td>Bonn, Deutschland</td>\n",
       "      <td>CEO @BonnLAB, urban developer &amp; #SocialMedia e...</td>\n",
       "      <td>Germany</td>\n",
       "      <td>en</td>\n",
       "      <td>you never know how strong you are until being ...</td>\n",
       "      <td>[you, never, know, how, strong, you, are, unti...</td>\n",
       "      <td>[you, never, know, how, strong, you, are, unti...</td>\n",
       "      <td>[never, know, strong, strong, onli, choic, quo...</td>\n",
       "    </tr>\n",
       "  </tbody>\n",
       "</table>\n",
       "</div>"
      ],
      "text/plain": [
       "                                            TweetText   Handle  \\\n",
       "1   RT @rachel_groves: Daily goals: Wake up early....  joscchh   \n",
       "3        RT @EurAsiaBridgeEU: good topic - well done.  joscchh   \n",
       "8   @jpbrice Life is always precious - every singl...  joscchh   \n",
       "11  @PeterShepherd8 @MYorke27 @ZEReadyOregon Great...  joscchh   \n",
       "12  RT @jpbrice: “You never know how strong you ar...  joscchh   \n",
       "\n",
       "                     ID            CreatedAt         Follower  \\\n",
       "1   1359905846659059713  2021-02-11 16:43:14  Johanna Schäfer   \n",
       "3   1359019191358156802  2021-02-09 05:59:59  Johanna Schäfer   \n",
       "8   1358756115320885248  2021-02-08 12:34:37  Johanna Schäfer   \n",
       "11  1356880098310422528  2021-02-03 08:19:59  Johanna Schäfer   \n",
       "12  1355578851544412168  2021-01-30 18:09:18  Johanna Schäfer   \n",
       "\n",
       "             Location                                    UserDescription  \\\n",
       "1   Bonn, Deutschland  CEO @BonnLAB, urban developer & #SocialMedia e...   \n",
       "3   Bonn, Deutschland  CEO @BonnLAB, urban developer & #SocialMedia e...   \n",
       "8   Bonn, Deutschland  CEO @BonnLAB, urban developer & #SocialMedia e...   \n",
       "11  Bonn, Deutschland  CEO @BonnLAB, urban developer & #SocialMedia e...   \n",
       "12  Bonn, Deutschland  CEO @BonnLAB, urban developer & #SocialMedia e...   \n",
       "\n",
       "    Country Language                                               text  \\\n",
       "1   Germany       en  daily goals wake up early drink coffee work ha...   \n",
       "3   Germany       en                              good topic  well done   \n",
       "8   Germany       en  jpbrice life is always precious  every single ...   \n",
       "11  Germany       en  petershepherd myorke zereadyoregon great  we h...   \n",
       "12  Germany       en  you never know how strong you are until being ...   \n",
       "\n",
       "                                         tokenized_tw  \\\n",
       "1   [daily, goals, wake, up, early, drink, coffee,...   \n",
       "3                           [good, topic, well, done]   \n",
       "8   [jpbrice, life, is, always, precious, every, s...   \n",
       "11  [petershepherd, myorke, zereadyoregon, great, ...   \n",
       "12  [you, never, know, how, strong, you, are, unti...   \n",
       "\n",
       "                                         stem_lemm_tw  \\\n",
       "1   [daili, goal, wake, up, earli, drink, coffe, w...   \n",
       "3                           [good, topic, well, done]   \n",
       "8   [jpbrice, life, is, alway, precious, everi, si...   \n",
       "11  [petershepherd, myork, zereadyoregon, great, w...   \n",
       "12  [you, never, know, how, strong, you, are, unti...   \n",
       "\n",
       "                                  remove_stopwords_tw  \n",
       "1   [daili, goal, wake, earli, drink, coffe, work,...  \n",
       "3                           [good, topic, well, done]  \n",
       "8   [jpbrice, life, alway, precious, everi, singl,...  \n",
       "11  [petershepherd, myork, zereadyoregon, great, l...  \n",
       "12  [never, know, strong, strong, onli, choic, quo...  "
      ]
     },
     "execution_count": 40,
     "metadata": {},
     "output_type": "execute_result"
    }
   ],
   "source": [
    "tweets_en['remove_stopwords_tw'] = tweets_en['stem_lemm_tw'].apply(remove_stopwords_en)\n",
    "tweets_en.head()"
   ]
  },
  {
   "cell_type": "code",
   "execution_count": 41,
   "metadata": {},
   "outputs": [],
   "source": [
    "def remove_stopwords_de(l):\n",
    "    \"\"\"Remove german stopwords from a list of tweets.\"\"\"\n",
    "    \n",
    "    from nltk.corpus import stopwords\n",
    "    stopwords_list = stopwords.words(\"german\")\n",
    "    l = [item for item in l if not item in stopwords_list]\n",
    "    \n",
    "    return l"
   ]
  },
  {
   "cell_type": "code",
   "execution_count": 42,
   "metadata": {},
   "outputs": [
    {
     "data": {
      "text/html": [
       "<div>\n",
       "<style scoped>\n",
       "    .dataframe tbody tr th:only-of-type {\n",
       "        vertical-align: middle;\n",
       "    }\n",
       "\n",
       "    .dataframe tbody tr th {\n",
       "        vertical-align: top;\n",
       "    }\n",
       "\n",
       "    .dataframe thead th {\n",
       "        text-align: right;\n",
       "    }\n",
       "</style>\n",
       "<table border=\"1\" class=\"dataframe\">\n",
       "  <thead>\n",
       "    <tr style=\"text-align: right;\">\n",
       "      <th></th>\n",
       "      <th>TweetText</th>\n",
       "      <th>Handle</th>\n",
       "      <th>ID</th>\n",
       "      <th>CreatedAt</th>\n",
       "      <th>Follower</th>\n",
       "      <th>Location</th>\n",
       "      <th>UserDescription</th>\n",
       "      <th>Country</th>\n",
       "      <th>Language</th>\n",
       "      <th>text</th>\n",
       "      <th>tokenized_tw</th>\n",
       "      <th>stem_lemm_tw</th>\n",
       "      <th>remove_stopwords_tw</th>\n",
       "    </tr>\n",
       "  </thead>\n",
       "  <tbody>\n",
       "    <tr>\n",
       "      <th>0</th>\n",
       "      <td>RT @z_edian: Unser @snv_berlin Expert:innenwor...</td>\n",
       "      <td>christinacrupp</td>\n",
       "      <td>1359905846659059713</td>\n",
       "      <td>2021-02-11 16:43:14</td>\n",
       "      <td>Christina Rupp</td>\n",
       "      <td>Bonn, Deutschland</td>\n",
       "      <td>Project Assistant International Cybersecurity ...</td>\n",
       "      <td>Germany</td>\n",
       "      <td>de</td>\n",
       "      <td>unser snvberlin expertinnenworkshop zur staatl...</td>\n",
       "      <td>[unser, snvberlin, expertinnenworkshop, zur, s...</td>\n",
       "      <td>[uns, snvberlin, expertinnenworkshop, zur, sta...</td>\n",
       "      <td>[snvberlin, expertinnenworkshop, staatlich, be...</td>\n",
       "    </tr>\n",
       "    <tr>\n",
       "      <th>2</th>\n",
       "      <td>RT @michael_adler_: Fing gut an! Bonn braucht ...</td>\n",
       "      <td>joscchh</td>\n",
       "      <td>1359101568390414337</td>\n",
       "      <td>2021-02-09 11:27:19</td>\n",
       "      <td>Johanna Schäfer</td>\n",
       "      <td>Bonn, Deutschland</td>\n",
       "      <td>CEO @BonnLAB, urban developer &amp; #SocialMedia e...</td>\n",
       "      <td>Germany</td>\n",
       "      <td>de</td>\n",
       "      <td>fing gut an bonn braucht einen mindshift von d...</td>\n",
       "      <td>[fing, gut, an, bonn, braucht, einen, mindshif...</td>\n",
       "      <td>[fing, gut, an, bonn, braucht, ein, mindshift,...</td>\n",
       "      <td>[fing, gut, bonn, braucht, mindshift, autostad...</td>\n",
       "    </tr>\n",
       "    <tr>\n",
       "      <th>4</th>\n",
       "      <td>Gestern haben @Lichtemomente, @askans, @michae...</td>\n",
       "      <td>joscchh</td>\n",
       "      <td>1359015354828210176</td>\n",
       "      <td>2021-02-09 05:44:44</td>\n",
       "      <td>Johanna Schäfer</td>\n",
       "      <td>Bonn, Deutschland</td>\n",
       "      <td>CEO @BonnLAB, urban developer &amp; #SocialMedia e...</td>\n",
       "      <td>Germany</td>\n",
       "      <td>de</td>\n",
       "      <td>gestern haben lichtemomente askans michaeladle...</td>\n",
       "      <td>[gestern, haben, lichtemomente, askans, michae...</td>\n",
       "      <td>[gest, hab, lichtemoment, askan, michaeladl, b...</td>\n",
       "      <td>[gest, lichtemoment, askan, michaeladl, barbar...</td>\n",
       "    </tr>\n",
       "    <tr>\n",
       "      <th>5</th>\n",
       "      <td>@VolkerGoebbels Macht Sinn 😏</td>\n",
       "      <td>joscchh</td>\n",
       "      <td>1358806042960932869</td>\n",
       "      <td>2021-02-08 15:53:00</td>\n",
       "      <td>Johanna Schäfer</td>\n",
       "      <td>Bonn, Deutschland</td>\n",
       "      <td>CEO @BonnLAB, urban developer &amp; #SocialMedia e...</td>\n",
       "      <td>Germany</td>\n",
       "      <td>de</td>\n",
       "      <td>volkergoebbels macht sinn</td>\n",
       "      <td>[volkergoebbels, macht, sinn]</td>\n",
       "      <td>[volkergoebbel, macht, sinn]</td>\n",
       "      <td>[volkergoebbel, macht, sinn]</td>\n",
       "    </tr>\n",
       "    <tr>\n",
       "      <th>6</th>\n",
       "      <td>@jbrunotte Was waren denn deine Beweggründe da...</td>\n",
       "      <td>joscchh</td>\n",
       "      <td>1358758503419162624</td>\n",
       "      <td>2021-02-08 12:44:06</td>\n",
       "      <td>Johanna Schäfer</td>\n",
       "      <td>Bonn, Deutschland</td>\n",
       "      <td>CEO @BonnLAB, urban developer &amp; #SocialMedia e...</td>\n",
       "      <td>Germany</td>\n",
       "      <td>de</td>\n",
       "      <td>jbrunotte was waren denn deine beweggründe daf...</td>\n",
       "      <td>[jbrunotte, was, waren, denn, deine, beweggrün...</td>\n",
       "      <td>[jbrunott, wa, war, denn, dein, beweggrund, da...</td>\n",
       "      <td>[jbrunott, wa, beweggrund, dafur, spannend, wiss]</td>\n",
       "    </tr>\n",
       "  </tbody>\n",
       "</table>\n",
       "</div>"
      ],
      "text/plain": [
       "                                           TweetText          Handle  \\\n",
       "0  RT @z_edian: Unser @snv_berlin Expert:innenwor...  christinacrupp   \n",
       "2  RT @michael_adler_: Fing gut an! Bonn braucht ...         joscchh   \n",
       "4  Gestern haben @Lichtemomente, @askans, @michae...         joscchh   \n",
       "5                       @VolkerGoebbels Macht Sinn 😏         joscchh   \n",
       "6  @jbrunotte Was waren denn deine Beweggründe da...         joscchh   \n",
       "\n",
       "                    ID            CreatedAt         Follower  \\\n",
       "0  1359905846659059713  2021-02-11 16:43:14   Christina Rupp   \n",
       "2  1359101568390414337  2021-02-09 11:27:19  Johanna Schäfer   \n",
       "4  1359015354828210176  2021-02-09 05:44:44  Johanna Schäfer   \n",
       "5  1358806042960932869  2021-02-08 15:53:00  Johanna Schäfer   \n",
       "6  1358758503419162624  2021-02-08 12:44:06  Johanna Schäfer   \n",
       "\n",
       "            Location                                    UserDescription  \\\n",
       "0  Bonn, Deutschland  Project Assistant International Cybersecurity ...   \n",
       "2  Bonn, Deutschland  CEO @BonnLAB, urban developer & #SocialMedia e...   \n",
       "4  Bonn, Deutschland  CEO @BonnLAB, urban developer & #SocialMedia e...   \n",
       "5  Bonn, Deutschland  CEO @BonnLAB, urban developer & #SocialMedia e...   \n",
       "6  Bonn, Deutschland  CEO @BonnLAB, urban developer & #SocialMedia e...   \n",
       "\n",
       "   Country Language                                               text  \\\n",
       "0  Germany       de  unser snvberlin expertinnenworkshop zur staatl...   \n",
       "2  Germany       de  fing gut an bonn braucht einen mindshift von d...   \n",
       "4  Germany       de  gestern haben lichtemomente askans michaeladle...   \n",
       "5  Germany       de                         volkergoebbels macht sinn    \n",
       "6  Germany       de  jbrunotte was waren denn deine beweggründe daf...   \n",
       "\n",
       "                                        tokenized_tw  \\\n",
       "0  [unser, snvberlin, expertinnenworkshop, zur, s...   \n",
       "2  [fing, gut, an, bonn, braucht, einen, mindshif...   \n",
       "4  [gestern, haben, lichtemomente, askans, michae...   \n",
       "5                      [volkergoebbels, macht, sinn]   \n",
       "6  [jbrunotte, was, waren, denn, deine, beweggrün...   \n",
       "\n",
       "                                        stem_lemm_tw  \\\n",
       "0  [uns, snvberlin, expertinnenworkshop, zur, sta...   \n",
       "2  [fing, gut, an, bonn, braucht, ein, mindshift,...   \n",
       "4  [gest, hab, lichtemoment, askan, michaeladl, b...   \n",
       "5                       [volkergoebbel, macht, sinn]   \n",
       "6  [jbrunott, wa, war, denn, dein, beweggrund, da...   \n",
       "\n",
       "                                 remove_stopwords_tw  \n",
       "0  [snvberlin, expertinnenworkshop, staatlich, be...  \n",
       "2  [fing, gut, bonn, braucht, mindshift, autostad...  \n",
       "4  [gest, lichtemoment, askan, michaeladl, barbar...  \n",
       "5                       [volkergoebbel, macht, sinn]  \n",
       "6  [jbrunott, wa, beweggrund, dafur, spannend, wiss]  "
      ]
     },
     "execution_count": 42,
     "metadata": {},
     "output_type": "execute_result"
    }
   ],
   "source": [
    "tweets_de['remove_stopwords_tw'] = tweets_de['stem_lemm_tw'].apply(remove_stopwords_de)\n",
    "tweets_de.head()"
   ]
  },
  {
   "cell_type": "markdown",
   "metadata": {},
   "source": [
    "### Remove intermediary processing steps from dfs:"
   ]
  },
  {
   "cell_type": "code",
   "execution_count": 43,
   "metadata": {},
   "outputs": [
    {
     "data": {
      "text/html": [
       "<div>\n",
       "<style scoped>\n",
       "    .dataframe tbody tr th:only-of-type {\n",
       "        vertical-align: middle;\n",
       "    }\n",
       "\n",
       "    .dataframe tbody tr th {\n",
       "        vertical-align: top;\n",
       "    }\n",
       "\n",
       "    .dataframe thead th {\n",
       "        text-align: right;\n",
       "    }\n",
       "</style>\n",
       "<table border=\"1\" class=\"dataframe\">\n",
       "  <thead>\n",
       "    <tr style=\"text-align: right;\">\n",
       "      <th></th>\n",
       "      <th>TweetText</th>\n",
       "      <th>Handle</th>\n",
       "      <th>Location</th>\n",
       "      <th>Country</th>\n",
       "      <th>Language</th>\n",
       "      <th>text_processed</th>\n",
       "    </tr>\n",
       "  </thead>\n",
       "  <tbody>\n",
       "    <tr>\n",
       "      <th>1</th>\n",
       "      <td>RT @rachel_groves: Daily goals: Wake up early....</td>\n",
       "      <td>joscchh</td>\n",
       "      <td>Bonn, Deutschland</td>\n",
       "      <td>Germany</td>\n",
       "      <td>en</td>\n",
       "      <td>[daili, goal, wake, earli, drink, coffe, work,...</td>\n",
       "    </tr>\n",
       "    <tr>\n",
       "      <th>3</th>\n",
       "      <td>RT @EurAsiaBridgeEU: good topic - well done.</td>\n",
       "      <td>joscchh</td>\n",
       "      <td>Bonn, Deutschland</td>\n",
       "      <td>Germany</td>\n",
       "      <td>en</td>\n",
       "      <td>[good, topic, well, done]</td>\n",
       "    </tr>\n",
       "    <tr>\n",
       "      <th>8</th>\n",
       "      <td>@jpbrice Life is always precious - every singl...</td>\n",
       "      <td>joscchh</td>\n",
       "      <td>Bonn, Deutschland</td>\n",
       "      <td>Germany</td>\n",
       "      <td>en</td>\n",
       "      <td>[jpbrice, life, alway, precious, everi, singl,...</td>\n",
       "    </tr>\n",
       "    <tr>\n",
       "      <th>11</th>\n",
       "      <td>@PeterShepherd8 @MYorke27 @ZEReadyOregon Great...</td>\n",
       "      <td>joscchh</td>\n",
       "      <td>Bonn, Deutschland</td>\n",
       "      <td>Germany</td>\n",
       "      <td>en</td>\n",
       "      <td>[petershepherd, myork, zereadyoregon, great, l...</td>\n",
       "    </tr>\n",
       "    <tr>\n",
       "      <th>12</th>\n",
       "      <td>RT @jpbrice: “You never know how strong you ar...</td>\n",
       "      <td>joscchh</td>\n",
       "      <td>Bonn, Deutschland</td>\n",
       "      <td>Germany</td>\n",
       "      <td>en</td>\n",
       "      <td>[never, know, strong, strong, onli, choic, quo...</td>\n",
       "    </tr>\n",
       "  </tbody>\n",
       "</table>\n",
       "</div>"
      ],
      "text/plain": [
       "                                            TweetText   Handle  \\\n",
       "1   RT @rachel_groves: Daily goals: Wake up early....  joscchh   \n",
       "3        RT @EurAsiaBridgeEU: good topic - well done.  joscchh   \n",
       "8   @jpbrice Life is always precious - every singl...  joscchh   \n",
       "11  @PeterShepherd8 @MYorke27 @ZEReadyOregon Great...  joscchh   \n",
       "12  RT @jpbrice: “You never know how strong you ar...  joscchh   \n",
       "\n",
       "             Location  Country Language  \\\n",
       "1   Bonn, Deutschland  Germany       en   \n",
       "3   Bonn, Deutschland  Germany       en   \n",
       "8   Bonn, Deutschland  Germany       en   \n",
       "11  Bonn, Deutschland  Germany       en   \n",
       "12  Bonn, Deutschland  Germany       en   \n",
       "\n",
       "                                       text_processed  \n",
       "1   [daili, goal, wake, earli, drink, coffe, work,...  \n",
       "3                           [good, topic, well, done]  \n",
       "8   [jpbrice, life, alway, precious, everi, singl,...  \n",
       "11  [petershepherd, myork, zereadyoregon, great, l...  \n",
       "12  [never, know, strong, strong, onli, choic, quo...  "
      ]
     },
     "execution_count": 43,
     "metadata": {},
     "output_type": "execute_result"
    }
   ],
   "source": [
    "tweets_en.drop(['tokenized_tw', 'stem_lemm_tw', 'text', 'UserDescription', 'CreatedAt', 'ID', 'Follower'], axis=1, inplace=True)\n",
    "tweets_en.rename(columns={'remove_stopwords_tw': 'text_processed'}, inplace=True)\n",
    "tweets_en.head()"
   ]
  },
  {
   "cell_type": "code",
   "execution_count": 44,
   "metadata": {},
   "outputs": [
    {
     "data": {
      "text/html": [
       "<div>\n",
       "<style scoped>\n",
       "    .dataframe tbody tr th:only-of-type {\n",
       "        vertical-align: middle;\n",
       "    }\n",
       "\n",
       "    .dataframe tbody tr th {\n",
       "        vertical-align: top;\n",
       "    }\n",
       "\n",
       "    .dataframe thead th {\n",
       "        text-align: right;\n",
       "    }\n",
       "</style>\n",
       "<table border=\"1\" class=\"dataframe\">\n",
       "  <thead>\n",
       "    <tr style=\"text-align: right;\">\n",
       "      <th></th>\n",
       "      <th>TweetText</th>\n",
       "      <th>Handle</th>\n",
       "      <th>Location</th>\n",
       "      <th>Country</th>\n",
       "      <th>Language</th>\n",
       "      <th>text_processed</th>\n",
       "    </tr>\n",
       "  </thead>\n",
       "  <tbody>\n",
       "    <tr>\n",
       "      <th>0</th>\n",
       "      <td>RT @z_edian: Unser @snv_berlin Expert:innenwor...</td>\n",
       "      <td>christinacrupp</td>\n",
       "      <td>Bonn, Deutschland</td>\n",
       "      <td>Germany</td>\n",
       "      <td>de</td>\n",
       "      <td>[snvberlin, expertinnenworkshop, staatlich, be...</td>\n",
       "    </tr>\n",
       "    <tr>\n",
       "      <th>2</th>\n",
       "      <td>RT @michael_adler_: Fing gut an! Bonn braucht ...</td>\n",
       "      <td>joscchh</td>\n",
       "      <td>Bonn, Deutschland</td>\n",
       "      <td>Germany</td>\n",
       "      <td>de</td>\n",
       "      <td>[fing, gut, bonn, braucht, mindshift, autostad...</td>\n",
       "    </tr>\n",
       "    <tr>\n",
       "      <th>4</th>\n",
       "      <td>Gestern haben @Lichtemomente, @askans, @michae...</td>\n",
       "      <td>joscchh</td>\n",
       "      <td>Bonn, Deutschland</td>\n",
       "      <td>Germany</td>\n",
       "      <td>de</td>\n",
       "      <td>[gest, lichtemoment, askan, michaeladl, barbar...</td>\n",
       "    </tr>\n",
       "    <tr>\n",
       "      <th>5</th>\n",
       "      <td>@VolkerGoebbels Macht Sinn 😏</td>\n",
       "      <td>joscchh</td>\n",
       "      <td>Bonn, Deutschland</td>\n",
       "      <td>Germany</td>\n",
       "      <td>de</td>\n",
       "      <td>[volkergoebbel, macht, sinn]</td>\n",
       "    </tr>\n",
       "    <tr>\n",
       "      <th>6</th>\n",
       "      <td>@jbrunotte Was waren denn deine Beweggründe da...</td>\n",
       "      <td>joscchh</td>\n",
       "      <td>Bonn, Deutschland</td>\n",
       "      <td>Germany</td>\n",
       "      <td>de</td>\n",
       "      <td>[jbrunott, wa, beweggrund, dafur, spannend, wiss]</td>\n",
       "    </tr>\n",
       "  </tbody>\n",
       "</table>\n",
       "</div>"
      ],
      "text/plain": [
       "                                           TweetText          Handle  \\\n",
       "0  RT @z_edian: Unser @snv_berlin Expert:innenwor...  christinacrupp   \n",
       "2  RT @michael_adler_: Fing gut an! Bonn braucht ...         joscchh   \n",
       "4  Gestern haben @Lichtemomente, @askans, @michae...         joscchh   \n",
       "5                       @VolkerGoebbels Macht Sinn 😏         joscchh   \n",
       "6  @jbrunotte Was waren denn deine Beweggründe da...         joscchh   \n",
       "\n",
       "            Location  Country Language  \\\n",
       "0  Bonn, Deutschland  Germany       de   \n",
       "2  Bonn, Deutschland  Germany       de   \n",
       "4  Bonn, Deutschland  Germany       de   \n",
       "5  Bonn, Deutschland  Germany       de   \n",
       "6  Bonn, Deutschland  Germany       de   \n",
       "\n",
       "                                      text_processed  \n",
       "0  [snvberlin, expertinnenworkshop, staatlich, be...  \n",
       "2  [fing, gut, bonn, braucht, mindshift, autostad...  \n",
       "4  [gest, lichtemoment, askan, michaeladl, barbar...  \n",
       "5                       [volkergoebbel, macht, sinn]  \n",
       "6  [jbrunott, wa, beweggrund, dafur, spannend, wiss]  "
      ]
     },
     "execution_count": 44,
     "metadata": {},
     "output_type": "execute_result"
    }
   ],
   "source": [
    "tweets_de.drop(['tokenized_tw', 'stem_lemm_tw', 'text', 'UserDescription', 'CreatedAt', 'ID', 'Follower'], axis=1, inplace=True)\n",
    "tweets_de.rename(columns={'remove_stopwords_tw': 'text_processed'}, inplace=True)\n",
    "tweets_de.head()"
   ]
  },
  {
   "cell_type": "markdown",
   "metadata": {},
   "source": [
    "### Sentiment Analysis:\n",
    "Calculating Negative, Positive, and/or Neutral Values.\n",
    "* REMEMBER - the tweets in tweets_en means that they are English-language tweets, NOT that they come from my American network. \n",
    "* REMEMBER - the tweets in tweets_de means that they are German-language tweets, NOT that they come from my German network."
   ]
  },
  {
   "cell_type": "markdown",
   "metadata": {},
   "source": [
    "#### Using Python package TextBlob to calculate polarity values of individual tweets:"
   ]
  },
  {
   "cell_type": "code",
   "execution_count": 45,
   "metadata": {},
   "outputs": [
    {
     "data": {
      "text/plain": [
       "(0.19404761904761905,\n",
       " TextBlob(\"RT @rachel_groves: Daily goals: Wake up early. Drink coffee. Work hard. Be ambitious. Do what you love. Love what you do. Have fun. #inspir…\"))"
      ]
     },
     "execution_count": 45,
     "metadata": {},
     "output_type": "execute_result"
    }
   ],
   "source": [
    "sentiment_objects_en = [TextBlob(tweet) for tweet in tweets_en['TweetText']]\n",
    "\n",
    "sentiment_objects_en[0].polarity, sentiment_objects_en[0]"
   ]
  },
  {
   "cell_type": "code",
   "execution_count": 46,
   "metadata": {},
   "outputs": [
    {
     "data": {
      "text/html": [
       "<div>\n",
       "<style scoped>\n",
       "    .dataframe tbody tr th:only-of-type {\n",
       "        vertical-align: middle;\n",
       "    }\n",
       "\n",
       "    .dataframe tbody tr th {\n",
       "        vertical-align: top;\n",
       "    }\n",
       "\n",
       "    .dataframe thead th {\n",
       "        text-align: right;\n",
       "    }\n",
       "</style>\n",
       "<table border=\"1\" class=\"dataframe\">\n",
       "  <thead>\n",
       "    <tr style=\"text-align: right;\">\n",
       "      <th></th>\n",
       "      <th>TweetText</th>\n",
       "      <th>Handle</th>\n",
       "      <th>Location</th>\n",
       "      <th>Country</th>\n",
       "      <th>Language</th>\n",
       "      <th>text_processed</th>\n",
       "      <th>Polarity</th>\n",
       "    </tr>\n",
       "  </thead>\n",
       "  <tbody>\n",
       "    <tr>\n",
       "      <th>1</th>\n",
       "      <td>RT @rachel_groves: Daily goals: Wake up early....</td>\n",
       "      <td>joscchh</td>\n",
       "      <td>Bonn, Deutschland</td>\n",
       "      <td>Germany</td>\n",
       "      <td>en</td>\n",
       "      <td>[daili, goal, wake, earli, drink, coffe, work,...</td>\n",
       "      <td>0.194048</td>\n",
       "    </tr>\n",
       "    <tr>\n",
       "      <th>3</th>\n",
       "      <td>RT @EurAsiaBridgeEU: good topic - well done.</td>\n",
       "      <td>joscchh</td>\n",
       "      <td>Bonn, Deutschland</td>\n",
       "      <td>Germany</td>\n",
       "      <td>en</td>\n",
       "      <td>[good, topic, well, done]</td>\n",
       "      <td>0.700000</td>\n",
       "    </tr>\n",
       "    <tr>\n",
       "      <th>8</th>\n",
       "      <td>@jpbrice Life is always precious - every singl...</td>\n",
       "      <td>joscchh</td>\n",
       "      <td>Bonn, Deutschland</td>\n",
       "      <td>Germany</td>\n",
       "      <td>en</td>\n",
       "      <td>[jpbrice, life, alway, precious, everi, singl,...</td>\n",
       "      <td>0.272381</td>\n",
       "    </tr>\n",
       "    <tr>\n",
       "      <th>11</th>\n",
       "      <td>@PeterShepherd8 @MYorke27 @ZEReadyOregon Great...</td>\n",
       "      <td>joscchh</td>\n",
       "      <td>Bonn, Deutschland</td>\n",
       "      <td>Germany</td>\n",
       "      <td>en</td>\n",
       "      <td>[petershepherd, myork, zereadyoregon, great, l...</td>\n",
       "      <td>0.200000</td>\n",
       "    </tr>\n",
       "    <tr>\n",
       "      <th>12</th>\n",
       "      <td>RT @jpbrice: “You never know how strong you ar...</td>\n",
       "      <td>joscchh</td>\n",
       "      <td>Bonn, Deutschland</td>\n",
       "      <td>Germany</td>\n",
       "      <td>en</td>\n",
       "      <td>[never, know, strong, strong, onli, choic, quo...</td>\n",
       "      <td>0.288889</td>\n",
       "    </tr>\n",
       "  </tbody>\n",
       "</table>\n",
       "</div>"
      ],
      "text/plain": [
       "                                            TweetText   Handle  \\\n",
       "1   RT @rachel_groves: Daily goals: Wake up early....  joscchh   \n",
       "3        RT @EurAsiaBridgeEU: good topic - well done.  joscchh   \n",
       "8   @jpbrice Life is always precious - every singl...  joscchh   \n",
       "11  @PeterShepherd8 @MYorke27 @ZEReadyOregon Great...  joscchh   \n",
       "12  RT @jpbrice: “You never know how strong you ar...  joscchh   \n",
       "\n",
       "             Location  Country Language  \\\n",
       "1   Bonn, Deutschland  Germany       en   \n",
       "3   Bonn, Deutschland  Germany       en   \n",
       "8   Bonn, Deutschland  Germany       en   \n",
       "11  Bonn, Deutschland  Germany       en   \n",
       "12  Bonn, Deutschland  Germany       en   \n",
       "\n",
       "                                       text_processed  Polarity  \n",
       "1   [daili, goal, wake, earli, drink, coffe, work,...  0.194048  \n",
       "3                           [good, topic, well, done]  0.700000  \n",
       "8   [jpbrice, life, alway, precious, everi, singl,...  0.272381  \n",
       "11  [petershepherd, myork, zereadyoregon, great, l...  0.200000  \n",
       "12  [never, know, strong, strong, onli, choic, quo...  0.288889  "
      ]
     },
     "execution_count": 46,
     "metadata": {},
     "output_type": "execute_result"
    }
   ],
   "source": [
    "# Add polarity column to the dataframes:\n",
    "\n",
    "tweets_en['Polarity'] = [i.polarity for i in sentiment_objects_en]\n",
    "tweets_en.head()"
   ]
  },
  {
   "cell_type": "code",
   "execution_count": 47,
   "metadata": {},
   "outputs": [
    {
     "data": {
      "text/plain": [
       "(-0.35,\n",
       " TextBlobDE(\"RT @z_edian: Unser @snv_berlin Expert:innenworkshop zur \"staatlichen Beantwortung von böswilligen Cyberaktivitäten\" geht langsam zuende.\n",
       " \n",
       " D…\"))"
      ]
     },
     "execution_count": 47,
     "metadata": {},
     "output_type": "execute_result"
    }
   ],
   "source": [
    "sentiment_objects_de = [TextBlobDE(tweet) for tweet in tweets_de['TweetText']]\n",
    "\n",
    "sentiment_objects_de[0].polarity, sentiment_objects_de[0]"
   ]
  },
  {
   "cell_type": "code",
   "execution_count": 48,
   "metadata": {},
   "outputs": [
    {
     "data": {
      "text/html": [
       "<div>\n",
       "<style scoped>\n",
       "    .dataframe tbody tr th:only-of-type {\n",
       "        vertical-align: middle;\n",
       "    }\n",
       "\n",
       "    .dataframe tbody tr th {\n",
       "        vertical-align: top;\n",
       "    }\n",
       "\n",
       "    .dataframe thead th {\n",
       "        text-align: right;\n",
       "    }\n",
       "</style>\n",
       "<table border=\"1\" class=\"dataframe\">\n",
       "  <thead>\n",
       "    <tr style=\"text-align: right;\">\n",
       "      <th></th>\n",
       "      <th>TweetText</th>\n",
       "      <th>Handle</th>\n",
       "      <th>Location</th>\n",
       "      <th>Country</th>\n",
       "      <th>Language</th>\n",
       "      <th>text_processed</th>\n",
       "      <th>Polarity</th>\n",
       "    </tr>\n",
       "  </thead>\n",
       "  <tbody>\n",
       "    <tr>\n",
       "      <th>0</th>\n",
       "      <td>RT @z_edian: Unser @snv_berlin Expert:innenwor...</td>\n",
       "      <td>christinacrupp</td>\n",
       "      <td>Bonn, Deutschland</td>\n",
       "      <td>Germany</td>\n",
       "      <td>de</td>\n",
       "      <td>[snvberlin, expertinnenworkshop, staatlich, be...</td>\n",
       "      <td>-0.350000</td>\n",
       "    </tr>\n",
       "    <tr>\n",
       "      <th>2</th>\n",
       "      <td>RT @michael_adler_: Fing gut an! Bonn braucht ...</td>\n",
       "      <td>joscchh</td>\n",
       "      <td>Bonn, Deutschland</td>\n",
       "      <td>Germany</td>\n",
       "      <td>de</td>\n",
       "      <td>[fing, gut, bonn, braucht, mindshift, autostad...</td>\n",
       "      <td>0.250000</td>\n",
       "    </tr>\n",
       "    <tr>\n",
       "      <th>4</th>\n",
       "      <td>Gestern haben @Lichtemomente, @askans, @michae...</td>\n",
       "      <td>joscchh</td>\n",
       "      <td>Bonn, Deutschland</td>\n",
       "      <td>Germany</td>\n",
       "      <td>de</td>\n",
       "      <td>[gest, lichtemoment, askan, michaeladl, barbar...</td>\n",
       "      <td>0.000000</td>\n",
       "    </tr>\n",
       "    <tr>\n",
       "      <th>5</th>\n",
       "      <td>@VolkerGoebbels Macht Sinn 😏</td>\n",
       "      <td>joscchh</td>\n",
       "      <td>Bonn, Deutschland</td>\n",
       "      <td>Germany</td>\n",
       "      <td>de</td>\n",
       "      <td>[volkergoebbel, macht, sinn]</td>\n",
       "      <td>0.000000</td>\n",
       "    </tr>\n",
       "    <tr>\n",
       "      <th>6</th>\n",
       "      <td>@jbrunotte Was waren denn deine Beweggründe da...</td>\n",
       "      <td>joscchh</td>\n",
       "      <td>Bonn, Deutschland</td>\n",
       "      <td>Germany</td>\n",
       "      <td>de</td>\n",
       "      <td>[jbrunott, wa, beweggrund, dafur, spannend, wiss]</td>\n",
       "      <td>0.233333</td>\n",
       "    </tr>\n",
       "  </tbody>\n",
       "</table>\n",
       "</div>"
      ],
      "text/plain": [
       "                                           TweetText          Handle  \\\n",
       "0  RT @z_edian: Unser @snv_berlin Expert:innenwor...  christinacrupp   \n",
       "2  RT @michael_adler_: Fing gut an! Bonn braucht ...         joscchh   \n",
       "4  Gestern haben @Lichtemomente, @askans, @michae...         joscchh   \n",
       "5                       @VolkerGoebbels Macht Sinn 😏         joscchh   \n",
       "6  @jbrunotte Was waren denn deine Beweggründe da...         joscchh   \n",
       "\n",
       "            Location  Country Language  \\\n",
       "0  Bonn, Deutschland  Germany       de   \n",
       "2  Bonn, Deutschland  Germany       de   \n",
       "4  Bonn, Deutschland  Germany       de   \n",
       "5  Bonn, Deutschland  Germany       de   \n",
       "6  Bonn, Deutschland  Germany       de   \n",
       "\n",
       "                                      text_processed  Polarity  \n",
       "0  [snvberlin, expertinnenworkshop, staatlich, be... -0.350000  \n",
       "2  [fing, gut, bonn, braucht, mindshift, autostad...  0.250000  \n",
       "4  [gest, lichtemoment, askan, michaeladl, barbar...  0.000000  \n",
       "5                       [volkergoebbel, macht, sinn]  0.000000  \n",
       "6  [jbrunott, wa, beweggrund, dafur, spannend, wiss]  0.233333  "
      ]
     },
     "execution_count": 48,
     "metadata": {},
     "output_type": "execute_result"
    }
   ],
   "source": [
    "tweets_de['Polarity'] = [i.polarity for i in sentiment_objects_de]\n",
    "tweets_de.head()"
   ]
  },
  {
   "cell_type": "code",
   "execution_count": 146,
   "metadata": {},
   "outputs": [
    {
     "data": {
      "image/png": "[encoded data removed]",
      "text/plain": [
       "<Figure size 576x432 with 1 Axes>"
      ]
     },
     "metadata": {},
     "output_type": "display_data"
    }
   ],
   "source": [
    "# Plot histogram of polarity values:\n",
    "\n",
    "fig, ax = plt.subplots(figsize=(8,6))\n",
    "tweets_en['Polarity'].hist(bins=[-1, -0.75, -0.5, -0.25, 0.25, 0.5, 0.75, 1], \n",
    "                          ax=ax)\n",
    "plt.title(\"Sentiments (polarity) of English tweets\")\n",
    "plt.show()\n",
    "\n",
    "# why doesnt the title show up?"
   ]
  },
  {
   "cell_type": "code",
   "execution_count": 145,
   "metadata": {},
   "outputs": [
    {
     "data": {
      "image/png": "[encoded data removed]",
      "text/plain": [
       "<Figure size 576x432 with 1 Axes>"
      ]
     },
     "metadata": {},
     "output_type": "display_data"
    }
   ],
   "source": [
    "fig, ax = plt.subplots(figsize=(8,6))\n",
    "\n",
    "tweets_de['Polarity'].hist(bins=[-1, -0.75, -0.5, -0.25, 0.25, 0.5, 0.75, 1], \n",
    "                          ax=ax)\n",
    "plt.title(\"Sentiments (polarity) of German tweets\")\n",
    "plt.show()\n",
    "\n",
    "# why doesnt the title show up?"
   ]
  },
  {
   "cell_type": "markdown",
   "metadata": {},
   "source": [
    "### Add polarity column to df of all tweets and plot polarity by location rather than language."
   ]
  },
  {
   "cell_type": "markdown",
   "metadata": {},
   "source": [
    "#### Using Python package TextBlob to calculate sentiment (pos/neg) values of individual tweets:\n",
    "\n",
    "TextBlob sentiment returns polarity score and subjectivity score. \n",
    "If polarity > 0, it is considered positive, if  polarity < 0, it is considered negative."
   ]
  },
  {
   "cell_type": "code",
   "execution_count": 51,
   "metadata": {},
   "outputs": [
    {
     "data": {
      "text/plain": [
       "(Sentiment(polarity=0.19404761904761905, subjectivity=0.42738095238095236),\n",
       " TextBlob(\"RT @rachel_groves: Daily goals: Wake up early. Drink coffee. Work hard. Be ambitious. Do what you love. Love what you do. Have fun. #inspir…\"))"
      ]
     },
     "execution_count": 51,
     "metadata": {},
     "output_type": "execute_result"
    }
   ],
   "source": [
    "sentiment_objects_en = [TextBlob(tweet) for tweet in tweets_en['TweetText']]\n",
    "\n",
    "sentiment_objects_en[0].sentiment, sentiment_objects_en[0]"
   ]
  },
  {
   "cell_type": "code",
   "execution_count": 52,
   "metadata": {},
   "outputs": [
    {
     "data": {
      "text/html": [
       "<div>\n",
       "<style scoped>\n",
       "    .dataframe tbody tr th:only-of-type {\n",
       "        vertical-align: middle;\n",
       "    }\n",
       "\n",
       "    .dataframe tbody tr th {\n",
       "        vertical-align: top;\n",
       "    }\n",
       "\n",
       "    .dataframe thead th {\n",
       "        text-align: right;\n",
       "    }\n",
       "</style>\n",
       "<table border=\"1\" class=\"dataframe\">\n",
       "  <thead>\n",
       "    <tr style=\"text-align: right;\">\n",
       "      <th></th>\n",
       "      <th>TweetText</th>\n",
       "      <th>Handle</th>\n",
       "      <th>Location</th>\n",
       "      <th>Country</th>\n",
       "      <th>Language</th>\n",
       "      <th>text_processed</th>\n",
       "      <th>Polarity</th>\n",
       "      <th>Subjectivity</th>\n",
       "    </tr>\n",
       "  </thead>\n",
       "  <tbody>\n",
       "    <tr>\n",
       "      <th>1</th>\n",
       "      <td>RT @rachel_groves: Daily goals: Wake up early....</td>\n",
       "      <td>joscchh</td>\n",
       "      <td>Bonn, Deutschland</td>\n",
       "      <td>Germany</td>\n",
       "      <td>en</td>\n",
       "      <td>[daili, goal, wake, earli, drink, coffe, work,...</td>\n",
       "      <td>0.194048</td>\n",
       "      <td>0.427381</td>\n",
       "    </tr>\n",
       "    <tr>\n",
       "      <th>3</th>\n",
       "      <td>RT @EurAsiaBridgeEU: good topic - well done.</td>\n",
       "      <td>joscchh</td>\n",
       "      <td>Bonn, Deutschland</td>\n",
       "      <td>Germany</td>\n",
       "      <td>en</td>\n",
       "      <td>[good, topic, well, done]</td>\n",
       "      <td>0.700000</td>\n",
       "      <td>0.600000</td>\n",
       "    </tr>\n",
       "    <tr>\n",
       "      <th>8</th>\n",
       "      <td>@jpbrice Life is always precious - every singl...</td>\n",
       "      <td>joscchh</td>\n",
       "      <td>Bonn, Deutschland</td>\n",
       "      <td>Germany</td>\n",
       "      <td>en</td>\n",
       "      <td>[jpbrice, life, alway, precious, everi, singl,...</td>\n",
       "      <td>0.272381</td>\n",
       "      <td>0.609524</td>\n",
       "    </tr>\n",
       "    <tr>\n",
       "      <th>11</th>\n",
       "      <td>@PeterShepherd8 @MYorke27 @ZEReadyOregon Great...</td>\n",
       "      <td>joscchh</td>\n",
       "      <td>Bonn, Deutschland</td>\n",
       "      <td>Germany</td>\n",
       "      <td>en</td>\n",
       "      <td>[petershepherd, myork, zereadyoregon, great, l...</td>\n",
       "      <td>0.200000</td>\n",
       "      <td>0.385417</td>\n",
       "    </tr>\n",
       "    <tr>\n",
       "      <th>12</th>\n",
       "      <td>RT @jpbrice: “You never know how strong you ar...</td>\n",
       "      <td>joscchh</td>\n",
       "      <td>Bonn, Deutschland</td>\n",
       "      <td>Germany</td>\n",
       "      <td>en</td>\n",
       "      <td>[never, know, strong, strong, onli, choic, quo...</td>\n",
       "      <td>0.288889</td>\n",
       "      <td>0.822222</td>\n",
       "    </tr>\n",
       "  </tbody>\n",
       "</table>\n",
       "</div>"
      ],
      "text/plain": [
       "                                            TweetText   Handle  \\\n",
       "1   RT @rachel_groves: Daily goals: Wake up early....  joscchh   \n",
       "3        RT @EurAsiaBridgeEU: good topic - well done.  joscchh   \n",
       "8   @jpbrice Life is always precious - every singl...  joscchh   \n",
       "11  @PeterShepherd8 @MYorke27 @ZEReadyOregon Great...  joscchh   \n",
       "12  RT @jpbrice: “You never know how strong you ar...  joscchh   \n",
       "\n",
       "             Location  Country Language  \\\n",
       "1   Bonn, Deutschland  Germany       en   \n",
       "3   Bonn, Deutschland  Germany       en   \n",
       "8   Bonn, Deutschland  Germany       en   \n",
       "11  Bonn, Deutschland  Germany       en   \n",
       "12  Bonn, Deutschland  Germany       en   \n",
       "\n",
       "                                       text_processed  Polarity  Subjectivity  \n",
       "1   [daili, goal, wake, earli, drink, coffe, work,...  0.194048      0.427381  \n",
       "3                           [good, topic, well, done]  0.700000      0.600000  \n",
       "8   [jpbrice, life, alway, precious, everi, singl,...  0.272381      0.609524  \n",
       "11  [petershepherd, myork, zereadyoregon, great, l...  0.200000      0.385417  \n",
       "12  [never, know, strong, strong, onli, choic, quo...  0.288889      0.822222  "
      ]
     },
     "execution_count": 52,
     "metadata": {},
     "output_type": "execute_result"
    }
   ],
   "source": [
    "## Add column w. subjectivity score to each df\n",
    "tweets_en['Subjectivity'] = [i.sentiment[1] for i in sentiment_objects_en]\n",
    "tweets_en.head()"
   ]
  },
  {
   "cell_type": "code",
   "execution_count": 53,
   "metadata": {},
   "outputs": [
    {
     "data": {
      "text/html": [
       "<div>\n",
       "<style scoped>\n",
       "    .dataframe tbody tr th:only-of-type {\n",
       "        vertical-align: middle;\n",
       "    }\n",
       "\n",
       "    .dataframe tbody tr th {\n",
       "        vertical-align: top;\n",
       "    }\n",
       "\n",
       "    .dataframe thead th {\n",
       "        text-align: right;\n",
       "    }\n",
       "</style>\n",
       "<table border=\"1\" class=\"dataframe\">\n",
       "  <thead>\n",
       "    <tr style=\"text-align: right;\">\n",
       "      <th></th>\n",
       "      <th>TweetText</th>\n",
       "      <th>Handle</th>\n",
       "      <th>Location</th>\n",
       "      <th>Country</th>\n",
       "      <th>Language</th>\n",
       "      <th>text_processed</th>\n",
       "      <th>Polarity</th>\n",
       "      <th>Subjectivity</th>\n",
       "    </tr>\n",
       "  </thead>\n",
       "  <tbody>\n",
       "    <tr>\n",
       "      <th>0</th>\n",
       "      <td>RT @z_edian: Unser @snv_berlin Expert:innenwor...</td>\n",
       "      <td>christinacrupp</td>\n",
       "      <td>Bonn, Deutschland</td>\n",
       "      <td>Germany</td>\n",
       "      <td>de</td>\n",
       "      <td>[snvberlin, expertinnenworkshop, staatlich, be...</td>\n",
       "      <td>-0.350000</td>\n",
       "      <td>0.00</td>\n",
       "    </tr>\n",
       "    <tr>\n",
       "      <th>2</th>\n",
       "      <td>RT @michael_adler_: Fing gut an! Bonn braucht ...</td>\n",
       "      <td>joscchh</td>\n",
       "      <td>Bonn, Deutschland</td>\n",
       "      <td>Germany</td>\n",
       "      <td>de</td>\n",
       "      <td>[fing, gut, bonn, braucht, mindshift, autostad...</td>\n",
       "      <td>0.250000</td>\n",
       "      <td>0.25</td>\n",
       "    </tr>\n",
       "    <tr>\n",
       "      <th>4</th>\n",
       "      <td>Gestern haben @Lichtemomente, @askans, @michae...</td>\n",
       "      <td>joscchh</td>\n",
       "      <td>Bonn, Deutschland</td>\n",
       "      <td>Germany</td>\n",
       "      <td>de</td>\n",
       "      <td>[gest, lichtemoment, askan, michaeladl, barbar...</td>\n",
       "      <td>0.000000</td>\n",
       "      <td>0.00</td>\n",
       "    </tr>\n",
       "    <tr>\n",
       "      <th>5</th>\n",
       "      <td>@VolkerGoebbels Macht Sinn 😏</td>\n",
       "      <td>joscchh</td>\n",
       "      <td>Bonn, Deutschland</td>\n",
       "      <td>Germany</td>\n",
       "      <td>de</td>\n",
       "      <td>[volkergoebbel, macht, sinn]</td>\n",
       "      <td>0.000000</td>\n",
       "      <td>0.00</td>\n",
       "    </tr>\n",
       "    <tr>\n",
       "      <th>6</th>\n",
       "      <td>@jbrunotte Was waren denn deine Beweggründe da...</td>\n",
       "      <td>joscchh</td>\n",
       "      <td>Bonn, Deutschland</td>\n",
       "      <td>Germany</td>\n",
       "      <td>de</td>\n",
       "      <td>[jbrunott, wa, beweggrund, dafur, spannend, wiss]</td>\n",
       "      <td>0.233333</td>\n",
       "      <td>0.00</td>\n",
       "    </tr>\n",
       "  </tbody>\n",
       "</table>\n",
       "</div>"
      ],
      "text/plain": [
       "                                           TweetText          Handle  \\\n",
       "0  RT @z_edian: Unser @snv_berlin Expert:innenwor...  christinacrupp   \n",
       "2  RT @michael_adler_: Fing gut an! Bonn braucht ...         joscchh   \n",
       "4  Gestern haben @Lichtemomente, @askans, @michae...         joscchh   \n",
       "5                       @VolkerGoebbels Macht Sinn 😏         joscchh   \n",
       "6  @jbrunotte Was waren denn deine Beweggründe da...         joscchh   \n",
       "\n",
       "            Location  Country Language  \\\n",
       "0  Bonn, Deutschland  Germany       de   \n",
       "2  Bonn, Deutschland  Germany       de   \n",
       "4  Bonn, Deutschland  Germany       de   \n",
       "5  Bonn, Deutschland  Germany       de   \n",
       "6  Bonn, Deutschland  Germany       de   \n",
       "\n",
       "                                      text_processed  Polarity  Subjectivity  \n",
       "0  [snvberlin, expertinnenworkshop, staatlich, be... -0.350000          0.00  \n",
       "2  [fing, gut, bonn, braucht, mindshift, autostad...  0.250000          0.25  \n",
       "4  [gest, lichtemoment, askan, michaeladl, barbar...  0.000000          0.00  \n",
       "5                       [volkergoebbel, macht, sinn]  0.000000          0.00  \n",
       "6  [jbrunott, wa, beweggrund, dafur, spannend, wiss]  0.233333          0.00  "
      ]
     },
     "execution_count": 53,
     "metadata": {},
     "output_type": "execute_result"
    }
   ],
   "source": [
    "tweets_de['Subjectivity'] = [i.sentiment[1] for i in sentiment_objects_de]\n",
    "tweets_de.head()"
   ]
  },
  {
   "cell_type": "markdown",
   "metadata": {},
   "source": [
    "#### Add column with sentiment (pos/neg/neu)"
   ]
  },
  {
   "cell_type": "code",
   "execution_count": 65,
   "metadata": {},
   "outputs": [],
   "source": [
    "sentiment_category_en = ['positive' if score >0\n",
    "                         else 'negative' if score<0\n",
    "                             else 'neutral'\n",
    "                                  for score in tweets_en['Polarity']]"
   ]
  },
  {
   "cell_type": "code",
   "execution_count": 66,
   "metadata": {},
   "outputs": [
    {
     "data": {
      "text/plain": [
       "['positive',\n",
       " 'positive',\n",
       " 'positive',\n",
       " 'positive',\n",
       " 'positive',\n",
       " 'neutral',\n",
       " 'neutral',\n",
       " 'neutral',\n",
       " 'positive',\n",
       " 'positive',\n",
       " 'positive',\n",
       " 'positive',\n",
       " 'positive',\n",
       " 'positive',\n",
       " 'positive',\n",
       " 'negative',\n",
       " 'neutral',\n",
       " 'neutral',\n",
       " 'neutral',\n",
       " 'negative']"
      ]
     },
     "execution_count": 66,
     "metadata": {},
     "output_type": "execute_result"
    }
   ],
   "source": [
    "sentiment_category_en[:20] \n",
    "# Make sure it worked, then add to df"
   ]
  },
  {
   "cell_type": "code",
   "execution_count": 67,
   "metadata": {},
   "outputs": [],
   "source": [
    "tweets_en['Sentiment'] = sentiment_category_en"
   ]
  },
  {
   "cell_type": "code",
   "execution_count": 69,
   "metadata": {},
   "outputs": [
    {
     "data": {
      "text/html": [
       "<div>\n",
       "<style scoped>\n",
       "    .dataframe tbody tr th:only-of-type {\n",
       "        vertical-align: middle;\n",
       "    }\n",
       "\n",
       "    .dataframe tbody tr th {\n",
       "        vertical-align: top;\n",
       "    }\n",
       "\n",
       "    .dataframe thead th {\n",
       "        text-align: right;\n",
       "    }\n",
       "</style>\n",
       "<table border=\"1\" class=\"dataframe\">\n",
       "  <thead>\n",
       "    <tr style=\"text-align: right;\">\n",
       "      <th></th>\n",
       "      <th>TweetText</th>\n",
       "      <th>Handle</th>\n",
       "      <th>Location</th>\n",
       "      <th>Country</th>\n",
       "      <th>Language</th>\n",
       "      <th>text_processed</th>\n",
       "      <th>Polarity</th>\n",
       "      <th>Subjectivity</th>\n",
       "      <th>Sentiment</th>\n",
       "    </tr>\n",
       "  </thead>\n",
       "  <tbody>\n",
       "    <tr>\n",
       "      <th>1</th>\n",
       "      <td>RT @rachel_groves: Daily goals: Wake up early....</td>\n",
       "      <td>joscchh</td>\n",
       "      <td>Bonn, Deutschland</td>\n",
       "      <td>Germany</td>\n",
       "      <td>en</td>\n",
       "      <td>[daili, goal, wake, earli, drink, coffe, work,...</td>\n",
       "      <td>0.194048</td>\n",
       "      <td>0.427381</td>\n",
       "      <td>positive</td>\n",
       "    </tr>\n",
       "    <tr>\n",
       "      <th>3</th>\n",
       "      <td>RT @EurAsiaBridgeEU: good topic - well done.</td>\n",
       "      <td>joscchh</td>\n",
       "      <td>Bonn, Deutschland</td>\n",
       "      <td>Germany</td>\n",
       "      <td>en</td>\n",
       "      <td>[good, topic, well, done]</td>\n",
       "      <td>0.700000</td>\n",
       "      <td>0.600000</td>\n",
       "      <td>positive</td>\n",
       "    </tr>\n",
       "    <tr>\n",
       "      <th>8</th>\n",
       "      <td>@jpbrice Life is always precious - every singl...</td>\n",
       "      <td>joscchh</td>\n",
       "      <td>Bonn, Deutschland</td>\n",
       "      <td>Germany</td>\n",
       "      <td>en</td>\n",
       "      <td>[jpbrice, life, alway, precious, everi, singl,...</td>\n",
       "      <td>0.272381</td>\n",
       "      <td>0.609524</td>\n",
       "      <td>positive</td>\n",
       "    </tr>\n",
       "    <tr>\n",
       "      <th>11</th>\n",
       "      <td>@PeterShepherd8 @MYorke27 @ZEReadyOregon Great...</td>\n",
       "      <td>joscchh</td>\n",
       "      <td>Bonn, Deutschland</td>\n",
       "      <td>Germany</td>\n",
       "      <td>en</td>\n",
       "      <td>[petershepherd, myork, zereadyoregon, great, l...</td>\n",
       "      <td>0.200000</td>\n",
       "      <td>0.385417</td>\n",
       "      <td>positive</td>\n",
       "    </tr>\n",
       "    <tr>\n",
       "      <th>12</th>\n",
       "      <td>RT @jpbrice: “You never know how strong you ar...</td>\n",
       "      <td>joscchh</td>\n",
       "      <td>Bonn, Deutschland</td>\n",
       "      <td>Germany</td>\n",
       "      <td>en</td>\n",
       "      <td>[never, know, strong, strong, onli, choic, quo...</td>\n",
       "      <td>0.288889</td>\n",
       "      <td>0.822222</td>\n",
       "      <td>positive</td>\n",
       "    </tr>\n",
       "  </tbody>\n",
       "</table>\n",
       "</div>"
      ],
      "text/plain": [
       "                                            TweetText   Handle  \\\n",
       "1   RT @rachel_groves: Daily goals: Wake up early....  joscchh   \n",
       "3        RT @EurAsiaBridgeEU: good topic - well done.  joscchh   \n",
       "8   @jpbrice Life is always precious - every singl...  joscchh   \n",
       "11  @PeterShepherd8 @MYorke27 @ZEReadyOregon Great...  joscchh   \n",
       "12  RT @jpbrice: “You never know how strong you ar...  joscchh   \n",
       "\n",
       "             Location  Country Language  \\\n",
       "1   Bonn, Deutschland  Germany       en   \n",
       "3   Bonn, Deutschland  Germany       en   \n",
       "8   Bonn, Deutschland  Germany       en   \n",
       "11  Bonn, Deutschland  Germany       en   \n",
       "12  Bonn, Deutschland  Germany       en   \n",
       "\n",
       "                                       text_processed  Polarity  Subjectivity  \\\n",
       "1   [daili, goal, wake, earli, drink, coffe, work,...  0.194048      0.427381   \n",
       "3                           [good, topic, well, done]  0.700000      0.600000   \n",
       "8   [jpbrice, life, alway, precious, everi, singl,...  0.272381      0.609524   \n",
       "11  [petershepherd, myork, zereadyoregon, great, l...  0.200000      0.385417   \n",
       "12  [never, know, strong, strong, onli, choic, quo...  0.288889      0.822222   \n",
       "\n",
       "   Sentiment  \n",
       "1   positive  \n",
       "3   positive  \n",
       "8   positive  \n",
       "11  positive  \n",
       "12  positive  "
      ]
     },
     "execution_count": 69,
     "metadata": {},
     "output_type": "execute_result"
    }
   ],
   "source": [
    "tweets_en.head()"
   ]
  },
  {
   "cell_type": "code",
   "execution_count": 70,
   "metadata": {},
   "outputs": [],
   "source": [
    "sentiment_category_de = ['positive' if score >0\n",
    "                         else 'negative' if score<0\n",
    "                             else 'neutral'\n",
    "                                  for score in tweets_de['Polarity']]"
   ]
  },
  {
   "cell_type": "code",
   "execution_count": 71,
   "metadata": {},
   "outputs": [
    {
     "data": {
      "text/plain": [
       "['negative',\n",
       " 'positive',\n",
       " 'neutral',\n",
       " 'neutral',\n",
       " 'positive',\n",
       " 'positive',\n",
       " 'negative',\n",
       " 'positive',\n",
       " 'neutral',\n",
       " 'positive',\n",
       " 'neutral',\n",
       " 'positive',\n",
       " 'neutral',\n",
       " 'neutral',\n",
       " 'neutral',\n",
       " 'positive',\n",
       " 'neutral',\n",
       " 'neutral',\n",
       " 'negative',\n",
       " 'neutral']"
      ]
     },
     "execution_count": 71,
     "metadata": {},
     "output_type": "execute_result"
    }
   ],
   "source": [
    "sentiment_category_de[:20] \n",
    "# Make sure it worked, then add to df"
   ]
  },
  {
   "cell_type": "code",
   "execution_count": 72,
   "metadata": {},
   "outputs": [],
   "source": [
    "tweets_de['Sentiment'] = sentiment_category_de"
   ]
  },
  {
   "cell_type": "code",
   "execution_count": 73,
   "metadata": {},
   "outputs": [
    {
     "data": {
      "text/html": [
       "<div>\n",
       "<style scoped>\n",
       "    .dataframe tbody tr th:only-of-type {\n",
       "        vertical-align: middle;\n",
       "    }\n",
       "\n",
       "    .dataframe tbody tr th {\n",
       "        vertical-align: top;\n",
       "    }\n",
       "\n",
       "    .dataframe thead th {\n",
       "        text-align: right;\n",
       "    }\n",
       "</style>\n",
       "<table border=\"1\" class=\"dataframe\">\n",
       "  <thead>\n",
       "    <tr style=\"text-align: right;\">\n",
       "      <th></th>\n",
       "      <th>TweetText</th>\n",
       "      <th>Handle</th>\n",
       "      <th>Location</th>\n",
       "      <th>Country</th>\n",
       "      <th>Language</th>\n",
       "      <th>text_processed</th>\n",
       "      <th>Polarity</th>\n",
       "      <th>Subjectivity</th>\n",
       "      <th>Sentiment</th>\n",
       "    </tr>\n",
       "  </thead>\n",
       "  <tbody>\n",
       "    <tr>\n",
       "      <th>0</th>\n",
       "      <td>RT @z_edian: Unser @snv_berlin Expert:innenwor...</td>\n",
       "      <td>christinacrupp</td>\n",
       "      <td>Bonn, Deutschland</td>\n",
       "      <td>Germany</td>\n",
       "      <td>de</td>\n",
       "      <td>[snvberlin, expertinnenworkshop, staatlich, be...</td>\n",
       "      <td>-0.350000</td>\n",
       "      <td>0.00</td>\n",
       "      <td>negative</td>\n",
       "    </tr>\n",
       "    <tr>\n",
       "      <th>2</th>\n",
       "      <td>RT @michael_adler_: Fing gut an! Bonn braucht ...</td>\n",
       "      <td>joscchh</td>\n",
       "      <td>Bonn, Deutschland</td>\n",
       "      <td>Germany</td>\n",
       "      <td>de</td>\n",
       "      <td>[fing, gut, bonn, braucht, mindshift, autostad...</td>\n",
       "      <td>0.250000</td>\n",
       "      <td>0.25</td>\n",
       "      <td>positive</td>\n",
       "    </tr>\n",
       "    <tr>\n",
       "      <th>4</th>\n",
       "      <td>Gestern haben @Lichtemomente, @askans, @michae...</td>\n",
       "      <td>joscchh</td>\n",
       "      <td>Bonn, Deutschland</td>\n",
       "      <td>Germany</td>\n",
       "      <td>de</td>\n",
       "      <td>[gest, lichtemoment, askan, michaeladl, barbar...</td>\n",
       "      <td>0.000000</td>\n",
       "      <td>0.00</td>\n",
       "      <td>neutral</td>\n",
       "    </tr>\n",
       "    <tr>\n",
       "      <th>5</th>\n",
       "      <td>@VolkerGoebbels Macht Sinn 😏</td>\n",
       "      <td>joscchh</td>\n",
       "      <td>Bonn, Deutschland</td>\n",
       "      <td>Germany</td>\n",
       "      <td>de</td>\n",
       "      <td>[volkergoebbel, macht, sinn]</td>\n",
       "      <td>0.000000</td>\n",
       "      <td>0.00</td>\n",
       "      <td>neutral</td>\n",
       "    </tr>\n",
       "    <tr>\n",
       "      <th>6</th>\n",
       "      <td>@jbrunotte Was waren denn deine Beweggründe da...</td>\n",
       "      <td>joscchh</td>\n",
       "      <td>Bonn, Deutschland</td>\n",
       "      <td>Germany</td>\n",
       "      <td>de</td>\n",
       "      <td>[jbrunott, wa, beweggrund, dafur, spannend, wiss]</td>\n",
       "      <td>0.233333</td>\n",
       "      <td>0.00</td>\n",
       "      <td>positive</td>\n",
       "    </tr>\n",
       "  </tbody>\n",
       "</table>\n",
       "</div>"
      ],
      "text/plain": [
       "                                           TweetText          Handle  \\\n",
       "0  RT @z_edian: Unser @snv_berlin Expert:innenwor...  christinacrupp   \n",
       "2  RT @michael_adler_: Fing gut an! Bonn braucht ...         joscchh   \n",
       "4  Gestern haben @Lichtemomente, @askans, @michae...         joscchh   \n",
       "5                       @VolkerGoebbels Macht Sinn 😏         joscchh   \n",
       "6  @jbrunotte Was waren denn deine Beweggründe da...         joscchh   \n",
       "\n",
       "            Location  Country Language  \\\n",
       "0  Bonn, Deutschland  Germany       de   \n",
       "2  Bonn, Deutschland  Germany       de   \n",
       "4  Bonn, Deutschland  Germany       de   \n",
       "5  Bonn, Deutschland  Germany       de   \n",
       "6  Bonn, Deutschland  Germany       de   \n",
       "\n",
       "                                      text_processed  Polarity  Subjectivity  \\\n",
       "0  [snvberlin, expertinnenworkshop, staatlich, be... -0.350000          0.00   \n",
       "2  [fing, gut, bonn, braucht, mindshift, autostad...  0.250000          0.25   \n",
       "4  [gest, lichtemoment, askan, michaeladl, barbar...  0.000000          0.00   \n",
       "5                       [volkergoebbel, macht, sinn]  0.000000          0.00   \n",
       "6  [jbrunott, wa, beweggrund, dafur, spannend, wiss]  0.233333          0.00   \n",
       "\n",
       "  Sentiment  \n",
       "0  negative  \n",
       "2  positive  \n",
       "4   neutral  \n",
       "5   neutral  \n",
       "6  positive  "
      ]
     },
     "execution_count": 73,
     "metadata": {},
     "output_type": "execute_result"
    }
   ],
   "source": [
    "tweets_de.head()"
   ]
  },
  {
   "cell_type": "code",
   "execution_count": 144,
   "metadata": {},
   "outputs": [
    {
     "data": {
      "image/png": "[encoded data removed]",
      "text/plain": [
       "<Figure size 360x360 with 1 Axes>"
      ]
     },
     "metadata": {},
     "output_type": "display_data"
    }
   ],
   "source": [
    "sns.catplot(x='Sentiment', kind='count', data=tweets_en)\n",
    "plt.title('Sentiment of English Tweets')\n",
    "plt.show()"
   ]
  },
  {
   "cell_type": "code",
   "execution_count": 143,
   "metadata": {},
   "outputs": [
    {
     "data": {
      "image/png": "[encoded data removed]",
      "text/plain": [
       "<Figure size 360x360 with 1 Axes>"
      ]
     },
     "metadata": {},
     "output_type": "display_data"
    }
   ],
   "source": [
    "sns.catplot(x='Sentiment', kind='count', data=tweets_de)\n",
    "plt.title('Sentiment of German Tweets')\n",
    "plt.show()"
   ]
  },
  {
   "cell_type": "markdown",
   "metadata": {},
   "source": [
    "### Re-merge tweets_de and tweets_en dataframes to visualize by LOCATION rather than language. "
   ]
  },
  {
   "cell_type": "code",
   "execution_count": 187,
   "metadata": {},
   "outputs": [
    {
     "name": "stdout",
     "output_type": "stream",
     "text": [
      "4785\n",
      "3073\n"
     ]
    }
   ],
   "source": [
    "print(len(tweets_en))\n",
    "print(len(tweets_de))\n",
    "\n",
    "# Save both en/de dataframes to csv for wordcloud in separate analysis:\n",
    "tweets_en.to_csv('tweets_en.csv')\n",
    "tweets_de.to_csv('tweets_de.csv')"
   ]
  },
  {
   "cell_type": "code",
   "execution_count": 82,
   "metadata": {},
   "outputs": [
    {
     "data": {
      "text/html": [
       "<div>\n",
       "<style scoped>\n",
       "    .dataframe tbody tr th:only-of-type {\n",
       "        vertical-align: middle;\n",
       "    }\n",
       "\n",
       "    .dataframe tbody tr th {\n",
       "        vertical-align: top;\n",
       "    }\n",
       "\n",
       "    .dataframe thead th {\n",
       "        text-align: right;\n",
       "    }\n",
       "</style>\n",
       "<table border=\"1\" class=\"dataframe\">\n",
       "  <thead>\n",
       "    <tr style=\"text-align: right;\">\n",
       "      <th></th>\n",
       "      <th>TweetText</th>\n",
       "      <th>Handle</th>\n",
       "      <th>Location</th>\n",
       "      <th>Country</th>\n",
       "      <th>Language</th>\n",
       "      <th>text_processed</th>\n",
       "      <th>Polarity</th>\n",
       "      <th>Subjectivity</th>\n",
       "      <th>Sentiment</th>\n",
       "    </tr>\n",
       "  </thead>\n",
       "  <tbody>\n",
       "    <tr>\n",
       "      <th>0</th>\n",
       "      <td>RT @rachel_groves: Daily goals: Wake up early....</td>\n",
       "      <td>joscchh</td>\n",
       "      <td>Bonn, Deutschland</td>\n",
       "      <td>Germany</td>\n",
       "      <td>en</td>\n",
       "      <td>[daili, goal, wake, earli, drink, coffe, work,...</td>\n",
       "      <td>0.194048</td>\n",
       "      <td>0.427381</td>\n",
       "      <td>positive</td>\n",
       "    </tr>\n",
       "    <tr>\n",
       "      <th>1</th>\n",
       "      <td>RT @EurAsiaBridgeEU: good topic - well done.</td>\n",
       "      <td>joscchh</td>\n",
       "      <td>Bonn, Deutschland</td>\n",
       "      <td>Germany</td>\n",
       "      <td>en</td>\n",
       "      <td>[good, topic, well, done]</td>\n",
       "      <td>0.700000</td>\n",
       "      <td>0.600000</td>\n",
       "      <td>positive</td>\n",
       "    </tr>\n",
       "    <tr>\n",
       "      <th>2</th>\n",
       "      <td>@jpbrice Life is always precious - every singl...</td>\n",
       "      <td>joscchh</td>\n",
       "      <td>Bonn, Deutschland</td>\n",
       "      <td>Germany</td>\n",
       "      <td>en</td>\n",
       "      <td>[jpbrice, life, alway, precious, everi, singl,...</td>\n",
       "      <td>0.272381</td>\n",
       "      <td>0.609524</td>\n",
       "      <td>positive</td>\n",
       "    </tr>\n",
       "    <tr>\n",
       "      <th>3</th>\n",
       "      <td>@PeterShepherd8 @MYorke27 @ZEReadyOregon Great...</td>\n",
       "      <td>joscchh</td>\n",
       "      <td>Bonn, Deutschland</td>\n",
       "      <td>Germany</td>\n",
       "      <td>en</td>\n",
       "      <td>[petershepherd, myork, zereadyoregon, great, l...</td>\n",
       "      <td>0.200000</td>\n",
       "      <td>0.385417</td>\n",
       "      <td>positive</td>\n",
       "    </tr>\n",
       "    <tr>\n",
       "      <th>4</th>\n",
       "      <td>RT @jpbrice: “You never know how strong you ar...</td>\n",
       "      <td>joscchh</td>\n",
       "      <td>Bonn, Deutschland</td>\n",
       "      <td>Germany</td>\n",
       "      <td>en</td>\n",
       "      <td>[never, know, strong, strong, onli, choic, quo...</td>\n",
       "      <td>0.288889</td>\n",
       "      <td>0.822222</td>\n",
       "      <td>positive</td>\n",
       "    </tr>\n",
       "  </tbody>\n",
       "</table>\n",
       "</div>"
      ],
      "text/plain": [
       "                                           TweetText   Handle  \\\n",
       "0  RT @rachel_groves: Daily goals: Wake up early....  joscchh   \n",
       "1       RT @EurAsiaBridgeEU: good topic - well done.  joscchh   \n",
       "2  @jpbrice Life is always precious - every singl...  joscchh   \n",
       "3  @PeterShepherd8 @MYorke27 @ZEReadyOregon Great...  joscchh   \n",
       "4  RT @jpbrice: “You never know how strong you ar...  joscchh   \n",
       "\n",
       "            Location  Country Language  \\\n",
       "0  Bonn, Deutschland  Germany       en   \n",
       "1  Bonn, Deutschland  Germany       en   \n",
       "2  Bonn, Deutschland  Germany       en   \n",
       "3  Bonn, Deutschland  Germany       en   \n",
       "4  Bonn, Deutschland  Germany       en   \n",
       "\n",
       "                                      text_processed  Polarity  Subjectivity  \\\n",
       "0  [daili, goal, wake, earli, drink, coffe, work,...  0.194048      0.427381   \n",
       "1                          [good, topic, well, done]  0.700000      0.600000   \n",
       "2  [jpbrice, life, alway, precious, everi, singl,...  0.272381      0.609524   \n",
       "3  [petershepherd, myork, zereadyoregon, great, l...  0.200000      0.385417   \n",
       "4  [never, know, strong, strong, onli, choic, quo...  0.288889      0.822222   \n",
       "\n",
       "  Sentiment  \n",
       "0  positive  \n",
       "1  positive  \n",
       "2  positive  \n",
       "3  positive  \n",
       "4  positive  "
      ]
     },
     "execution_count": 82,
     "metadata": {},
     "output_type": "execute_result"
    }
   ],
   "source": [
    "tweets_analysis = pd.concat([tweets_en, tweets_de], ignore_index=True)\n",
    "tweets_analysis.head()"
   ]
  },
  {
   "cell_type": "code",
   "execution_count": 151,
   "metadata": {},
   "outputs": [],
   "source": [
    "# save df to csv:\n",
    "\n",
    "tweets_analysis.to_csv('tweets_analysis.csv')"
   ]
  },
  {
   "cell_type": "code",
   "execution_count": 83,
   "metadata": {},
   "outputs": [
    {
     "data": {
      "text/plain": [
       "Germany    5657\n",
       "USA        2201\n",
       "Name: Country, dtype: int64"
      ]
     },
     "execution_count": 83,
     "metadata": {},
     "output_type": "execute_result"
    }
   ],
   "source": [
    "tweets_analysis['Country'].value_counts()"
   ]
  },
  {
   "cell_type": "code",
   "execution_count": 142,
   "metadata": {},
   "outputs": [
    {
     "data": {
      "image/png": "[encoded data removed]",
      "text/plain": [
       "<Figure size 434x360 with 1 Axes>"
      ]
     },
     "metadata": {},
     "output_type": "display_data"
    }
   ],
   "source": [
    "sns.catplot(x='Country', kind='count', hue='Sentiment', data=tweets_analysis)\n",
    "plt.title('Sentiment of Tweets by Country')\n",
    "plt.show()"
   ]
  },
  {
   "cell_type": "code",
   "execution_count": 147,
   "metadata": {},
   "outputs": [
    {
     "data": {
      "image/png": "[encoded data removed]",
      "text/plain": [
       "<Figure size 437.25x360 with 1 Axes>"
      ]
     },
     "metadata": {},
     "output_type": "display_data"
    }
   ],
   "source": [
    "#### Since absolute numbers aren't telling, maybe look at ratio of positive:total tweets."
   ]
  },
  {
   "cell_type": "code",
   "execution_count": 152,
   "metadata": {},
   "outputs": [
    {
     "data": {
      "text/html": [
       "<div>\n",
       "<style scoped>\n",
       "    .dataframe tbody tr th:only-of-type {\n",
       "        vertical-align: middle;\n",
       "    }\n",
       "\n",
       "    .dataframe tbody tr th {\n",
       "        vertical-align: top;\n",
       "    }\n",
       "\n",
       "    .dataframe thead th {\n",
       "        text-align: right;\n",
       "    }\n",
       "</style>\n",
       "<table border=\"1\" class=\"dataframe\">\n",
       "  <thead>\n",
       "    <tr style=\"text-align: right;\">\n",
       "      <th></th>\n",
       "      <th>Polarity</th>\n",
       "      <th>Subjectivity</th>\n",
       "    </tr>\n",
       "    <tr>\n",
       "      <th>Country</th>\n",
       "      <th></th>\n",
       "      <th></th>\n",
       "    </tr>\n",
       "  </thead>\n",
       "  <tbody>\n",
       "    <tr>\n",
       "      <th>Germany</th>\n",
       "      <td>0.121135</td>\n",
       "      <td>0.184249</td>\n",
       "    </tr>\n",
       "    <tr>\n",
       "      <th>USA</th>\n",
       "      <td>0.130225</td>\n",
       "      <td>0.329216</td>\n",
       "    </tr>\n",
       "  </tbody>\n",
       "</table>\n",
       "</div>"
      ],
      "text/plain": [
       "         Polarity  Subjectivity\n",
       "Country                        \n",
       "Germany  0.121135      0.184249\n",
       "USA      0.130225      0.329216"
      ]
     },
     "execution_count": 152,
     "metadata": {},
     "output_type": "execute_result"
    }
   ],
   "source": [
    "# Try Groupby country:\n",
    "tweets_analysis.groupby(['Country']).mean()"
   ]
  },
  {
   "cell_type": "code",
   "execution_count": 166,
   "metadata": {},
   "outputs": [
    {
     "data": {
      "text/html": [
       "<div>\n",
       "<style scoped>\n",
       "    .dataframe tbody tr th:only-of-type {\n",
       "        vertical-align: middle;\n",
       "    }\n",
       "\n",
       "    .dataframe tbody tr th {\n",
       "        vertical-align: top;\n",
       "    }\n",
       "\n",
       "    .dataframe thead th {\n",
       "        text-align: right;\n",
       "    }\n",
       "</style>\n",
       "<table border=\"1\" class=\"dataframe\">\n",
       "  <thead>\n",
       "    <tr style=\"text-align: right;\">\n",
       "      <th></th>\n",
       "      <th></th>\n",
       "      <th>Polarity</th>\n",
       "      <th>Subjectivity</th>\n",
       "    </tr>\n",
       "    <tr>\n",
       "      <th>Country</th>\n",
       "      <th>Sentiment</th>\n",
       "      <th></th>\n",
       "      <th></th>\n",
       "    </tr>\n",
       "  </thead>\n",
       "  <tbody>\n",
       "    <tr>\n",
       "      <th rowspan=\"3\" valign=\"top\">Germany</th>\n",
       "      <th>negative</th>\n",
       "      <td>-0.327307</td>\n",
       "      <td>0.280963</td>\n",
       "    </tr>\n",
       "    <tr>\n",
       "      <th>neutral</th>\n",
       "      <td>0.000000</td>\n",
       "      <td>0.061067</td>\n",
       "    </tr>\n",
       "    <tr>\n",
       "      <th>positive</th>\n",
       "      <td>0.423655</td>\n",
       "      <td>0.339839</td>\n",
       "    </tr>\n",
       "    <tr>\n",
       "      <th rowspan=\"3\" valign=\"top\">USA</th>\n",
       "      <th>negative</th>\n",
       "      <td>-0.249869</td>\n",
       "      <td>0.473030</td>\n",
       "    </tr>\n",
       "    <tr>\n",
       "      <th>neutral</th>\n",
       "      <td>0.000000</td>\n",
       "      <td>0.075920</td>\n",
       "    </tr>\n",
       "    <tr>\n",
       "      <th>positive</th>\n",
       "      <td>0.359433</td>\n",
       "      <td>0.527945</td>\n",
       "    </tr>\n",
       "  </tbody>\n",
       "</table>\n",
       "</div>"
      ],
      "text/plain": [
       "                   Polarity  Subjectivity\n",
       "Country Sentiment                        \n",
       "Germany negative  -0.327307      0.280963\n",
       "        neutral    0.000000      0.061067\n",
       "        positive   0.423655      0.339839\n",
       "USA     negative  -0.249869      0.473030\n",
       "        neutral    0.000000      0.075920\n",
       "        positive   0.359433      0.527945"
      ]
     },
     "execution_count": 166,
     "metadata": {},
     "output_type": "execute_result"
    }
   ],
   "source": [
    "grouped_country = tweets_analysis.groupby(['Country', 'Sentiment']).mean()\n",
    "grouped_country"
   ]
  },
  {
   "cell_type": "code",
   "execution_count": 185,
   "metadata": {},
   "outputs": [
    {
     "data": {
      "text/plain": [
       "<matplotlib.axes._subplots.AxesSubplot at 0x1352e2100>"
      ]
     },
     "execution_count": 185,
     "metadata": {},
     "output_type": "execute_result"
    },
    {
     "data": {
      "image/png": "[encoded data removed]",
      "text/plain": [
       "<Figure size 432x288 with 1 Axes>"
      ]
     },
     "metadata": {},
     "output_type": "display_data"
    }
   ],
   "source": [
    "sns.distplot(tweets_analysis['Subjectivity'])\n",
    "# Somehow exclude values of 0 from the graph"
   ]
  },
  {
   "cell_type": "code",
   "execution_count": null,
   "metadata": {},
   "outputs": [],
   "source": [
    "# Try different seaborn palette: Set3, YlGnBu, bwr_r, cool, hsv, seismic_r, winter, winter_r, Accent_r"
   ]
  },
  {
   "cell_type": "code",
   "execution_count": 186,
   "metadata": {},
   "outputs": [],
   "source": [
    "sns.distplot?"
   ]
  },
  {
   "cell_type": "code",
   "execution_count": null,
   "metadata": {},
   "outputs": [],
   "source": []
  }
 ],
 "metadata": {
  "kernelspec": {
   "display_name": "Python 3",
   "language": "python",
   "name": "python3"
  },
  "language_info": {
   "codemirror_mode": {
    "name": "ipython",
    "version": 3
   },
   "file_extension": ".py",
   "mimetype": "text/x-python",
   "name": "python",
   "nbconvert_exporter": "python",
   "pygments_lexer": "ipython3",
   "version": "3.8.3"
  }
 },
 "nbformat": 4,
 "nbformat_minor": 4
}
